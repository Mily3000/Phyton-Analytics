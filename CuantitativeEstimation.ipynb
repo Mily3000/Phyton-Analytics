{
 "cells": [
  {
   "cell_type": "markdown",
   "metadata": {},
   "source": [
    "## Regresión Lineal\n",
    "\n",
    "## $$h_\\beta(x) = \\beta_0 + \\beta_1x_1 + \\beta_2x_2 + ... + \\beta_nx_n$$\n",
    "\n",
    "- $h_\\beta(x)$ es la respuesta\n",
    "- $\\beta_0$ es el intercepto\n",
    "- $\\beta_1$ coeficiente para $x_1$ (el primer feature)\n",
    "- $\\beta_n$ coeficiente para $x_n$ (el nth feature)\n",
    "\n",
    "Los valores $\\beta$ con llamados **model coefficients**:\n",
    "\n",
    "- Estos valores se obtienen en el entramiento del algoritmo a través de la técnica Mínimos Cuadrados o **least squares criterion**.\n",
    "- La línea de estimación que se encuentra reduce la suma de cuadrados del erro **sum of squared residuals**.\n",
    "- Con los coeficientes se puede hacer la estimación.\n",
    "\n",
    "![Estimating coefficients](https://raw.githubusercontent.com/justmarkham/DAT8/master/notebooks/images/estimating_coefficients.png)\n",
    "\n",
    "In the diagram above:\n",
    "\n",
    "- Los puntos negros son los valores observados **observed values** of x and y.\n",
    "- La línea azul es la línea de estimación de Mínimos Cuadrados **least squares line**.\n",
    "- Las líneas rojas son los errores **residuals**, es la distancia entre la línea de estimación y los valores observados."
   ]
  },
  {
   "cell_type": "markdown",
   "metadata": {},
   "source": [
    "### Regresión Lineal en práctica"
   ]
  },
  {
   "cell_type": "markdown",
   "metadata": {},
   "source": [
    "Librerías necesarias"
   ]
  },
  {
   "cell_type": "code",
   "execution_count": 2,
   "metadata": {},
   "outputs": [
    {
     "name": "stderr",
     "output_type": "stream",
     "text": [
      "C:\\ProgramData\\Anaconda3\\lib\\site-packages\\sklearn\\cross_validation.py:44: DeprecationWarning: This module was deprecated in version 0.18 in favor of the model_selection module into which all the refactored classes and functions are moved. Also note that the interface of the new CV iterators are different from that of this module. This module will be removed in 0.20.\n",
      "  \"This module will be removed in 0.20.\", DeprecationWarning)\n"
     ]
    }
   ],
   "source": [
    "%matplotlib inline\n",
    "import numpy as np\n",
    "import pandas as pd\n",
    "from scipy import stats\n",
    "import matplotlib.pyplot as plt\n",
    "from sklearn import linear_model,cross_validation, feature_selection,preprocessing\n",
    "import statsmodels.formula.api as sm\n",
    "from statsmodels.tools.eval_measures import mse\n",
    "from statsmodels.tools.tools import add_constant\n",
    "from sklearn.metrics import mean_squared_error"
   ]
  },
  {
   "cell_type": "markdown",
   "metadata": {},
   "source": [
    "### Regresión Lineal Simple"
   ]
  },
  {
   "cell_type": "markdown",
   "metadata": {},
   "source": [
    "En los siguientes datos tenemos la altura y el peso de un conjunto de personas."
   ]
  },
  {
   "cell_type": "code",
   "execution_count": 3,
   "metadata": {
    "collapsed": true
   },
   "outputs": [],
   "source": [
    "plt.style.use('ggplot')"
   ]
  },
  {
   "cell_type": "code",
   "execution_count": 4,
   "metadata": {
    "collapsed": true
   },
   "outputs": [],
   "source": [
    "sl_data = pd.read_csv('Mens_height_weight.csv')"
   ]
  },
  {
   "cell_type": "markdown",
   "metadata": {},
   "source": [
    "Gráfico de dispersión de la altura y el peso"
   ]
  },
  {
   "cell_type": "code",
   "execution_count": 5,
   "metadata": {},
   "outputs": [
    {
     "data": {
      "image/png": "[encoded data removed]",
      "text/plain": [
       "<matplotlib.figure.Figure at 0xc3e7d30>"
      ]
     },
     "metadata": {},
     "output_type": "display_data"
    }
   ],
   "source": [
    "fig, ax = plt.subplots(1,1)  \n",
    "ax.scatter(sl_data['Height'],sl_data['Weight'])\n",
    "ax.set_xlabel('Height')\n",
    "ax.set_ylabel('Weight')\n",
    "plt.show()"
   ]
  },
  {
   "cell_type": "code",
   "execution_count": 6,
   "metadata": {},
   "outputs": [
    {
     "data": {
      "text/html": [
       "<div>\n",
       "<style>\n",
       "    .dataframe thead tr:only-child th {\n",
       "        text-align: right;\n",
       "    }\n",
       "\n",
       "    .dataframe thead th {\n",
       "        text-align: left;\n",
       "    }\n",
       "\n",
       "    .dataframe tbody tr th {\n",
       "        vertical-align: top;\n",
       "    }\n",
       "</style>\n",
       "<table border=\"1\" class=\"dataframe\">\n",
       "  <thead>\n",
       "    <tr style=\"text-align: right;\">\n",
       "      <th></th>\n",
       "      <th>Height</th>\n",
       "      <th>Weight</th>\n",
       "    </tr>\n",
       "  </thead>\n",
       "  <tbody>\n",
       "    <tr>\n",
       "      <th>Height</th>\n",
       "      <td>1.000000</td>\n",
       "      <td>0.942603</td>\n",
       "    </tr>\n",
       "    <tr>\n",
       "      <th>Weight</th>\n",
       "      <td>0.942603</td>\n",
       "      <td>1.000000</td>\n",
       "    </tr>\n",
       "  </tbody>\n",
       "</table>\n",
       "</div>"
      ],
      "text/plain": [
       "          Height    Weight\n",
       "Height  1.000000  0.942603\n",
       "Weight  0.942603  1.000000"
      ]
     },
     "execution_count": 6,
     "metadata": {},
     "output_type": "execute_result"
    }
   ],
   "source": [
    "sl_data.corr()"
   ]
  },
  {
   "cell_type": "markdown",
   "metadata": {},
   "source": [
    "Aplicamos la regresión lineal.\n",
    "\n",
    "Weight: es la variable dependiente (X).\n",
    "\n",
    "Height: es la variable independiente (Y)."
   ]
  },
  {
   "cell_type": "code",
   "execution_count": 7,
   "metadata": {},
   "outputs": [
    {
     "name": "stdout",
     "output_type": "stream",
     "text": [
      "Intercept is -99.2772096063\n",
      "Coefficient value of the height is [ 1.00092142]\n"
     ]
    }
   ],
   "source": [
    "# Create linear regression object\n",
    "lm = linear_model.LinearRegression()\n",
    "\n",
    "# Train the model using the training sets\n",
    "lm.fit(sl_data.Height[:,np.newaxis], sl_data.Weight)\n",
    "\n",
    "\n",
    "print ('Intercept is ' + str(lm.intercept_))\n",
    "\n",
    "print ('Coefficient value of the height is ' + str(lm.coef_))"
   ]
  },
  {
   "cell_type": "markdown",
   "metadata": {},
   "source": [
    "Graficamos la línea de regresión en la gráfica de dispersión"
   ]
  },
  {
   "cell_type": "code",
   "execution_count": 8,
   "metadata": {},
   "outputs": [
    {
     "data": {
      "text/plain": [
       "array([[179],\n",
       "       [177],\n",
       "       [164],\n",
       "       [181],\n",
       "       [186],\n",
       "       [162],\n",
       "       [159],\n",
       "       [155],\n",
       "       [158],\n",
       "       [151],\n",
       "       [150],\n",
       "       [157],\n",
       "       [176],\n",
       "       [163],\n",
       "       [190],\n",
       "       [169],\n",
       "       [160],\n",
       "       [171],\n",
       "       [165],\n",
       "       [182],\n",
       "       [179],\n",
       "       [157],\n",
       "       [159],\n",
       "       [151],\n",
       "       [168],\n",
       "       [184],\n",
       "       [173],\n",
       "       [159],\n",
       "       [181],\n",
       "       [190],\n",
       "       [157],\n",
       "       [169],\n",
       "       [177],\n",
       "       [171],\n",
       "       [160],\n",
       "       [173],\n",
       "       [183],\n",
       "       [169],\n",
       "       [179],\n",
       "       [150],\n",
       "       [170],\n",
       "       [179],\n",
       "       [158],\n",
       "       [155],\n",
       "       [152],\n",
       "       [157],\n",
       "       [174],\n",
       "       [162],\n",
       "       [179]], dtype=int64)"
      ]
     },
     "execution_count": 8,
     "metadata": {},
     "output_type": "execute_result"
    }
   ],
   "source": [
    "sl_data.Height[:, np.newaxis]\n",
    "#sl_data.Height"
   ]
  },
  {
   "cell_type": "code",
   "execution_count": 9,
   "metadata": {},
   "outputs": [
    {
     "data": {
      "image/png": "[encoded data removed]",
      "text/plain": [
       "<matplotlib.figure.Figure at 0xc4907f0>"
      ]
     },
     "metadata": {},
     "output_type": "display_data"
    }
   ],
   "source": [
    "fig, ax = plt.subplots(1, 1)  \n",
    "ax.scatter(sl_data.Height,sl_data.Weight)\n",
    "ax.plot(sl_data.Height,lm.predict(sl_data.Height[:, np.newaxis]), color = 'green')\n",
    "ax.set_xlabel('Height')\n",
    "ax.set_ylabel('Weight')\n",
    "plt.show()\n"
   ]
  },
  {
   "cell_type": "markdown",
   "metadata": {},
   "source": [
    "## Regresión Múltiple"
   ]
  },
  {
   "cell_type": "markdown",
   "metadata": {},
   "source": [
    "Usaremos datos de la NBA.\n",
    "\n",
    "1. height = altura en pies\n",
    "2. weight = peso en libras\n",
    "3. success_field_goals = % de partidos exitosos (out of 100 attempted)\n",
    "4. success_free_throws = % de tiros libres exitosos (out of 100 attempted)\n",
    "5. avg_points_scored = promedio de puntos por partido jugado."
   ]
  },
  {
   "cell_type": "code",
   "execution_count": 3,
   "metadata": {
    "scrolled": true
   },
   "outputs": [
    {
     "data": {
      "text/html": [
       "<div>\n",
       "<style>\n",
       "    .dataframe thead tr:only-child th {\n",
       "        text-align: right;\n",
       "    }\n",
       "\n",
       "    .dataframe thead th {\n",
       "        text-align: left;\n",
       "    }\n",
       "\n",
       "    .dataframe tbody tr th {\n",
       "        vertical-align: top;\n",
       "    }\n",
       "</style>\n",
       "<table border=\"1\" class=\"dataframe\">\n",
       "  <thead>\n",
       "    <tr style=\"text-align: right;\">\n",
       "      <th></th>\n",
       "      <th>height</th>\n",
       "      <th>weight</th>\n",
       "      <th>success_field_goals</th>\n",
       "      <th>success_free_throws</th>\n",
       "      <th>avg_points_scored</th>\n",
       "    </tr>\n",
       "  </thead>\n",
       "  <tbody>\n",
       "    <tr>\n",
       "      <th>count</th>\n",
       "      <td>54.000000</td>\n",
       "      <td>54.000000</td>\n",
       "      <td>54.000000</td>\n",
       "      <td>54.000000</td>\n",
       "      <td>54.000000</td>\n",
       "    </tr>\n",
       "    <tr>\n",
       "      <th>mean</th>\n",
       "      <td>6.587037</td>\n",
       "      <td>209.907407</td>\n",
       "      <td>0.449111</td>\n",
       "      <td>0.741852</td>\n",
       "      <td>11.790741</td>\n",
       "    </tr>\n",
       "    <tr>\n",
       "      <th>std</th>\n",
       "      <td>0.458894</td>\n",
       "      <td>30.265036</td>\n",
       "      <td>0.056551</td>\n",
       "      <td>0.100146</td>\n",
       "      <td>5.899257</td>\n",
       "    </tr>\n",
       "    <tr>\n",
       "      <th>min</th>\n",
       "      <td>5.700000</td>\n",
       "      <td>105.000000</td>\n",
       "      <td>0.291000</td>\n",
       "      <td>0.244000</td>\n",
       "      <td>2.800000</td>\n",
       "    </tr>\n",
       "    <tr>\n",
       "      <th>25%</th>\n",
       "      <td>6.225000</td>\n",
       "      <td>185.000000</td>\n",
       "      <td>0.415250</td>\n",
       "      <td>0.713000</td>\n",
       "      <td>8.150000</td>\n",
       "    </tr>\n",
       "    <tr>\n",
       "      <th>50%</th>\n",
       "      <td>6.650000</td>\n",
       "      <td>212.500000</td>\n",
       "      <td>0.443500</td>\n",
       "      <td>0.753500</td>\n",
       "      <td>10.750000</td>\n",
       "    </tr>\n",
       "    <tr>\n",
       "      <th>75%</th>\n",
       "      <td>6.900000</td>\n",
       "      <td>235.000000</td>\n",
       "      <td>0.483500</td>\n",
       "      <td>0.795250</td>\n",
       "      <td>13.600000</td>\n",
       "    </tr>\n",
       "    <tr>\n",
       "      <th>max</th>\n",
       "      <td>7.600000</td>\n",
       "      <td>263.000000</td>\n",
       "      <td>0.599000</td>\n",
       "      <td>0.900000</td>\n",
       "      <td>27.400000</td>\n",
       "    </tr>\n",
       "  </tbody>\n",
       "</table>\n",
       "</div>"
      ],
      "text/plain": [
       "          height      weight  success_field_goals  success_free_throws  \\\n",
       "count  54.000000   54.000000            54.000000            54.000000   \n",
       "mean    6.587037  209.907407             0.449111             0.741852   \n",
       "std     0.458894   30.265036             0.056551             0.100146   \n",
       "min     5.700000  105.000000             0.291000             0.244000   \n",
       "25%     6.225000  185.000000             0.415250             0.713000   \n",
       "50%     6.650000  212.500000             0.443500             0.753500   \n",
       "75%     6.900000  235.000000             0.483500             0.795250   \n",
       "max     7.600000  263.000000             0.599000             0.900000   \n",
       "\n",
       "       avg_points_scored  \n",
       "count          54.000000  \n",
       "mean           11.790741  \n",
       "std             5.899257  \n",
       "min             2.800000  \n",
       "25%             8.150000  \n",
       "50%            10.750000  \n",
       "75%            13.600000  \n",
       "max            27.400000  "
      ]
     },
     "execution_count": 3,
     "metadata": {},
     "output_type": "execute_result"
    }
   ],
   "source": [
    "b_data = pd.read_csv('basketball.csv')\n",
    "\n",
    "b_data.describe()"
   ]
  },
  {
   "cell_type": "code",
   "execution_count": 85,
   "metadata": {},
   "outputs": [
    {
     "data": {
      "text/html": [
       "<div>\n",
       "<style>\n",
       "    .dataframe thead tr:only-child th {\n",
       "        text-align: right;\n",
       "    }\n",
       "\n",
       "    .dataframe thead th {\n",
       "        text-align: left;\n",
       "    }\n",
       "\n",
       "    .dataframe tbody tr th {\n",
       "        vertical-align: top;\n",
       "    }\n",
       "</style>\n",
       "<table border=\"1\" class=\"dataframe\">\n",
       "  <thead>\n",
       "    <tr style=\"text-align: right;\">\n",
       "      <th></th>\n",
       "      <th>height</th>\n",
       "      <th>weight</th>\n",
       "      <th>success_field_goals</th>\n",
       "      <th>success_free_throws</th>\n",
       "      <th>avg_points_scored</th>\n",
       "    </tr>\n",
       "  </thead>\n",
       "  <tbody>\n",
       "    <tr>\n",
       "      <th>height</th>\n",
       "      <td>1.000000</td>\n",
       "      <td>0.834324</td>\n",
       "      <td>0.495546</td>\n",
       "      <td>-0.259271</td>\n",
       "      <td>-0.068906</td>\n",
       "    </tr>\n",
       "    <tr>\n",
       "      <th>weight</th>\n",
       "      <td>0.834324</td>\n",
       "      <td>1.000000</td>\n",
       "      <td>0.516051</td>\n",
       "      <td>-0.290159</td>\n",
       "      <td>-0.009844</td>\n",
       "    </tr>\n",
       "    <tr>\n",
       "      <th>success_field_goals</th>\n",
       "      <td>0.495546</td>\n",
       "      <td>0.516051</td>\n",
       "      <td>1.000000</td>\n",
       "      <td>-0.018570</td>\n",
       "      <td>0.338760</td>\n",
       "    </tr>\n",
       "    <tr>\n",
       "      <th>success_free_throws</th>\n",
       "      <td>-0.259271</td>\n",
       "      <td>-0.290159</td>\n",
       "      <td>-0.018570</td>\n",
       "      <td>1.000000</td>\n",
       "      <td>0.244852</td>\n",
       "    </tr>\n",
       "    <tr>\n",
       "      <th>avg_points_scored</th>\n",
       "      <td>-0.068906</td>\n",
       "      <td>-0.009844</td>\n",
       "      <td>0.338760</td>\n",
       "      <td>0.244852</td>\n",
       "      <td>1.000000</td>\n",
       "    </tr>\n",
       "  </tbody>\n",
       "</table>\n",
       "</div>"
      ],
      "text/plain": [
       "                       height    weight  success_field_goals  \\\n",
       "height               1.000000  0.834324             0.495546   \n",
       "weight               0.834324  1.000000             0.516051   \n",
       "success_field_goals  0.495546  0.516051             1.000000   \n",
       "success_free_throws -0.259271 -0.290159            -0.018570   \n",
       "avg_points_scored   -0.068906 -0.009844             0.338760   \n",
       "\n",
       "                     success_free_throws  avg_points_scored  \n",
       "height                         -0.259271          -0.068906  \n",
       "weight                         -0.290159          -0.009844  \n",
       "success_field_goals            -0.018570           0.338760  \n",
       "success_free_throws             1.000000           0.244852  \n",
       "avg_points_scored               0.244852           1.000000  "
      ]
     },
     "execution_count": 85,
     "metadata": {},
     "output_type": "execute_result"
    }
   ],
   "source": [
    "b_data.corr()"
   ]
  },
  {
   "cell_type": "code",
   "execution_count": 86,
   "metadata": {},
   "outputs": [
    {
     "data": {
      "text/plain": [
       "height               height                 1.000000\n",
       "                     weight                 0.834324\n",
       "                     success_field_goals    0.495546\n",
       "                     success_free_throws   -0.259271\n",
       "                     avg_points_scored     -0.068906\n",
       "weight               height                 0.834324\n",
       "                     weight                 1.000000\n",
       "                     success_field_goals    0.516051\n",
       "                     success_free_throws   -0.290159\n",
       "                     avg_points_scored     -0.009844\n",
       "success_field_goals  height                 0.495546\n",
       "                     weight                 0.516051\n",
       "                     success_field_goals    1.000000\n",
       "                     success_free_throws   -0.018570\n",
       "                     avg_points_scored      0.338760\n",
       "success_free_throws  height                -0.259271\n",
       "                     weight                -0.290159\n",
       "                     success_field_goals   -0.018570\n",
       "                     success_free_throws    1.000000\n",
       "                     avg_points_scored      0.244852\n",
       "avg_points_scored    height                -0.068906\n",
       "                     weight                -0.009844\n",
       "                     success_field_goals    0.338760\n",
       "                     success_free_throws    0.244852\n",
       "                     avg_points_scored      1.000000\n",
       "dtype: float64"
      ]
     },
     "execution_count": 86,
     "metadata": {},
     "output_type": "execute_result"
    }
   ],
   "source": [
    "b_data.corr().unstack()"
   ]
  },
  {
   "cell_type": "code",
   "execution_count": 87,
   "metadata": {},
   "outputs": [
    {
     "data": {
      "text/plain": [
       "height               weight                 0.834324\n",
       "                     success_field_goals    0.495546\n",
       "                     success_free_throws   -0.259271\n",
       "                     avg_points_scored     -0.068906\n",
       "weight               height                 0.834324\n",
       "                     success_field_goals    0.516051\n",
       "                     success_free_throws   -0.290159\n",
       "                     avg_points_scored     -0.009844\n",
       "success_field_goals  height                 0.495546\n",
       "                     weight                 0.516051\n",
       "                     success_free_throws   -0.018570\n",
       "                     avg_points_scored      0.338760\n",
       "success_free_throws  height                -0.259271\n",
       "                     weight                -0.290159\n",
       "                     success_field_goals   -0.018570\n",
       "                     avg_points_scored      0.244852\n",
       "avg_points_scored    height                -0.068906\n",
       "                     weight                -0.009844\n",
       "                     success_field_goals    0.338760\n",
       "                     success_free_throws    0.244852\n",
       "dtype: float64"
      ]
     },
     "execution_count": 87,
     "metadata": {},
     "output_type": "execute_result"
    }
   ],
   "source": [
    "df_corr = b_data.corr().unstack()\n",
    "df_corr = df_corr[df_corr<1]\n",
    "df_corr.sort_values(ascending=False)\n",
    "df_corr"
   ]
  },
  {
   "cell_type": "markdown",
   "metadata": {},
   "source": [
    "La variable que me interesa estimar es el promedio de puntos por partido jugado."
   ]
  },
  {
   "cell_type": "code",
   "execution_count": 88,
   "metadata": {},
   "outputs": [
    {
     "data": {
      "text/plain": [
       "Index(['height', 'weight', 'success_field_goals', 'success_free_throws',\n",
       "       'avg_points_scored'],\n",
       "      dtype='object')"
      ]
     },
     "execution_count": 88,
     "metadata": {},
     "output_type": "execute_result"
    }
   ],
   "source": [
    "b_data.columns"
   ]
  },
  {
   "cell_type": "code",
   "execution_count": 89,
   "metadata": {},
   "outputs": [
    {
     "data": {
      "text/plain": [
       "Index(['height', 'weight', 'success_field_goals', 'success_free_throws'], dtype='object')"
      ]
     },
     "execution_count": 89,
     "metadata": {},
     "output_type": "execute_result"
    }
   ],
   "source": [
    "b_data.columns[:-1]"
   ]
  },
  {
   "cell_type": "code",
   "execution_count": 90,
   "metadata": {},
   "outputs": [
    {
     "data": {
      "image/png": "[encoded data removed]",
      "text/plain": [
       "<matplotlib.figure.Figure at 0xd325668>"
      ]
     },
     "metadata": {},
     "output_type": "display_data"
    },
    {
     "data": {
      "image/png": "[encoded data removed]",
      "text/plain": [
       "<matplotlib.figure.Figure at 0xd332e10>"
      ]
     },
     "metadata": {},
     "output_type": "display_data"
    },
    {
     "data": {
      "image/png": "[encoded data removed]",
      "text/plain": [
       "<matplotlib.figure.Figure at 0xd2154a8>"
      ]
     },
     "metadata": {},
     "output_type": "display_data"
    },
    {
     "data": {
      "image/png": "[encoded data removed]",
      "text/plain": [
       "<matplotlib.figure.Figure at 0xd34dac8>"
      ]
     },
     "metadata": {},
     "output_type": "display_data"
    }
   ],
   "source": [
    "X_columns = b_data.columns[:-1]\n",
    "\n",
    "for i in X_columns:\n",
    "    fig, ax = plt.subplots(1, 1)  \n",
    "    ax.scatter(b_data[i], b_data.avg_points_scored)\n",
    "    ax.set_xlabel(i)\n",
    "    ax.set_ylabel('Average points scored per game')\n",
    "    plt.show()"
   ]
  },
  {
   "cell_type": "markdown",
   "metadata": {},
   "source": [
    "Analizamos la correlación entre las variables"
   ]
  },
  {
   "cell_type": "code",
   "execution_count": 91,
   "metadata": {},
   "outputs": [
    {
     "data": {
      "text/html": [
       "<div>\n",
       "<style>\n",
       "    .dataframe thead tr:only-child th {\n",
       "        text-align: right;\n",
       "    }\n",
       "\n",
       "    .dataframe thead th {\n",
       "        text-align: left;\n",
       "    }\n",
       "\n",
       "    .dataframe tbody tr th {\n",
       "        vertical-align: top;\n",
       "    }\n",
       "</style>\n",
       "<table border=\"1\" class=\"dataframe\">\n",
       "  <thead>\n",
       "    <tr style=\"text-align: right;\">\n",
       "      <th></th>\n",
       "      <th>height</th>\n",
       "      <th>weight</th>\n",
       "      <th>success_field_goals</th>\n",
       "      <th>success_free_throws</th>\n",
       "      <th>avg_points_scored</th>\n",
       "    </tr>\n",
       "  </thead>\n",
       "  <tbody>\n",
       "    <tr>\n",
       "      <th>height</th>\n",
       "      <td>1.000000</td>\n",
       "      <td>0.834324</td>\n",
       "      <td>0.495546</td>\n",
       "      <td>-0.259271</td>\n",
       "      <td>-0.068906</td>\n",
       "    </tr>\n",
       "    <tr>\n",
       "      <th>weight</th>\n",
       "      <td>0.834324</td>\n",
       "      <td>1.000000</td>\n",
       "      <td>0.516051</td>\n",
       "      <td>-0.290159</td>\n",
       "      <td>-0.009844</td>\n",
       "    </tr>\n",
       "    <tr>\n",
       "      <th>success_field_goals</th>\n",
       "      <td>0.495546</td>\n",
       "      <td>0.516051</td>\n",
       "      <td>1.000000</td>\n",
       "      <td>-0.018570</td>\n",
       "      <td>0.338760</td>\n",
       "    </tr>\n",
       "    <tr>\n",
       "      <th>success_free_throws</th>\n",
       "      <td>-0.259271</td>\n",
       "      <td>-0.290159</td>\n",
       "      <td>-0.018570</td>\n",
       "      <td>1.000000</td>\n",
       "      <td>0.244852</td>\n",
       "    </tr>\n",
       "    <tr>\n",
       "      <th>avg_points_scored</th>\n",
       "      <td>-0.068906</td>\n",
       "      <td>-0.009844</td>\n",
       "      <td>0.338760</td>\n",
       "      <td>0.244852</td>\n",
       "      <td>1.000000</td>\n",
       "    </tr>\n",
       "  </tbody>\n",
       "</table>\n",
       "</div>"
      ],
      "text/plain": [
       "                       height    weight  success_field_goals  \\\n",
       "height               1.000000  0.834324             0.495546   \n",
       "weight               0.834324  1.000000             0.516051   \n",
       "success_field_goals  0.495546  0.516051             1.000000   \n",
       "success_free_throws -0.259271 -0.290159            -0.018570   \n",
       "avg_points_scored   -0.068906 -0.009844             0.338760   \n",
       "\n",
       "                     success_free_throws  avg_points_scored  \n",
       "height                         -0.259271          -0.068906  \n",
       "weight                         -0.290159          -0.009844  \n",
       "success_field_goals            -0.018570           0.338760  \n",
       "success_free_throws             1.000000           0.244852  \n",
       "avg_points_scored               0.244852           1.000000  "
      ]
     },
     "execution_count": 91,
     "metadata": {},
     "output_type": "execute_result"
    }
   ],
   "source": [
    "b_data.corr()"
   ]
  },
  {
   "cell_type": "markdown",
   "metadata": {},
   "source": [
    "Partimos los datos en entrenamiento y validación para evitar el sobreajuste."
   ]
  },
  {
   "cell_type": "code",
   "execution_count": 92,
   "metadata": {},
   "outputs": [
    {
     "data": {
      "text/plain": [
       "array([[   6.8  ,  225.   ,    0.442,    0.672,    9.2  ],\n",
       "       [   6.3  ,  180.   ,    0.435,    0.797,   11.7  ],\n",
       "       [   6.4  ,  190.   ,    0.456,    0.761,   15.8  ],\n",
       "       [   6.2  ,  180.   ,    0.416,    0.651,    8.6  ],\n",
       "       [   6.9  ,  205.   ,    0.449,    0.9  ,   23.2  ],\n",
       "       [   6.4  ,  225.   ,    0.431,    0.78 ,   27.4  ]])"
      ]
     },
     "execution_count": 92,
     "metadata": {},
     "output_type": "execute_result"
    }
   ],
   "source": [
    "X = b_data.values.copy() \n",
    "X[0:6,:]"
   ]
  },
  {
   "cell_type": "code",
   "execution_count": 93,
   "metadata": {},
   "outputs": [
    {
     "data": {
      "text/plain": [
       "array([[   6.8  ,  225.   ,    0.442,    0.672],\n",
       "       [   6.3  ,  180.   ,    0.435,    0.797],\n",
       "       [   6.4  ,  190.   ,    0.456,    0.761],\n",
       "       [   6.2  ,  180.   ,    0.416,    0.651],\n",
       "       [   6.9  ,  205.   ,    0.449,    0.9  ],\n",
       "       [   6.4  ,  225.   ,    0.431,    0.78 ]])"
      ]
     },
     "execution_count": 93,
     "metadata": {},
     "output_type": "execute_result"
    }
   ],
   "source": [
    "X[0:6, :-1]"
   ]
  },
  {
   "cell_type": "code",
   "execution_count": 94,
   "metadata": {
    "collapsed": true
   },
   "outputs": [],
   "source": [
    "X_train, X_valid, y_train, y_valid = cross_validation.train_test_split( X[:, :-1], X[:, -1], train_size=0.80, random_state=666)"
   ]
  },
  {
   "cell_type": "markdown",
   "metadata": {},
   "source": [
    "Generamos el modelo con la ayuda de la librería Statmodels"
   ]
  },
  {
   "cell_type": "code",
   "execution_count": 95,
   "metadata": {},
   "outputs": [
    {
     "data": {
      "text/html": [
       "<table class=\"simpletable\">\n",
       "<caption>OLS Regression Results</caption>\n",
       "<tr>\n",
       "  <th>Dep. Variable:</th>            <td>y</td>        <th>  R-squared:         </th> <td>   0.269</td>\n",
       "</tr>\n",
       "<tr>\n",
       "  <th>Model:</th>                   <td>OLS</td>       <th>  Adj. R-squared:    </th> <td>   0.192</td>\n",
       "</tr>\n",
       "<tr>\n",
       "  <th>Method:</th>             <td>Least Squares</td>  <th>  F-statistic:       </th> <td>   3.495</td>\n",
       "</tr>\n",
       "<tr>\n",
       "  <th>Date:</th>             <td>Sat, 10 Jun 2017</td> <th>  Prob (F-statistic):</th>  <td>0.0159</td> \n",
       "</tr>\n",
       "<tr>\n",
       "  <th>Time:</th>                 <td>14:10:21</td>     <th>  Log-Likelihood:    </th> <td> -129.43</td>\n",
       "</tr>\n",
       "<tr>\n",
       "  <th>No. Observations:</th>      <td>    43</td>      <th>  AIC:               </th> <td>   268.9</td>\n",
       "</tr>\n",
       "<tr>\n",
       "  <th>Df Residuals:</th>          <td>    38</td>      <th>  BIC:               </th> <td>   277.7</td>\n",
       "</tr>\n",
       "<tr>\n",
       "  <th>Df Model:</th>              <td>     4</td>      <th>                     </th>     <td> </td>   \n",
       "</tr>\n",
       "<tr>\n",
       "  <th>Covariance Type:</th>      <td>nonrobust</td>    <th>                     </th>     <td> </td>   \n",
       "</tr>\n",
       "</table>\n",
       "<table class=\"simpletable\">\n",
       "<tr>\n",
       "    <td></td>       <th>coef</th>     <th>std err</th>      <th>t</th>      <th>P>|t|</th>  <th>[0.025</th>    <th>0.975]</th>  \n",
       "</tr>\n",
       "<tr>\n",
       "  <th>const</th> <td>  -31.1747</td> <td>   19.921</td> <td>   -1.565</td> <td> 0.126</td> <td>  -71.504</td> <td>    9.154</td>\n",
       "</tr>\n",
       "<tr>\n",
       "  <th>x1</th>    <td>    0.5555</td> <td>    3.548</td> <td>    0.157</td> <td> 0.876</td> <td>   -6.626</td> <td>    7.737</td>\n",
       "</tr>\n",
       "<tr>\n",
       "  <th>x2</th>    <td>    0.0100</td> <td>    0.052</td> <td>    0.191</td> <td> 0.850</td> <td>   -0.096</td> <td>    0.116</td>\n",
       "</tr>\n",
       "<tr>\n",
       "  <th>x3</th>    <td>   24.5625</td> <td>   19.030</td> <td>    1.291</td> <td> 0.205</td> <td>  -13.961</td> <td>   63.086</td>\n",
       "</tr>\n",
       "<tr>\n",
       "  <th>x4</th>    <td>   35.4612</td> <td>   13.648</td> <td>    2.598</td> <td> 0.013</td> <td>    7.833</td> <td>   63.089</td>\n",
       "</tr>\n",
       "</table>\n",
       "<table class=\"simpletable\">\n",
       "<tr>\n",
       "  <th>Omnibus:</th>       <td> 7.315</td> <th>  Durbin-Watson:     </th> <td>   1.982</td>\n",
       "</tr>\n",
       "<tr>\n",
       "  <th>Prob(Omnibus):</th> <td> 0.026</td> <th>  Jarque-Bera (JB):  </th> <td>   6.301</td>\n",
       "</tr>\n",
       "<tr>\n",
       "  <th>Skew:</th>          <td> 0.903</td> <th>  Prob(JB):          </th> <td>  0.0428</td>\n",
       "</tr>\n",
       "<tr>\n",
       "  <th>Kurtosis:</th>      <td> 3.504</td> <th>  Cond. No.          </th> <td>6.54e+03</td>\n",
       "</tr>\n",
       "</table>"
      ],
      "text/plain": [
       "<class 'statsmodels.iolib.summary.Summary'>\n",
       "\"\"\"\n",
       "                            OLS Regression Results                            \n",
       "==============================================================================\n",
       "Dep. Variable:                      y   R-squared:                       0.269\n",
       "Model:                            OLS   Adj. R-squared:                  0.192\n",
       "Method:                 Least Squares   F-statistic:                     3.495\n",
       "Date:                Sat, 10 Jun 2017   Prob (F-statistic):             0.0159\n",
       "Time:                        14:10:21   Log-Likelihood:                -129.43\n",
       "No. Observations:                  43   AIC:                             268.9\n",
       "Df Residuals:                      38   BIC:                             277.7\n",
       "Df Model:                           4                                         \n",
       "Covariance Type:            nonrobust                                         \n",
       "==============================================================================\n",
       "                 coef    std err          t      P>|t|      [0.025      0.975]\n",
       "------------------------------------------------------------------------------\n",
       "const        -31.1747     19.921     -1.565      0.126     -71.504       9.154\n",
       "x1             0.5555      3.548      0.157      0.876      -6.626       7.737\n",
       "x2             0.0100      0.052      0.191      0.850      -0.096       0.116\n",
       "x3            24.5625     19.030      1.291      0.205     -13.961      63.086\n",
       "x4            35.4612     13.648      2.598      0.013       7.833      63.089\n",
       "==============================================================================\n",
       "Omnibus:                        7.315   Durbin-Watson:                   1.982\n",
       "Prob(Omnibus):                  0.026   Jarque-Bera (JB):                6.301\n",
       "Skew:                           0.903   Prob(JB):                       0.0428\n",
       "Kurtosis:                       3.504   Cond. No.                     6.54e+03\n",
       "==============================================================================\n",
       "\n",
       "Warnings:\n",
       "[1] Standard Errors assume that the covariance matrix of the errors is correctly specified.\n",
       "[2] The condition number is large, 6.54e+03. This might indicate that there are\n",
       "strong multicollinearity or other numerical problems.\n",
       "\"\"\""
      ]
     },
     "execution_count": 95,
     "metadata": {},
     "output_type": "execute_result"
    }
   ],
   "source": [
    "result = sm.OLS( y_train, add_constant(X_train) ).fit()\n",
    "result.summary() "
   ]
  },
  {
   "cell_type": "markdown",
   "metadata": {},
   "source": [
    "Quitamos a las variables que no aportan al modelo."
   ]
  },
  {
   "cell_type": "code",
   "execution_count": 96,
   "metadata": {},
   "outputs": [
    {
     "data": {
      "text/plain": [
       "array([[   5.8  ,  180.   ,    0.425,    0.872],\n",
       "       [   6.8  ,  235.   ,    0.546,    0.784],\n",
       "       [   7.   ,  230.   ,    0.435,    0.764],\n",
       "       [   6.8  ,  225.   ,    0.442,    0.672],\n",
       "       [   6.3  ,  180.   ,    0.435,    0.797],\n",
       "       [   7.3  ,  263.   ,    0.482,    0.655],\n",
       "       [   6.8  ,  235.   ,    0.469,    0.75 ],\n",
       "       [   6.9  ,  245.   ,    0.516,    0.632],\n",
       "       [   7.3  ,  228.   ,    0.445,    0.726]])"
      ]
     },
     "execution_count": 96,
     "metadata": {},
     "output_type": "execute_result"
    }
   ],
   "source": [
    "X_train[0:9]"
   ]
  },
  {
   "cell_type": "code",
   "execution_count": 97,
   "metadata": {},
   "outputs": [
    {
     "data": {
      "text/plain": [
       "array([ 0.872,  0.784,  0.764,  0.672,  0.797,  0.655,  0.75 ,  0.632,\n",
       "        0.726])"
      ]
     },
     "execution_count": 97,
     "metadata": {},
     "output_type": "execute_result"
    }
   ],
   "source": [
    "X_train[0:9,3]"
   ]
  },
  {
   "cell_type": "code",
   "execution_count": 98,
   "metadata": {},
   "outputs": [
    {
     "data": {
      "text/html": [
       "<table class=\"simpletable\">\n",
       "<caption>OLS Regression Results</caption>\n",
       "<tr>\n",
       "  <th>Dep. Variable:</th>            <td>y</td>        <th>  R-squared:         </th> <td>   0.167</td>\n",
       "</tr>\n",
       "<tr>\n",
       "  <th>Model:</th>                   <td>OLS</td>       <th>  Adj. R-squared:    </th> <td>   0.147</td>\n",
       "</tr>\n",
       "<tr>\n",
       "  <th>Method:</th>             <td>Least Squares</td>  <th>  F-statistic:       </th> <td>   8.235</td>\n",
       "</tr>\n",
       "<tr>\n",
       "  <th>Date:</th>             <td>Sat, 10 Jun 2017</td> <th>  Prob (F-statistic):</th>  <td>0.00647</td>\n",
       "</tr>\n",
       "<tr>\n",
       "  <th>Time:</th>                 <td>14:10:21</td>     <th>  Log-Likelihood:    </th> <td> -132.23</td>\n",
       "</tr>\n",
       "<tr>\n",
       "  <th>No. Observations:</th>      <td>    43</td>      <th>  AIC:               </th> <td>   268.5</td>\n",
       "</tr>\n",
       "<tr>\n",
       "  <th>Df Residuals:</th>          <td>    41</td>      <th>  BIC:               </th> <td>   272.0</td>\n",
       "</tr>\n",
       "<tr>\n",
       "  <th>Df Model:</th>              <td>     1</td>      <th>                     </th>     <td> </td>   \n",
       "</tr>\n",
       "<tr>\n",
       "  <th>Covariance Type:</th>      <td>nonrobust</td>    <th>                     </th>     <td> </td>   \n",
       "</tr>\n",
       "</table>\n",
       "<table class=\"simpletable\">\n",
       "<tr>\n",
       "    <td></td>       <th>coef</th>     <th>std err</th>      <th>t</th>      <th>P>|t|</th>  <th>[0.025</th>    <th>0.975]</th>  \n",
       "</tr>\n",
       "<tr>\n",
       "  <th>const</th> <td>  -12.2779</td> <td>    8.620</td> <td>   -1.424</td> <td> 0.162</td> <td>  -29.686</td> <td>    5.131</td>\n",
       "</tr>\n",
       "<tr>\n",
       "  <th>x1</th>    <td>   32.6030</td> <td>   11.362</td> <td>    2.870</td> <td> 0.006</td> <td>    9.658</td> <td>   55.548</td>\n",
       "</tr>\n",
       "</table>\n",
       "<table class=\"simpletable\">\n",
       "<tr>\n",
       "  <th>Omnibus:</th>       <td>10.580</td> <th>  Durbin-Watson:     </th> <td>   2.011</td>\n",
       "</tr>\n",
       "<tr>\n",
       "  <th>Prob(Omnibus):</th> <td> 0.005</td> <th>  Jarque-Bera (JB):  </th> <td>  10.379</td>\n",
       "</tr>\n",
       "<tr>\n",
       "  <th>Skew:</th>          <td> 1.171</td> <th>  Prob(JB):          </th> <td> 0.00557</td>\n",
       "</tr>\n",
       "<tr>\n",
       "  <th>Kurtosis:</th>      <td> 3.556</td> <th>  Cond. No.          </th> <td>    21.8</td>\n",
       "</tr>\n",
       "</table>"
      ],
      "text/plain": [
       "<class 'statsmodels.iolib.summary.Summary'>\n",
       "\"\"\"\n",
       "                            OLS Regression Results                            \n",
       "==============================================================================\n",
       "Dep. Variable:                      y   R-squared:                       0.167\n",
       "Model:                            OLS   Adj. R-squared:                  0.147\n",
       "Method:                 Least Squares   F-statistic:                     8.235\n",
       "Date:                Sat, 10 Jun 2017   Prob (F-statistic):            0.00647\n",
       "Time:                        14:10:21   Log-Likelihood:                -132.23\n",
       "No. Observations:                  43   AIC:                             268.5\n",
       "Df Residuals:                      41   BIC:                             272.0\n",
       "Df Model:                           1                                         \n",
       "Covariance Type:            nonrobust                                         \n",
       "==============================================================================\n",
       "                 coef    std err          t      P>|t|      [0.025      0.975]\n",
       "------------------------------------------------------------------------------\n",
       "const        -12.2779      8.620     -1.424      0.162     -29.686       5.131\n",
       "x1            32.6030     11.362      2.870      0.006       9.658      55.548\n",
       "==============================================================================\n",
       "Omnibus:                       10.580   Durbin-Watson:                   2.011\n",
       "Prob(Omnibus):                  0.005   Jarque-Bera (JB):               10.379\n",
       "Skew:                           1.171   Prob(JB):                      0.00557\n",
       "Kurtosis:                       3.556   Cond. No.                         21.8\n",
       "==============================================================================\n",
       "\n",
       "Warnings:\n",
       "[1] Standard Errors assume that the covariance matrix of the errors is correctly specified.\n",
       "\"\"\""
      ]
     },
     "execution_count": 98,
     "metadata": {},
     "output_type": "execute_result"
    }
   ],
   "source": [
    "result_alternate = sm.OLS( y_train, add_constant(X_train[:,3]) ).fit()\n",
    "result_alternate.summary()"
   ]
  },
  {
   "cell_type": "markdown",
   "metadata": {},
   "source": [
    "Usaremos los datos de validación y medimos los modelos generados (all features) vs (selected features)"
   ]
  },
  {
   "cell_type": "code",
   "execution_count": 99,
   "metadata": {},
   "outputs": [
    {
     "name": "stdout",
     "output_type": "stream",
     "text": [
      "67.6330067394\n"
     ]
    }
   ],
   "source": [
    "ypred = result.predict(add_constant(X_valid))\n",
    "print (mse(ypred,y_valid))"
   ]
  },
  {
   "cell_type": "code",
   "execution_count": 100,
   "metadata": {},
   "outputs": [
    {
     "name": "stdout",
     "output_type": "stream",
     "text": [
      "66.3805169718\n"
     ]
    }
   ],
   "source": [
    "ypred_alternate = result_alternate.predict(add_constant(X_valid[:,3]))\n",
    "print (mse(ypred_alternate,y_valid))\n"
   ]
  },
  {
   "cell_type": "markdown",
   "metadata": {},
   "source": [
    "Veamos la dispersión de el promedio de puntos por parttido ganado (real vs estimación del modelo del primer modelo)"
   ]
  },
  {
   "cell_type": "code",
   "execution_count": 101,
   "metadata": {},
   "outputs": [
    {
     "data": {
      "image/png": "[encoded data removed]",
      "text/plain": [
       "<matplotlib.figure.Figure at 0xcd42be0>"
      ]
     },
     "metadata": {},
     "output_type": "display_data"
    }
   ],
   "source": [
    "fig, ax = plt.subplots(1, 1)  \n",
    "ax.scatter(y_valid, ypred)\n",
    "ax.set_xlabel('Actual')\n",
    "ax.set_ylabel('Predicted')\n",
    "plt.show()"
   ]
  },
  {
   "cell_type": "markdown",
   "metadata": {},
   "source": [
    "Veamos la dispersión de el promedio de puntos por parttido ganado (real vs estimación del modelo del segundo modelo)"
   ]
  },
  {
   "cell_type": "code",
   "execution_count": 102,
   "metadata": {},
   "outputs": [
    {
     "data": {
      "image/png": "[encoded data removed]",
      "text/plain": [
       "<matplotlib.figure.Figure at 0xce67be0>"
      ]
     },
     "metadata": {},
     "output_type": "display_data"
    }
   ],
   "source": [
    "fig, ax = plt.subplots(1, 1)  \n",
    "ax.scatter(y_valid, ypred_alternate)\n",
    "ax.set_xlabel('Actual')\n",
    "ax.set_ylabel('Predicted')\n",
    "plt.show()"
   ]
  },
  {
   "cell_type": "markdown",
   "metadata": {},
   "source": [
    "### Usaremos Scikit Learn para encontrar el modelo de regresión lineal"
   ]
  },
  {
   "cell_type": "markdown",
   "metadata": {},
   "source": [
    "### Primer Modelo - All features"
   ]
  },
  {
   "cell_type": "code",
   "execution_count": 103,
   "metadata": {},
   "outputs": [
    {
     "name": "stdout",
     "output_type": "stream",
     "text": [
      "Intercepto es -31.1747224261\n",
      "Los coeficientes de regresión [  5.55504878e-01   9.98815193e-03   2.45625106e+01   3.54612031e+01]\n"
     ]
    }
   ],
   "source": [
    "# Create linear regression object\n",
    "lm = linear_model.LinearRegression()\n",
    "\n",
    "# Train the model using the training sets\n",
    "lm.fit(X_train, y_train)\n",
    "\n",
    "print ('Intercepto es ' + str(lm.intercept_))\n",
    "\n",
    "print ('Los coeficientes de regresión ' + str(lm.coef_))"
   ]
  },
  {
   "cell_type": "markdown",
   "metadata": {},
   "source": [
    "Validamos el performance del modelo"
   ]
  },
  {
   "cell_type": "code",
   "execution_count": 104,
   "metadata": {},
   "outputs": [
    {
     "data": {
      "text/plain": [
       "67.633006739380193"
      ]
     },
     "execution_count": 104,
     "metadata": {},
     "output_type": "execute_result"
    }
   ],
   "source": [
    "ypred = lm.predict(X_valid)\n",
    "\n",
    "mean_squared_error(ypred,y_valid)"
   ]
  },
  {
   "cell_type": "markdown",
   "metadata": {},
   "source": [
    "### Transformaciones de Variables"
   ]
  },
  {
   "cell_type": "code",
   "execution_count": 105,
   "metadata": {},
   "outputs": [
    {
     "data": {
      "text/plain": [
       "array([[   6.8  ,  225.   ,    0.442,    0.672,    9.2  ],\n",
       "       [   6.3  ,  180.   ,    0.435,    0.797,   11.7  ],\n",
       "       [   6.4  ,  190.   ,    0.456,    0.761,   15.8  ],\n",
       "       [   6.2  ,  180.   ,    0.416,    0.651,    8.6  ],\n",
       "       [   6.9  ,  205.   ,    0.449,    0.9  ,   23.2  ]])"
      ]
     },
     "execution_count": 105,
     "metadata": {},
     "output_type": "execute_result"
    }
   ],
   "source": [
    "X[0:5,:]"
   ]
  },
  {
   "cell_type": "code",
   "execution_count": 106,
   "metadata": {},
   "outputs": [
    {
     "data": {
      "text/plain": [
       "{'1/x': <function __main__.<lambda>>,\n",
       " 'log(x)': <function __main__.<lambda>>,\n",
       " 'x': <function __main__.<lambda>>,\n",
       " 'x**2': <function __main__.<lambda>>,\n",
       " 'x**3': <function __main__.<lambda>>}"
      ]
     },
     "execution_count": 106,
     "metadata": {},
     "output_type": "execute_result"
    }
   ],
   "source": [
    "transformations = {'x': lambda x: x, '1/x': lambda x: 1/x, 'x**2': lambda x: x**2,\n",
    " 'x**3': lambda x: x**3, 'log(x)': lambda x: np.log(x)}\n",
    "transformations"
   ]
  },
  {
   "cell_type": "code",
   "execution_count": 107,
   "metadata": {
    "scrolled": true
   },
   "outputs": [
    {
     "name": "stdout",
     "output_type": "stream",
     "text": [
      "x -0.0689058971259 0.620533814633\n",
      "1/x 0.0534550064681 0.701055688011\n",
      "x**2 -0.0765092671215 0.582403328745\n",
      "x**3 -0.0839625644908 0.546091845387\n",
      "log(x) -0.0612034412781 0.660197508717\n"
     ]
    }
   ],
   "source": [
    "from scipy import stats\n",
    "\n",
    "for i in transformations:\n",
    "    pearsonr_coef, pearsonr_p = stats.pearsonr(X[:, -1],transformations[i](X[:, 0]))\n",
    "    print(i,pearsonr_coef, pearsonr_p)"
   ]
  },
  {
   "cell_type": "code",
   "execution_count": 108,
   "metadata": {},
   "outputs": [
    {
     "name": "stdout",
     "output_type": "stream",
     "text": [
      "x -0.00984353772875 0.943681050503\n",
      "1/x -0.0389371940132 0.779830684383\n",
      "x**2 -0.0322184442636 0.817100068591\n",
      "x**3 -0.0521826416005 0.707849785896\n",
      "log(x) 0.0144959645012 0.917140747223\n"
     ]
    }
   ],
   "source": [
    "from scipy import stats\n",
    "\n",
    "for transformation in transformations:\n",
    "    pearsonr_coef, pearsonr_p = stats.pearsonr(X[:, -1],transformations[transformation](X[:, 1]))\n",
    "    print(transformation,pearsonr_coef, pearsonr_p)"
   ]
  },
  {
   "cell_type": "code",
   "execution_count": 109,
   "metadata": {},
   "outputs": [
    {
     "name": "stdout",
     "output_type": "stream",
     "text": [
      "x 0.338760223826 0.0122211799268\n",
      "1/x -0.296369250137 0.0295517417018\n",
      "x**2 0.350716163712 0.00932012976899\n",
      "x**3 0.356840769512 0.00808023367946\n",
      "log(x) 0.320604587622 0.0180987769519\n"
     ]
    }
   ],
   "source": [
    "from scipy import stats\n",
    "\n",
    "for transformation in transformations:\n",
    "    pearsonr_coef, pearsonr_p = stats.pearsonr(X[:, -1],transformations[transformation](X[:, 2]))\n",
    "    print(transformation,pearsonr_coef, pearsonr_p)"
   ]
  },
  {
   "cell_type": "code",
   "execution_count": 110,
   "metadata": {},
   "outputs": [
    {
     "name": "stdout",
     "output_type": "stream",
     "text": [
      "x 0.244851691267 0.0743496522163\n",
      "1/x -0.0930512536293 0.503343170855\n",
      "x**2 0.292750316147 0.0316948243309\n",
      "x**3 0.319545979092 0.0185052975622\n",
      "log(x) 0.172652289864 0.21186869308\n"
     ]
    }
   ],
   "source": [
    "from scipy import stats\n",
    "\n",
    "for transformation in transformations:\n",
    "    pearsonr_coef, pearsonr_p = stats.pearsonr(X[:, -1],transformations[transformation](X[:, 3]))\n",
    "    print(transformation,pearsonr_coef, pearsonr_p)"
   ]
  },
  {
   "cell_type": "markdown",
   "metadata": {},
   "source": [
    "### Modelo con Transformaciones"
   ]
  },
  {
   "cell_type": "code",
   "execution_count": 111,
   "metadata": {
    "collapsed": true
   },
   "outputs": [],
   "source": [
    "X[:, 2]=X[:, 2]**3"
   ]
  },
  {
   "cell_type": "code",
   "execution_count": 112,
   "metadata": {
    "collapsed": true
   },
   "outputs": [],
   "source": [
    "X[:, 3]=X[:, 3]**3"
   ]
  },
  {
   "cell_type": "code",
   "execution_count": 113,
   "metadata": {},
   "outputs": [
    {
     "data": {
      "text/plain": [
       "array([[  6.80000000e+00,   2.25000000e+02,   8.63508880e-02,\n",
       "          3.03464448e-01,   9.20000000e+00],\n",
       "       [  6.30000000e+00,   1.80000000e+02,   8.23128750e-02,\n",
       "          5.06261573e-01,   1.17000000e+01],\n",
       "       [  6.40000000e+00,   1.90000000e+02,   9.48188160e-02,\n",
       "          4.40711081e-01,   1.58000000e+01],\n",
       "       [  6.20000000e+00,   1.80000000e+02,   7.19912960e-02,\n",
       "          2.75894451e-01,   8.60000000e+00],\n",
       "       [  6.90000000e+00,   2.05000000e+02,   9.05188490e-02,\n",
       "          7.29000000e-01,   2.32000000e+01]])"
      ]
     },
     "execution_count": 113,
     "metadata": {},
     "output_type": "execute_result"
    }
   ],
   "source": [
    "X[0:5,:]"
   ]
  },
  {
   "cell_type": "code",
   "execution_count": 114,
   "metadata": {
    "collapsed": true
   },
   "outputs": [],
   "source": [
    "X_train, X_valid, y_train, y_valid = cross_validation.train_test_split( X[:, :-1], X[:, -1], train_size=0.80, random_state=666)"
   ]
  },
  {
   "cell_type": "code",
   "execution_count": 115,
   "metadata": {},
   "outputs": [
    {
     "name": "stdout",
     "output_type": "stream",
     "text": [
      "Intercepto es -2.9871043351\n",
      "\n",
      "Los coeficientes de regresión [ -1.51047960e-01   1.25656614e-02   4.83928526e+01   2.06118397e+01]\n"
     ]
    }
   ],
   "source": [
    "# Create linear regression object\n",
    "lm_mod = linear_model.LinearRegression()\n",
    "\n",
    "# Train the model using the training sets\n",
    "lm_mod.fit(X_train, y_train)\n",
    "\n",
    "print ('Intercepto es ' + str(lm_mod.intercept_) + '\\n')\n",
    "\n",
    "print ('Los coeficientes de regresión ' + str(lm_mod.coef_))"
   ]
  },
  {
   "cell_type": "code",
   "execution_count": 116,
   "metadata": {},
   "outputs": [
    {
     "data": {
      "text/plain": [
       "40.837313544726079"
      ]
     },
     "execution_count": 116,
     "metadata": {},
     "output_type": "execute_result"
    }
   ],
   "source": [
    "ypredmod = lm_mod.predict(X_valid)\n",
    "\n",
    "mean_squared_error(ypredmod,y_valid)"
   ]
  },
  {
   "cell_type": "code",
   "execution_count": 117,
   "metadata": {
    "scrolled": true
   },
   "outputs": [
    {
     "data": {
      "image/png": "[encoded data removed]",
      "text/plain": [
       "<matplotlib.figure.Figure at 0xce7d358>"
      ]
     },
     "metadata": {},
     "output_type": "display_data"
    }
   ],
   "source": [
    "fig, ax = plt.subplots(1, 1)  \n",
    "ax.scatter(y_valid, ypredmod)\n",
    "ax.set_xlabel('Actual')\n",
    "ax.set_ylabel('Predicted')\n",
    "plt.show()"
   ]
  },
  {
   "cell_type": "code",
   "execution_count": 118,
   "metadata": {},
   "outputs": [
    {
     "data": {
      "text/html": [
       "<table class=\"simpletable\">\n",
       "<caption>OLS Regression Results</caption>\n",
       "<tr>\n",
       "  <th>Dep. Variable:</th>            <td>y</td>        <th>  R-squared:         </th> <td>   0.284</td>\n",
       "</tr>\n",
       "<tr>\n",
       "  <th>Model:</th>                   <td>OLS</td>       <th>  Adj. R-squared:    </th> <td>   0.208</td>\n",
       "</tr>\n",
       "<tr>\n",
       "  <th>Method:</th>             <td>Least Squares</td>  <th>  F-statistic:       </th> <td>   3.765</td>\n",
       "</tr>\n",
       "<tr>\n",
       "  <th>Date:</th>             <td>Sat, 10 Jun 2017</td> <th>  Prob (F-statistic):</th>  <td>0.0113</td> \n",
       "</tr>\n",
       "<tr>\n",
       "  <th>Time:</th>                 <td>14:10:24</td>     <th>  Log-Likelihood:    </th> <td> -128.98</td>\n",
       "</tr>\n",
       "<tr>\n",
       "  <th>No. Observations:</th>      <td>    43</td>      <th>  AIC:               </th> <td>   268.0</td>\n",
       "</tr>\n",
       "<tr>\n",
       "  <th>Df Residuals:</th>          <td>    38</td>      <th>  BIC:               </th> <td>   276.8</td>\n",
       "</tr>\n",
       "<tr>\n",
       "  <th>Df Model:</th>              <td>     4</td>      <th>                     </th>     <td> </td>   \n",
       "</tr>\n",
       "<tr>\n",
       "  <th>Covariance Type:</th>      <td>nonrobust</td>    <th>                     </th>     <td> </td>   \n",
       "</tr>\n",
       "</table>\n",
       "<table class=\"simpletable\">\n",
       "<tr>\n",
       "    <td></td>       <th>coef</th>     <th>std err</th>      <th>t</th>      <th>P>|t|</th>  <th>[0.025</th>    <th>0.975]</th>  \n",
       "</tr>\n",
       "<tr>\n",
       "  <th>const</th> <td>   -2.9871</td> <td>   17.408</td> <td>   -0.172</td> <td> 0.865</td> <td>  -38.227</td> <td>   32.253</td>\n",
       "</tr>\n",
       "<tr>\n",
       "  <th>x1</th>    <td>   -0.1510</td> <td>    3.531</td> <td>   -0.043</td> <td> 0.966</td> <td>   -7.299</td> <td>    6.997</td>\n",
       "</tr>\n",
       "<tr>\n",
       "  <th>x2</th>    <td>    0.0126</td> <td>    0.051</td> <td>    0.248</td> <td> 0.806</td> <td>   -0.090</td> <td>    0.115</td>\n",
       "</tr>\n",
       "<tr>\n",
       "  <th>x3</th>    <td>   48.3929</td> <td>   28.681</td> <td>    1.687</td> <td> 0.100</td> <td>   -9.669</td> <td>  106.455</td>\n",
       "</tr>\n",
       "<tr>\n",
       "  <th>x4</th>    <td>   20.6118</td> <td>    7.586</td> <td>    2.717</td> <td> 0.010</td> <td>    5.255</td> <td>   35.968</td>\n",
       "</tr>\n",
       "</table>\n",
       "<table class=\"simpletable\">\n",
       "<tr>\n",
       "  <th>Omnibus:</th>       <td> 7.434</td> <th>  Durbin-Watson:     </th> <td>   1.898</td>\n",
       "</tr>\n",
       "<tr>\n",
       "  <th>Prob(Omnibus):</th> <td> 0.024</td> <th>  Jarque-Bera (JB):  </th> <td>   6.274</td>\n",
       "</tr>\n",
       "<tr>\n",
       "  <th>Skew:</th>          <td> 0.869</td> <th>  Prob(JB):          </th> <td>  0.0434</td>\n",
       "</tr>\n",
       "<tr>\n",
       "  <th>Kurtosis:</th>      <td> 3.692</td> <th>  Cond. No.          </th> <td>8.13e+03</td>\n",
       "</tr>\n",
       "</table>"
      ],
      "text/plain": [
       "<class 'statsmodels.iolib.summary.Summary'>\n",
       "\"\"\"\n",
       "                            OLS Regression Results                            \n",
       "==============================================================================\n",
       "Dep. Variable:                      y   R-squared:                       0.284\n",
       "Model:                            OLS   Adj. R-squared:                  0.208\n",
       "Method:                 Least Squares   F-statistic:                     3.765\n",
       "Date:                Sat, 10 Jun 2017   Prob (F-statistic):             0.0113\n",
       "Time:                        14:10:24   Log-Likelihood:                -128.98\n",
       "No. Observations:                  43   AIC:                             268.0\n",
       "Df Residuals:                      38   BIC:                             276.8\n",
       "Df Model:                           4                                         \n",
       "Covariance Type:            nonrobust                                         \n",
       "==============================================================================\n",
       "                 coef    std err          t      P>|t|      [0.025      0.975]\n",
       "------------------------------------------------------------------------------\n",
       "const         -2.9871     17.408     -0.172      0.865     -38.227      32.253\n",
       "x1            -0.1510      3.531     -0.043      0.966      -7.299       6.997\n",
       "x2             0.0126      0.051      0.248      0.806      -0.090       0.115\n",
       "x3            48.3929     28.681      1.687      0.100      -9.669     106.455\n",
       "x4            20.6118      7.586      2.717      0.010       5.255      35.968\n",
       "==============================================================================\n",
       "Omnibus:                        7.434   Durbin-Watson:                   1.898\n",
       "Prob(Omnibus):                  0.024   Jarque-Bera (JB):                6.274\n",
       "Skew:                           0.869   Prob(JB):                       0.0434\n",
       "Kurtosis:                       3.692   Cond. No.                     8.13e+03\n",
       "==============================================================================\n",
       "\n",
       "Warnings:\n",
       "[1] Standard Errors assume that the covariance matrix of the errors is correctly specified.\n",
       "[2] The condition number is large, 8.13e+03. This might indicate that there are\n",
       "strong multicollinearity or other numerical problems.\n",
       "\"\"\""
      ]
     },
     "execution_count": 118,
     "metadata": {},
     "output_type": "execute_result"
    }
   ],
   "source": [
    "result_alternate2 = sm.OLS( y_train, add_constant(X_train) ).fit()\n",
    "result_alternate2.summary()"
   ]
  },
  {
   "cell_type": "markdown",
   "metadata": {},
   "source": [
    "### Reducir el número de dimensiones (buscar componentes no relacionados)"
   ]
  },
  {
   "cell_type": "code",
   "execution_count": 119,
   "metadata": {
    "collapsed": true
   },
   "outputs": [],
   "source": [
    "X = b_data.values.copy() "
   ]
  },
  {
   "cell_type": "code",
   "execution_count": 120,
   "metadata": {},
   "outputs": [
    {
     "data": {
      "text/plain": [
       "array([[   6.8  ,  225.   ,    0.442,    0.672,    9.2  ],\n",
       "       [   6.3  ,  180.   ,    0.435,    0.797,   11.7  ],\n",
       "       [   6.4  ,  190.   ,    0.456,    0.761,   15.8  ],\n",
       "       [   6.2  ,  180.   ,    0.416,    0.651,    8.6  ],\n",
       "       [   6.9  ,  205.   ,    0.449,    0.9  ,   23.2  ]])"
      ]
     },
     "execution_count": 120,
     "metadata": {},
     "output_type": "execute_result"
    }
   ],
   "source": [
    "X[0:5,:]"
   ]
  },
  {
   "cell_type": "code",
   "execution_count": 121,
   "metadata": {
    "collapsed": true
   },
   "outputs": [],
   "source": [
    "y_mean, y_std = X[:,-1].mean(), X[:,-1].std()\n",
    "X_mean, X_std = X[:,:-1].mean(),X[:,:-1].std()"
   ]
  },
  {
   "cell_type": "code",
   "execution_count": 122,
   "metadata": {
    "collapsed": true
   },
   "outputs": [],
   "source": [
    "y = X[:,-1]\n",
    "X = (X[:,:-1] - X_mean)/ X_std"
   ]
  },
  {
   "cell_type": "code",
   "execution_count": 123,
   "metadata": {},
   "outputs": [
    {
     "data": {
      "text/plain": [
       "array([[-0.52304511,  1.87353623, -0.59287767, -0.59035148],\n",
       "       [-0.52853682,  1.37928252, -0.59295455, -0.58897856],\n",
       "       [-0.52743848,  1.48911668, -0.5927239 , -0.58937396],\n",
       "       [-0.52963516,  1.37928252, -0.59316324, -0.59058214],\n",
       "       [-0.52194677,  1.65386792, -0.59280079, -0.58784727]])"
      ]
     },
     "execution_count": 123,
     "metadata": {},
     "output_type": "execute_result"
    }
   ],
   "source": [
    "X[0:5,]"
   ]
  },
  {
   "cell_type": "code",
   "execution_count": 124,
   "metadata": {},
   "outputs": [
    {
     "data": {
      "text/plain": [
       "array([  9.2,  11.7,  15.8,   8.6,  23.2])"
      ]
     },
     "execution_count": 124,
     "metadata": {},
     "output_type": "execute_result"
    }
   ],
   "source": [
    "y[0:5,]"
   ]
  },
  {
   "cell_type": "code",
   "execution_count": 125,
   "metadata": {
    "collapsed": true
   },
   "outputs": [],
   "source": [
    "from sklearn.cluster import KMeans\n",
    "import matplotlib.pyplot as plt\n",
    "import numpy as np\n",
    "from sklearn.decomposition import PCA"
   ]
  },
  {
   "cell_type": "code",
   "execution_count": 126,
   "metadata": {},
   "outputs": [
    {
     "data": {
      "text/plain": [
       "PCA(copy=True, iterated_power='auto', n_components=4, random_state=None,\n",
       "  svd_solver='auto', tol=0.0, whiten=False)"
      ]
     },
     "execution_count": 126,
     "metadata": {},
     "output_type": "execute_result"
    }
   ],
   "source": [
    "hpc = PCA(n_components=4).fit(X)\n",
    "hpc"
   ]
  },
  {
   "cell_type": "code",
   "execution_count": 127,
   "metadata": {},
   "outputs": [
    {
     "data": {
      "text/plain": [
       "array([  9.99917574e-01,   6.99016677e-05,   1.01047841e-05,\n",
       "         2.41910226e-06])"
      ]
     },
     "execution_count": 127,
     "metadata": {},
     "output_type": "execute_result"
    }
   ],
   "source": [
    "hpc.explained_variance_ratio_"
   ]
  },
  {
   "cell_type": "code",
   "execution_count": 128,
   "metadata": {},
   "outputs": [
    {
     "data": {
      "text/plain": [
       "array([  99.99,  100.  ,  100.  ,  100.  ])"
      ]
     },
     "execution_count": 128,
     "metadata": {},
     "output_type": "execute_result"
    }
   ],
   "source": [
    "#Cumulative Variance explains\n",
    "var1=np.cumsum(np.round(hpc.explained_variance_ratio_, decimals=4)*100)\n",
    "var1"
   ]
  },
  {
   "cell_type": "code",
   "execution_count": 129,
   "metadata": {},
   "outputs": [
    {
     "data": {
      "text/plain": [
       "array([[ -1.65785054e-01,   2.43798682e-04],\n",
       "       [  3.28499518e-01,   1.00290625e-03],\n",
       "       [  2.18659753e-01,   7.19305743e-04],\n",
       "       [  3.28512074e-01,  -7.80377325e-05],\n",
       "       [  5.38539182e-02,   4.09482983e-03]])"
      ]
     },
     "execution_count": 129,
     "metadata": {},
     "output_type": "execute_result"
    }
   ],
   "source": [
    "hpc = PCA(n_components=2).fit_transform(X)\n",
    "hpc[0:5,]"
   ]
  },
  {
   "cell_type": "code",
   "execution_count": 130,
   "metadata": {
    "collapsed": true
   },
   "outputs": [],
   "source": [
    "X_train, X_valid, y_train, y_valid = cross_validation.train_test_split( hpc, y, train_size=0.80,random_state=123)"
   ]
  },
  {
   "cell_type": "code",
   "execution_count": 131,
   "metadata": {},
   "outputs": [
    {
     "name": "stdout",
     "output_type": "stream",
     "text": [
      "Intercept is 12.6305238056\n",
      "\n",
      "Coefficients[  -1.34461036 -314.95617228]\n"
     ]
    }
   ],
   "source": [
    "# Create linear regression object\n",
    "lm = linear_model.LinearRegression()\n",
    "\n",
    "# Train the model using the training sets\n",
    "lm.fit(X_train, y_train)\n",
    "\n",
    "print ('Intercept is ' + str(lm.intercept_) + '\\n')\n",
    "\n",
    "print ('Coefficients' + str(lm.coef_))"
   ]
  },
  {
   "cell_type": "code",
   "execution_count": 132,
   "metadata": {},
   "outputs": [
    {
     "data": {
      "text/plain": [
       "35.585045339581136"
      ]
     },
     "execution_count": 132,
     "metadata": {},
     "output_type": "execute_result"
    }
   ],
   "source": [
    "ypred = lm.predict(X_valid)\n",
    "\n",
    "mean_squared_error(ypred,y_valid)"
   ]
  },
  {
   "cell_type": "code",
   "execution_count": 133,
   "metadata": {},
   "outputs": [
    {
     "data": {
      "text/plain": [
       "array([ 12.43159011,  13.17381149,  13.25660146,  13.36713113,  12.85792264])"
      ]
     },
     "execution_count": 133,
     "metadata": {},
     "output_type": "execute_result"
    }
   ],
   "source": [
    "ypred[0:5,]"
   ]
  },
  {
   "cell_type": "code",
   "execution_count": 134,
   "metadata": {},
   "outputs": [
    {
     "data": {
      "text/plain": [
       "array([ 11.2,   5.6,   3.2,   9. ,   8.6])"
      ]
     },
     "execution_count": 134,
     "metadata": {},
     "output_type": "execute_result"
    }
   ],
   "source": [
    "y_valid[0:5,]"
   ]
  },
  {
   "cell_type": "code",
   "execution_count": 135,
   "metadata": {},
   "outputs": [
    {
     "data": {
      "image/png": "[encoded data removed]",
      "text/plain": [
       "<matplotlib.figure.Figure at 0xd24d0b8>"
      ]
     },
     "metadata": {},
     "output_type": "display_data"
    }
   ],
   "source": [
    "fig, ax = plt.subplots(1, 1)  \n",
    "ax.scatter(y_valid, ypred)\n",
    "ax.set_xlabel('Actual')\n",
    "ax.set_ylabel('Predicted')\n",
    "plt.show()"
   ]
  },
  {
   "cell_type": "code",
   "execution_count": 136,
   "metadata": {},
   "outputs": [
    {
     "data": {
      "text/plain": [
       "array([[ -1.65785054e-01,   2.43798682e-04,   6.27761353e-04],\n",
       "       [  3.28499518e-01,   1.00290625e-03,  -3.17270593e-04],\n",
       "       [  2.18659753e-01,   7.19305743e-04,  -3.95518750e-05],\n",
       "       [  3.28512074e-01,  -7.80377325e-05,   1.31146198e-03],\n",
       "       [  5.38539182e-02,   4.09482983e-03,  -1.72574258e-03]])"
      ]
     },
     "execution_count": 136,
     "metadata": {},
     "output_type": "execute_result"
    }
   ],
   "source": [
    "hpc = PCA(n_components=3).fit_transform(X)\n",
    "hpc[0:5,]"
   ]
  },
  {
   "cell_type": "code",
   "execution_count": 137,
   "metadata": {
    "collapsed": true
   },
   "outputs": [],
   "source": [
    "X_train, X_valid, y_train, y_valid = cross_validation.train_test_split( hpc,y, train_size=0.80,random_state=123)"
   ]
  },
  {
   "cell_type": "code",
   "execution_count": 138,
   "metadata": {},
   "outputs": [
    {
     "name": "stdout",
     "output_type": "stream",
     "text": [
      "Intercept is 12.6835280328\n",
      "\n",
      "Coefficient value of the height is [ -1.15725890e+00  -3.36980802e+02  -1.57155044e+03]\n"
     ]
    }
   ],
   "source": [
    "# Create linear regression object\n",
    "lm = linear_model.LinearRegression()\n",
    "\n",
    "# Train the model using the training sets\n",
    "lm.fit(X_train, y_train)\n",
    "\n",
    "print ('Intercept is ' + str(lm.intercept_) + '\\n')\n",
    "\n",
    "print ('Coefficient value of the height is ' + str(lm.coef_))"
   ]
  },
  {
   "cell_type": "code",
   "execution_count": 139,
   "metadata": {},
   "outputs": [
    {
     "data": {
      "text/plain": [
       "35.864159559219019"
      ]
     },
     "execution_count": 139,
     "metadata": {},
     "output_type": "execute_result"
    }
   ],
   "source": [
    "ypred = lm.predict(X_valid)\n",
    "\n",
    "mean_squared_error(ypred,y_valid)"
   ]
  },
  {
   "cell_type": "code",
   "execution_count": 140,
   "metadata": {},
   "outputs": [
    {
     "name": "stdout",
     "output_type": "stream",
     "text": [
      "MAE: 5.43171719322\n",
      "MSE: 35.8641595592\n",
      "RMSE: 5.98866926447\n"
     ]
    }
   ],
   "source": [
    "from sklearn import metrics\n",
    "import numpy as np\n",
    "print('MAE:', metrics.mean_absolute_error(y_valid, ypred))\n",
    "print('MSE:', metrics.mean_squared_error(y_valid, ypred))\n",
    "print('RMSE:', np.sqrt(metrics.mean_squared_error(y_valid, ypred)))"
   ]
  },
  {
   "cell_type": "code",
   "execution_count": 141,
   "metadata": {},
   "outputs": [
    {
     "data": {
      "image/png": "[encoded data removed]",
      "text/plain": [
       "<matplotlib.figure.Figure at 0xd24dcf8>"
      ]
     },
     "metadata": {},
     "output_type": "display_data"
    }
   ],
   "source": [
    "fig, ax = plt.subplots(1, 1)  \n",
    "ax.scatter(y_valid, ypred)\n",
    "ax.set_xlabel('Actual')\n",
    "ax.set_ylabel('Predicted')\n",
    "plt.show()"
   ]
  },
  {
   "cell_type": "markdown",
   "metadata": {},
   "source": [
    "###  Cost function\n",
    "\n",
    "El objetivo es estimar los parámetros $\\beta$ que minimicen la suma de cuadrados\n",
    "\n",
    "## $$J(\\beta_0, \\beta_1)=\\frac{1}{2n}\\sum_{i=1}^n (h_\\beta(x_i)-y_i)^2$$"
   ]
  },
  {
   "cell_type": "markdown",
   "metadata": {},
   "source": [
    "### Gradiente Descendente Estocástico"
   ]
  },
  {
   "cell_type": "code",
   "execution_count": 142,
   "metadata": {},
   "outputs": [
    {
     "data": {
      "text/plain": [
       "array([[ -1.65728222e-01,  -4.16705836e-03,  -4.89841232e-04],\n",
       "       [ -3.85450691e-01,  -1.41652689e-03,   8.07420498e-04],\n",
       "       [ -5.83191149e-01,   4.53111336e-04,   4.08688191e-04],\n",
       "       [ -2.75622603e-01,  -7.61475078e-05,  -1.04768358e-03],\n",
       "       [  2.73586601e-01,   3.01690399e-04,   6.77772917e-04]])"
      ]
     },
     "execution_count": 142,
     "metadata": {},
     "output_type": "execute_result"
    }
   ],
   "source": [
    "X_train[0:5,:]"
   ]
  },
  {
   "cell_type": "code",
   "execution_count": 143,
   "metadata": {
    "collapsed": true
   },
   "outputs": [],
   "source": [
    "# import\n",
    "from sklearn.linear_model import SGDRegressor"
   ]
  },
  {
   "cell_type": "code",
   "execution_count": 144,
   "metadata": {
    "collapsed": true
   },
   "outputs": [],
   "source": [
    "# Initialize\n",
    "linreg2 = SGDRegressor(fit_intercept=False, n_iter=300)"
   ]
  },
  {
   "cell_type": "code",
   "execution_count": 145,
   "metadata": {},
   "outputs": [
    {
     "data": {
      "text/plain": [
       "SGDRegressor(alpha=0.0001, average=False, epsilon=0.1, eta0=0.01,\n",
       "       fit_intercept=False, l1_ratio=0.15, learning_rate='invscaling',\n",
       "       loss='squared_loss', n_iter=300, penalty='l2', power_t=0.25,\n",
       "       random_state=None, shuffle=True, verbose=0, warm_start=False)"
      ]
     },
     "execution_count": 145,
     "metadata": {},
     "output_type": "execute_result"
    }
   ],
   "source": [
    "# Fit\n",
    "linreg2.fit(X_train, y_train)"
   ]
  },
  {
   "cell_type": "code",
   "execution_count": 146,
   "metadata": {},
   "outputs": [
    {
     "data": {
      "text/plain": [
       "array([ 1.08663379, -0.00577605, -0.0247087 ])"
      ]
     },
     "execution_count": 146,
     "metadata": {},
     "output_type": "execute_result"
    }
   ],
   "source": [
    "linreg2.coef_"
   ]
  },
  {
   "cell_type": "code",
   "execution_count": 147,
   "metadata": {
    "collapsed": true
   },
   "outputs": [],
   "source": [
    "ypredgd = linreg2.predict(X_valid)"
   ]
  },
  {
   "cell_type": "markdown",
   "metadata": {},
   "source": [
    "### Comparación de modelos (OLS vs Gradiente Descendente)"
   ]
  },
  {
   "cell_type": "code",
   "execution_count": 148,
   "metadata": {},
   "outputs": [
    {
     "name": "stdout",
     "output_type": "stream",
     "text": [
      "MAE: 8.98598755979\n",
      "MSE: 97.7392726601\n",
      "RMSE: 9.88631744686\n"
     ]
    }
   ],
   "source": [
    "from sklearn import metrics\n",
    "import numpy as np\n",
    "print('MAE:', metrics.mean_absolute_error(y_valid, ypredgd))\n",
    "print('MSE:', metrics.mean_squared_error(y_valid, ypredgd))\n",
    "print('RMSE:', np.sqrt(metrics.mean_squared_error(y_valid, ypredgd)))"
   ]
  },
  {
   "cell_type": "markdown",
   "metadata": {},
   "source": [
    "Comparing these metrics:\n",
    "\n",
    "- **MAE** is the easiest to understand, because it's the average error.\n",
    "- **MSE** is more popular than MAE, because MSE \"punishes\" larger errors, which tends to be useful in the real world.\n",
    "- **RMSE** is even more popular than MSE, because RMSE is interpretable in the \"y\" units.\n",
    "\n",
    "All of these are **loss functions**, because we want to minimize them.\n"
   ]
  },
  {
   "cell_type": "markdown",
   "metadata": {},
   "source": [
    "### Probaremos el Gradiente Descendente con variables naturales"
   ]
  },
  {
   "cell_type": "code",
   "execution_count": 149,
   "metadata": {},
   "outputs": [
    {
     "data": {
      "text/plain": [
       "array([[   6.8  ,  225.   ,    0.442,    0.672,    9.2  ],\n",
       "       [   6.3  ,  180.   ,    0.435,    0.797,   11.7  ],\n",
       "       [   6.4  ,  190.   ,    0.456,    0.761,   15.8  ],\n",
       "       [   6.2  ,  180.   ,    0.416,    0.651,    8.6  ],\n",
       "       [   6.9  ,  205.   ,    0.449,    0.9  ,   23.2  ]])"
      ]
     },
     "execution_count": 149,
     "metadata": {},
     "output_type": "execute_result"
    }
   ],
   "source": [
    "X = b_data.values.copy()\n",
    "X[0:5,:]"
   ]
  },
  {
   "cell_type": "code",
   "execution_count": 151,
   "metadata": {
    "collapsed": true
   },
   "outputs": [],
   "source": [
    "X_train, X_valid, y_train, y_valid = cross_validation.train_test_split( X[:, :-1], X[:, -1], train_size=0.80, random_state=123)"
   ]
  },
  {
   "cell_type": "code",
   "execution_count": 160,
   "metadata": {
    "collapsed": true
   },
   "outputs": [],
   "source": [
    "linreg2 = SGDRegressor(fit_intercept=False, n_iter=1000000000, alpha=0.0000000001)"
   ]
  },
  {
   "cell_type": "code",
   "execution_count": null,
   "metadata": {
    "collapsed": true
   },
   "outputs": [],
   "source": [
    "linreg2.fit(X_train, y_train)"
   ]
  },
  {
   "cell_type": "code",
   "execution_count": 154,
   "metadata": {
    "collapsed": true
   },
   "outputs": [],
   "source": [
    "ypredgd2 = linreg2.predict(X_valid)"
   ]
  },
  {
   "cell_type": "code",
   "execution_count": 155,
   "metadata": {
    "scrolled": true
   },
   "outputs": [
    {
     "name": "stdout",
     "output_type": "stream",
     "text": [
      "MAE: 42.8903925052\n",
      "MSE: 1880.87456263\n",
      "RMSE: 43.3690507463\n"
     ]
    }
   ],
   "source": [
    "print('MAE:', metrics.mean_absolute_error(y_valid, ypredgd2))\n",
    "print('MSE:', metrics.mean_squared_error(y_valid, ypredgd2))\n",
    "print('RMSE:', np.sqrt(metrics.mean_squared_error(y_valid, ypredgd2)))"
   ]
  },
  {
   "cell_type": "code",
   "execution_count": 355,
   "metadata": {},
   "outputs": [
    {
     "data": {
      "image/png": "[encoded data removed]",
      "text/plain": [
       "<matplotlib.figure.Figure at 0x9ad9160>"
      ]
     },
     "metadata": {},
     "output_type": "display_data"
    }
   ],
   "source": [
    "fig, ax = plt.subplots(1, 1)  \n",
    "ax.scatter(y_valid, ypredgd2)\n",
    "ax.set_xlabel('Actual')\n",
    "ax.set_ylabel('Predicted')\n",
    "plt.show()"
   ]
  },
  {
   "cell_type": "markdown",
   "metadata": {
    "collapsed": true
   },
   "source": [
    "### Regression Trees"
   ]
  },
  {
   "cell_type": "code",
   "execution_count": 4,
   "metadata": {},
   "outputs": [
    {
     "data": {
      "text/plain": [
       "DecisionTreeRegressor(criterion='mse', max_depth=3, max_features=None,\n",
       "           max_leaf_nodes=None, min_impurity_split=1e-07,\n",
       "           min_samples_leaf=1, min_samples_split=5,\n",
       "           min_weight_fraction_leaf=0.0, presort=False, random_state=1,\n",
       "           splitter='best')"
      ]
     },
     "execution_count": 4,
     "metadata": {},
     "output_type": "execute_result"
    }
   ],
   "source": [
    "from sklearn.tree import DecisionTreeRegressor\n",
    "treereg = DecisionTreeRegressor(criterion='mse',max_depth=3,min_samples_split=5,random_state=1)\n",
    "treereg"
   ]
  },
  {
   "cell_type": "code",
   "execution_count": 5,
   "metadata": {
    "collapsed": true
   },
   "outputs": [],
   "source": [
    "X = b_data.values"
   ]
  },
  {
   "cell_type": "code",
   "execution_count": 6,
   "metadata": {
    "collapsed": true
   },
   "outputs": [],
   "source": [
    "features=b_data.columns\n",
    "features=features[:-1]"
   ]
  },
  {
   "cell_type": "code",
   "execution_count": 8,
   "metadata": {},
   "outputs": [
    {
     "data": {
      "text/plain": [
       "array([[   6.8  ,  225.   ,    0.442,    0.672,    9.2  ],\n",
       "       [   6.3  ,  180.   ,    0.435,    0.797,   11.7  ],\n",
       "       [   6.4  ,  190.   ,    0.456,    0.761,   15.8  ],\n",
       "       [   6.2  ,  180.   ,    0.416,    0.651,    8.6  ],\n",
       "       [   6.9  ,  205.   ,    0.449,    0.9  ,   23.2  ]])"
      ]
     },
     "execution_count": 8,
     "metadata": {},
     "output_type": "execute_result"
    }
   ],
   "source": [
    "X[0:5,:]"
   ]
  },
  {
   "cell_type": "markdown",
   "metadata": {},
   "source": [
    "### Left out validation"
   ]
  },
  {
   "cell_type": "code",
   "execution_count": 7,
   "metadata": {
    "collapsed": true
   },
   "outputs": [],
   "source": [
    "X_train, X_valid, y_train, y_valid = cross_validation.train_test_split( X[:, :-1], X[:, -1], train_size=0.80, random_state=123)"
   ]
  },
  {
   "cell_type": "code",
   "execution_count": 8,
   "metadata": {},
   "outputs": [
    {
     "data": {
      "text/plain": [
       "DecisionTreeRegressor(criterion='mse', max_depth=3, max_features=None,\n",
       "           max_leaf_nodes=None, min_impurity_split=1e-07,\n",
       "           min_samples_leaf=1, min_samples_split=5,\n",
       "           min_weight_fraction_leaf=0.0, presort=False, random_state=1,\n",
       "           splitter='best')"
      ]
     },
     "execution_count": 8,
     "metadata": {},
     "output_type": "execute_result"
    }
   ],
   "source": [
    "treereg.fit(X_train, y_train)"
   ]
  },
  {
   "cell_type": "code",
   "execution_count": 9,
   "metadata": {
    "collapsed": true
   },
   "outputs": [],
   "source": [
    "ypredtree1 = treereg.predict(X_valid)"
   ]
  },
  {
   "cell_type": "code",
   "execution_count": 10,
   "metadata": {
    "scrolled": true
   },
   "outputs": [
    {
     "name": "stdout",
     "output_type": "stream",
     "text": [
      "MAE: 2.9202020202\n",
      "MSE: 14.3568992393\n",
      "RMSE: 3.78904991249\n"
     ]
    }
   ],
   "source": [
    "from sklearn import metrics\n",
    "import numpy as np\n",
    "print('MAE:', metrics.mean_absolute_error(y_valid, ypredtree1))\n",
    "print('MSE:', metrics.mean_squared_error(y_valid, ypredtree1))\n",
    "print('RMSE:', np.sqrt(metrics.mean_squared_error(y_valid, ypredtree1)))"
   ]
  },
  {
   "cell_type": "code",
   "execution_count": 14,
   "metadata": {
    "collapsed": true
   },
   "outputs": [],
   "source": [
    "ypredtree2 = treereg.predict(X_train)"
   ]
  },
  {
   "cell_type": "code",
   "execution_count": 15,
   "metadata": {},
   "outputs": [
    {
     "name": "stdout",
     "output_type": "stream",
     "text": [
      "MAE: 2.88535745047\n",
      "MSE: 17.2292291128\n",
      "RMSE: 4.15081065731\n"
     ]
    }
   ],
   "source": [
    "from sklearn import metrics\n",
    "import numpy as np\n",
    "print('MAE:', metrics.mean_absolute_error(y_train, ypredtree2))\n",
    "print('MSE:', metrics.mean_squared_error(y_train, ypredtree2))\n",
    "print('RMSE:', np.sqrt(metrics.mean_squared_error(y_train, ypredtree2)))"
   ]
  },
  {
   "cell_type": "markdown",
   "metadata": {},
   "source": [
    "### Cross Validation"
   ]
  },
  {
   "cell_type": "code",
   "execution_count": 30,
   "metadata": {
    "collapsed": true
   },
   "outputs": [],
   "source": [
    "from sklearn.model_selection import cross_val_score\n",
    "scores=cross_val_score(treereg, X_valid, y_valid, cv=10, scoring='neg_mean_squared_error')"
   ]
  },
  {
   "cell_type": "code",
   "execution_count": 31,
   "metadata": {},
   "outputs": [
    {
     "data": {
      "text/plain": [
       "5.0210789824413506"
      ]
     },
     "execution_count": 31,
     "metadata": {},
     "output_type": "execute_result"
    }
   ],
   "source": [
    "np.mean(np.sqrt(-scores))"
   ]
  },
  {
   "cell_type": "code",
   "execution_count": 32,
   "metadata": {},
   "outputs": [
    {
     "data": {
      "text/plain": [
       "array([  46.625     ,   48.8445679 ,    2.29306122,    3.88653061,\n",
       "        199.75111111,    5.35591837,   37.21      ,    2.84163265,\n",
       "         54.59567901,    1.65306122])"
      ]
     },
     "execution_count": 32,
     "metadata": {},
     "output_type": "execute_result"
    }
   ],
   "source": [
    "-scores"
   ]
  },
  {
   "cell_type": "code",
   "execution_count": 33,
   "metadata": {
    "collapsed": true
   },
   "outputs": [],
   "source": [
    "# list of values to try\n",
    "max_depth_range = range(1, 10)\n",
    "\n",
    "# list to store the average RMSE for each value of max_depth\n",
    "RMSE_scores = []\n",
    "\n",
    "# use LOOCV with each value of max_depth\n",
    "for depth in max_depth_range:\n",
    "    treereg = DecisionTreeRegressor(max_depth=depth, random_state=1)\n",
    "    MSE_scores = cross_val_score(treereg, X_valid, y_valid, cv=10, scoring='neg_mean_squared_error')\n",
    "    RMSE_scores.append(np.mean(np.sqrt(-MSE_scores)))"
   ]
  },
  {
   "cell_type": "code",
   "execution_count": 34,
   "metadata": {},
   "outputs": [
    {
     "data": {
      "text/plain": [
       "<matplotlib.text.Text at 0xc6f9470>"
      ]
     },
     "execution_count": 34,
     "metadata": {},
     "output_type": "execute_result"
    },
    {
     "data": {
      "image/png": "[encoded data removed]",
      "text/plain": [
       "<matplotlib.figure.Figure at 0xc61b1d0>"
      ]
     },
     "metadata": {},
     "output_type": "display_data"
    }
   ],
   "source": [
    "%matplotlib inline\n",
    "import matplotlib.pyplot as plt\n",
    "# plot max_depth (x-axis) versus RMSE (y-axis)\n",
    "plt.plot(max_depth_range, RMSE_scores)\n",
    "plt.xlabel('max_depth')\n",
    "plt.ylabel('RMSE (lower is better)')"
   ]
  },
  {
   "cell_type": "code",
   "execution_count": 41,
   "metadata": {},
   "outputs": [
    {
     "data": {
      "text/plain": [
       "DecisionTreeRegressor(criterion='mse', max_depth=2, max_features=None,\n",
       "           max_leaf_nodes=None, min_impurity_split=1e-07,\n",
       "           min_samples_leaf=1, min_samples_split=2,\n",
       "           min_weight_fraction_leaf=0.0, presort=False, random_state=1,\n",
       "           splitter='best')"
      ]
     },
     "execution_count": 41,
     "metadata": {},
     "output_type": "execute_result"
    }
   ],
   "source": [
    "from sklearn.tree import DecisionTreeRegressor\n",
    "treereg = DecisionTreeRegressor(criterion='mse',max_depth=2,random_state=1)\n",
    "treereg"
   ]
  },
  {
   "cell_type": "code",
   "execution_count": 42,
   "metadata": {},
   "outputs": [
    {
     "data": {
      "text/plain": [
       "DecisionTreeRegressor(criterion='mse', max_depth=2, max_features=None,\n",
       "           max_leaf_nodes=None, min_impurity_split=1e-07,\n",
       "           min_samples_leaf=1, min_samples_split=2,\n",
       "           min_weight_fraction_leaf=0.0, presort=False, random_state=1,\n",
       "           splitter='best')"
      ]
     },
     "execution_count": 42,
     "metadata": {},
     "output_type": "execute_result"
    }
   ],
   "source": [
    "treereg.fit(X_train, y_train)"
   ]
  },
  {
   "cell_type": "code",
   "execution_count": 43,
   "metadata": {
    "collapsed": true
   },
   "outputs": [],
   "source": [
    "ypredtree3 = treereg.predict(X_valid)"
   ]
  },
  {
   "cell_type": "code",
   "execution_count": 44,
   "metadata": {},
   "outputs": [
    {
     "name": "stdout",
     "output_type": "stream",
     "text": [
      "MAE: 3.01461038961\n",
      "MSE: 15.2037983276\n",
      "RMSE: 3.89920483273\n"
     ]
    }
   ],
   "source": [
    "from sklearn import metrics\n",
    "import numpy as np\n",
    "print('MAE:', metrics.mean_absolute_error(y_valid, ypredtree3))\n",
    "print('MSE:', metrics.mean_squared_error(y_valid, ypredtree3))\n",
    "print('RMSE:', np.sqrt(metrics.mean_squared_error(y_valid, ypredtree3)))"
   ]
  },
  {
   "cell_type": "code",
   "execution_count": 45,
   "metadata": {},
   "outputs": [
    {
     "data": {
      "text/plain": [
       "array([ 0.12517541,  0.        ,  0.51285649,  0.3619681 ])"
      ]
     },
     "execution_count": 45,
     "metadata": {},
     "output_type": "execute_result"
    }
   ],
   "source": [
    "treereg.feature_importances_"
   ]
  },
  {
   "cell_type": "code",
   "execution_count": 46,
   "metadata": {},
   "outputs": [
    {
     "data": {
      "text/html": [
       "<div>\n",
       "<style>\n",
       "    .dataframe thead tr:only-child th {\n",
       "        text-align: right;\n",
       "    }\n",
       "\n",
       "    .dataframe thead th {\n",
       "        text-align: left;\n",
       "    }\n",
       "\n",
       "    .dataframe tbody tr th {\n",
       "        vertical-align: top;\n",
       "    }\n",
       "</style>\n",
       "<table border=\"1\" class=\"dataframe\">\n",
       "  <thead>\n",
       "    <tr style=\"text-align: right;\">\n",
       "      <th></th>\n",
       "      <th>feature</th>\n",
       "      <th>importance</th>\n",
       "    </tr>\n",
       "  </thead>\n",
       "  <tbody>\n",
       "    <tr>\n",
       "      <th>0</th>\n",
       "      <td>height</td>\n",
       "      <td>0.125175</td>\n",
       "    </tr>\n",
       "    <tr>\n",
       "      <th>1</th>\n",
       "      <td>weight</td>\n",
       "      <td>0.000000</td>\n",
       "    </tr>\n",
       "    <tr>\n",
       "      <th>2</th>\n",
       "      <td>success_field_goals</td>\n",
       "      <td>0.512856</td>\n",
       "    </tr>\n",
       "    <tr>\n",
       "      <th>3</th>\n",
       "      <td>success_free_throws</td>\n",
       "      <td>0.361968</td>\n",
       "    </tr>\n",
       "  </tbody>\n",
       "</table>\n",
       "</div>"
      ],
      "text/plain": [
       "               feature  importance\n",
       "0               height    0.125175\n",
       "1               weight    0.000000\n",
       "2  success_field_goals    0.512856\n",
       "3  success_free_throws    0.361968"
      ]
     },
     "execution_count": 46,
     "metadata": {},
     "output_type": "execute_result"
    }
   ],
   "source": [
    "# \"Gini importance\" of each feature: the (normalized) total reduction of error brought by that feature\n",
    "pd.DataFrame({'feature':features, 'importance':treereg.feature_importances_})"
   ]
  },
  {
   "cell_type": "code",
   "execution_count": null,
   "metadata": {
    "collapsed": true
   },
   "outputs": [],
   "source": []
  }
 ],
 "metadata": {
  "anaconda-cloud": {},
  "kernelspec": {
   "display_name": "Python 3",
   "language": "python",
   "name": "python3"
  },
  "language_info": {
   "codemirror_mode": {
    "name": "ipython",
    "version": 3
   },
   "file_extension": ".py",
   "mimetype": "text/x-python",
   "name": "python",
   "nbconvert_exporter": "python",
   "pygments_lexer": "ipython3",
   "version": "3.6.1"
  }
 },
 "nbformat": 4,
 "nbformat_minor": 1
}
