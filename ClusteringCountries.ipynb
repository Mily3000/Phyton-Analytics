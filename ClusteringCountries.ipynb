{
 "cells": [
  {
   "cell_type": "markdown",
   "metadata": {},
   "source": [
    "## Librerias necesarias"
   ]
  },
  {
   "cell_type": "code",
   "execution_count": 89,
   "metadata": {
    "collapsed": true
   },
   "outputs": [],
   "source": [
    "%matplotlib inline\n",
    "import numpy as np\n",
    "import pandas as pd\n",
    "import matplotlib.pyplot as plt\n",
    "from math import sqrt\n",
    "from scipy.stats.stats import pearsonr  \n",
    "from sklearn.cluster import KMeans\n",
    "from scipy.cluster.vq import kmeans,vq\n",
    "from scipy.spatial.distance import cdist\n"
   ]
  },
  {
   "cell_type": "markdown",
   "metadata": {},
   "source": [
    "## K-Means Clustering"
   ]
  },
  {
   "cell_type": "markdown",
   "metadata": {},
   "source": [
    "La data de los diferentes paises del mundo tiene como variables los siguientes indicadores.\n",
    "<table><tr><th>country</th><td>Nombre del país</td></tr>\n",
    "<tr><th>region</th><td>Continente al que pertenece</td></tr>\n",
    "<tr><th>tfr</th><td>Ratio de fertilidad</td></tr>\n",
    "<tr><th>contraception</th><td>% de la población que usa anticonceptivos</td></tr>\n",
    "<tr><th>educationMale</th><td>% de la población masculina educada</td></tr>\n",
    "<tr><th>educationFemale</th><td>% de la población femenina educada</td></tr>\n",
    "<tr><th>lifeMale</th><td>Esperanza de vida de los hombres</td></tr>\n",
    "<tr><th>lifeFemale</th><td>Esperanza de vida de las mujeres</td></tr>\n",
    "<tr><th>infantMortality</th><td>Ratio de mortalidad infantil</td></tr>\n",
    "<tr><th>GDPperCapita</th><td>PBI</td></tr>\n",
    "<tr><th>economicActivityMale</th><td>Hombres en la PEA</td></tr>\n",
    "<tr><th>economicActivityFemale</th><td>Mujeres en la PEA</td></tr>\n",
    "<tr><th>illiteracyMale</th><td>Ratio de analfabetismo en hombres</td></tr>\n",
    "<tr><th>illiteracyFemale</th><td>Ratio de analfabetismo en mujeres</td></tr>\n",
    "</table>"
   ]
  },
  {
   "cell_type": "code",
   "execution_count": 90,
   "metadata": {},
   "outputs": [
    {
     "data": {
      "text/html": [
       "<div>\n",
       "<style>\n",
       "    .dataframe thead tr:only-child th {\n",
       "        text-align: right;\n",
       "    }\n",
       "\n",
       "    .dataframe thead th {\n",
       "        text-align: left;\n",
       "    }\n",
       "\n",
       "    .dataframe tbody tr th {\n",
       "        vertical-align: top;\n",
       "    }\n",
       "</style>\n",
       "<table border=\"1\" class=\"dataframe\">\n",
       "  <thead>\n",
       "    <tr style=\"text-align: right;\">\n",
       "      <th></th>\n",
       "      <th>country</th>\n",
       "      <th>region</th>\n",
       "      <th>tfr</th>\n",
       "      <th>contraception</th>\n",
       "      <th>educationMale</th>\n",
       "      <th>educationFemale</th>\n",
       "      <th>lifeMale</th>\n",
       "      <th>lifeFemale</th>\n",
       "      <th>infantMortality</th>\n",
       "      <th>GDPperCapita</th>\n",
       "      <th>economicActivityMale</th>\n",
       "      <th>economicActivityFemale</th>\n",
       "      <th>illiteracyMale</th>\n",
       "      <th>illiteracyFemale</th>\n",
       "    </tr>\n",
       "  </thead>\n",
       "  <tbody>\n",
       "    <tr>\n",
       "      <th>0</th>\n",
       "      <td>Afghanistan</td>\n",
       "      <td>Asia</td>\n",
       "      <td>6.90</td>\n",
       "      <td>NaN</td>\n",
       "      <td>NaN</td>\n",
       "      <td>NaN</td>\n",
       "      <td>45.0</td>\n",
       "      <td>46.0</td>\n",
       "      <td>154.0</td>\n",
       "      <td>2848.0</td>\n",
       "      <td>87.5</td>\n",
       "      <td>7.2</td>\n",
       "      <td>52.800</td>\n",
       "      <td>85.00</td>\n",
       "    </tr>\n",
       "    <tr>\n",
       "      <th>1</th>\n",
       "      <td>Albania</td>\n",
       "      <td>Europe</td>\n",
       "      <td>2.60</td>\n",
       "      <td>NaN</td>\n",
       "      <td>NaN</td>\n",
       "      <td>NaN</td>\n",
       "      <td>68.0</td>\n",
       "      <td>74.0</td>\n",
       "      <td>32.0</td>\n",
       "      <td>863.0</td>\n",
       "      <td>NaN</td>\n",
       "      <td>NaN</td>\n",
       "      <td>NaN</td>\n",
       "      <td>NaN</td>\n",
       "    </tr>\n",
       "    <tr>\n",
       "      <th>2</th>\n",
       "      <td>Algeria</td>\n",
       "      <td>Africa</td>\n",
       "      <td>3.81</td>\n",
       "      <td>52.0</td>\n",
       "      <td>11.1</td>\n",
       "      <td>9.9</td>\n",
       "      <td>67.5</td>\n",
       "      <td>70.3</td>\n",
       "      <td>44.0</td>\n",
       "      <td>1531.0</td>\n",
       "      <td>76.4</td>\n",
       "      <td>7.8</td>\n",
       "      <td>26.100</td>\n",
       "      <td>51.00</td>\n",
       "    </tr>\n",
       "    <tr>\n",
       "      <th>3</th>\n",
       "      <td>American.Samoa</td>\n",
       "      <td>Asia</td>\n",
       "      <td>NaN</td>\n",
       "      <td>NaN</td>\n",
       "      <td>NaN</td>\n",
       "      <td>NaN</td>\n",
       "      <td>68.0</td>\n",
       "      <td>73.0</td>\n",
       "      <td>11.0</td>\n",
       "      <td>NaN</td>\n",
       "      <td>58.8</td>\n",
       "      <td>42.4</td>\n",
       "      <td>0.264</td>\n",
       "      <td>0.36</td>\n",
       "    </tr>\n",
       "    <tr>\n",
       "      <th>4</th>\n",
       "      <td>Andorra</td>\n",
       "      <td>Europe</td>\n",
       "      <td>NaN</td>\n",
       "      <td>NaN</td>\n",
       "      <td>NaN</td>\n",
       "      <td>NaN</td>\n",
       "      <td>NaN</td>\n",
       "      <td>NaN</td>\n",
       "      <td>NaN</td>\n",
       "      <td>NaN</td>\n",
       "      <td>NaN</td>\n",
       "      <td>NaN</td>\n",
       "      <td>NaN</td>\n",
       "      <td>NaN</td>\n",
       "    </tr>\n",
       "  </tbody>\n",
       "</table>\n",
       "</div>"
      ],
      "text/plain": [
       "          country  region   tfr  contraception  educationMale  \\\n",
       "0     Afghanistan    Asia  6.90            NaN            NaN   \n",
       "1         Albania  Europe  2.60            NaN            NaN   \n",
       "2         Algeria  Africa  3.81           52.0           11.1   \n",
       "3  American.Samoa    Asia   NaN            NaN            NaN   \n",
       "4         Andorra  Europe   NaN            NaN            NaN   \n",
       "\n",
       "   educationFemale  lifeMale  lifeFemale  infantMortality  GDPperCapita  \\\n",
       "0              NaN      45.0        46.0            154.0        2848.0   \n",
       "1              NaN      68.0        74.0             32.0         863.0   \n",
       "2              9.9      67.5        70.3             44.0        1531.0   \n",
       "3              NaN      68.0        73.0             11.0           NaN   \n",
       "4              NaN       NaN         NaN              NaN           NaN   \n",
       "\n",
       "   economicActivityMale  economicActivityFemale  illiteracyMale  \\\n",
       "0                  87.5                     7.2          52.800   \n",
       "1                   NaN                     NaN             NaN   \n",
       "2                  76.4                     7.8          26.100   \n",
       "3                  58.8                    42.4           0.264   \n",
       "4                   NaN                     NaN             NaN   \n",
       "\n",
       "   illiteracyFemale  \n",
       "0             85.00  \n",
       "1               NaN  \n",
       "2             51.00  \n",
       "3              0.36  \n",
       "4               NaN  "
      ]
     },
     "execution_count": 90,
     "metadata": {},
     "output_type": "execute_result"
    }
   ],
   "source": [
    "data = pd.read_csv('UN.csv')\n",
    "data.head()"
   ]
  },
  {
   "cell_type": "code",
   "execution_count": 3,
   "metadata": {},
   "outputs": [
    {
     "data": {
      "text/plain": [
       "pandas.core.frame.DataFrame"
      ]
     },
     "execution_count": 3,
     "metadata": {},
     "output_type": "execute_result"
    }
   ],
   "source": [
    "type(data)"
   ]
  },
  {
   "cell_type": "code",
   "execution_count": 92,
   "metadata": {},
   "outputs": [
    {
     "data": {
      "text/plain": [
       "Index(['country', 'region', 'tfr', 'contraception', 'educationMale',\n",
       "       'educationFemale', 'lifeMale', 'lifeFemale', 'infantMortality',\n",
       "       'GDPperCapita', 'economicActivityMale', 'economicActivityFemale',\n",
       "       'illiteracyMale', 'illiteracyFemale'],\n",
       "      dtype='object')"
      ]
     },
     "execution_count": 92,
     "metadata": {},
     "output_type": "execute_result"
    }
   ],
   "source": [
    "data.columns"
   ]
  },
  {
   "cell_type": "code",
   "execution_count": 5,
   "metadata": {},
   "outputs": [
    {
     "data": {
      "text/plain": [
       "'Afghanistan'"
      ]
     },
     "execution_count": 5,
     "metadata": {},
     "output_type": "execute_result"
    }
   ],
   "source": [
    "data['country'][0]"
   ]
  },
  {
   "cell_type": "code",
   "execution_count": 93,
   "metadata": {},
   "outputs": [
    {
     "data": {
      "text/plain": [
       "0    Afghanistan\n",
       "Name: country, dtype: object"
      ]
     },
     "execution_count": 93,
     "metadata": {},
     "output_type": "execute_result"
    }
   ],
   "source": [
    "data[0:1]['country']"
   ]
  },
  {
   "cell_type": "code",
   "execution_count": 94,
   "metadata": {},
   "outputs": [
    {
     "data": {
      "text/plain": [
       "pandas.core.series.Series"
      ]
     },
     "execution_count": 94,
     "metadata": {},
     "output_type": "execute_result"
    }
   ],
   "source": [
    "type(data[0:1]['country'])"
   ]
  },
  {
   "cell_type": "code",
   "execution_count": 8,
   "metadata": {},
   "outputs": [
    {
     "data": {
      "text/plain": [
       "str"
      ]
     },
     "execution_count": 8,
     "metadata": {},
     "output_type": "execute_result"
    }
   ],
   "source": [
    "type(data['country'][0])"
   ]
  },
  {
   "cell_type": "code",
   "execution_count": 95,
   "metadata": {},
   "outputs": [
    {
     "name": "stdout",
     "output_type": "stream",
     "text": [
      "Estructura de los datos\n"
     ]
    },
    {
     "data": {
      "text/plain": [
       "[('country', str),\n",
       " ('region', str),\n",
       " ('tfr', numpy.float64),\n",
       " ('contraception', numpy.float64),\n",
       " ('educationMale', numpy.float64),\n",
       " ('educationFemale', numpy.float64),\n",
       " ('lifeMale', numpy.float64),\n",
       " ('lifeFemale', numpy.float64),\n",
       " ('infantMortality', numpy.float64),\n",
       " ('GDPperCapita', numpy.float64),\n",
       " ('economicActivityMale', numpy.float64),\n",
       " ('economicActivityFemale', numpy.float64),\n",
       " ('illiteracyMale', numpy.float64),\n",
       " ('illiteracyFemale', numpy.float64)]"
      ]
     },
     "execution_count": 95,
     "metadata": {},
     "output_type": "execute_result"
    }
   ],
   "source": [
    "print('Estructura de los datos')\n",
    "[(col, type(data[col][0])) for col in data.columns] "
   ]
  },
  {
   "cell_type": "markdown",
   "metadata": {},
   "source": [
    "% de missings por variables"
   ]
  },
  {
   "cell_type": "code",
   "execution_count": 96,
   "metadata": {
    "scrolled": true
   },
   "outputs": [
    {
     "data": {
      "text/plain": [
       "(207, 14)"
      ]
     },
     "execution_count": 96,
     "metadata": {},
     "output_type": "execute_result"
    }
   ],
   "source": [
    "data.shape"
   ]
  },
  {
   "cell_type": "code",
   "execution_count": 97,
   "metadata": {},
   "outputs": [
    {
     "data": {
      "text/plain": [
       "country                   207\n",
       "region                    207\n",
       "tfr                       197\n",
       "contraception             144\n",
       "educationMale              76\n",
       "educationFemale            76\n",
       "lifeMale                  196\n",
       "lifeFemale                196\n",
       "infantMortality           201\n",
       "GDPperCapita              197\n",
       "economicActivityMale      165\n",
       "economicActivityFemale    165\n",
       "illiteracyMale            160\n",
       "illiteracyFemale          160\n",
       "dtype: int64"
      ]
     },
     "execution_count": 97,
     "metadata": {},
     "output_type": "execute_result"
    }
   ],
   "source": [
    "data.count(0)"
   ]
  },
  {
   "cell_type": "code",
   "execution_count": 98,
   "metadata": {},
   "outputs": [
    {
     "name": "stdout",
     "output_type": "stream",
     "text": [
      "% de poblamiento de las variables\n"
     ]
    },
    {
     "data": {
      "text/plain": [
       "country                   100.000000\n",
       "region                    100.000000\n",
       "tfr                        95.169082\n",
       "contraception              69.565217\n",
       "educationMale              36.714976\n",
       "educationFemale            36.714976\n",
       "lifeMale                   94.685990\n",
       "lifeFemale                 94.685990\n",
       "infantMortality            97.101449\n",
       "GDPperCapita               95.169082\n",
       "economicActivityMale       79.710145\n",
       "economicActivityFemale     79.710145\n",
       "illiteracyMale             77.294686\n",
       "illiteracyFemale           77.294686\n",
       "dtype: float64"
      ]
     },
     "execution_count": 98,
     "metadata": {},
     "output_type": "execute_result"
    }
   ],
   "source": [
    "print('% de poblamiento de las variables')\n",
    "data.count(0)/data.shape[0] * 100"
   ]
  },
  {
   "cell_type": "markdown",
   "metadata": {},
   "source": [
    "Vamos a considerar a todas las variables que superen el 50% de información completa."
   ]
  },
  {
   "cell_type": "code",
   "execution_count": 99,
   "metadata": {
    "collapsed": true
   },
   "outputs": [],
   "source": [
    "df = data[['tfr','contraception','lifeMale', 'lifeFemale', 'infantMortality', 'GDPperCapita','economicActivityMale','economicActivityFemale','illiteracyMale','illiteracyFemale']]\n",
    "df = df.dropna(how='any')"
   ]
  },
  {
   "cell_type": "code",
   "execution_count": 101,
   "metadata": {},
   "outputs": [
    {
     "data": {
      "text/plain": [
       "(97, 10)"
      ]
     },
     "execution_count": 101,
     "metadata": {},
     "output_type": "execute_result"
    }
   ],
   "source": [
    "df.shape"
   ]
  },
  {
   "cell_type": "code",
   "execution_count": 17,
   "metadata": {
    "scrolled": true
   },
   "outputs": [
    {
     "data": {
      "text/html": [
       "<div>\n",
       "<style>\n",
       "    .dataframe thead tr:only-child th {\n",
       "        text-align: right;\n",
       "    }\n",
       "\n",
       "    .dataframe thead th {\n",
       "        text-align: left;\n",
       "    }\n",
       "\n",
       "    .dataframe tbody tr th {\n",
       "        vertical-align: top;\n",
       "    }\n",
       "</style>\n",
       "<table border=\"1\" class=\"dataframe\">\n",
       "  <thead>\n",
       "    <tr style=\"text-align: right;\">\n",
       "      <th></th>\n",
       "      <th>tfr</th>\n",
       "      <th>contraception</th>\n",
       "      <th>lifeMale</th>\n",
       "      <th>lifeFemale</th>\n",
       "      <th>infantMortality</th>\n",
       "      <th>GDPperCapita</th>\n",
       "      <th>economicActivityMale</th>\n",
       "      <th>economicActivityFemale</th>\n",
       "      <th>illiteracyMale</th>\n",
       "      <th>illiteracyFemale</th>\n",
       "    </tr>\n",
       "  </thead>\n",
       "  <tbody>\n",
       "    <tr>\n",
       "      <th>2</th>\n",
       "      <td>3.81</td>\n",
       "      <td>52.0</td>\n",
       "      <td>67.5</td>\n",
       "      <td>70.3</td>\n",
       "      <td>44.0</td>\n",
       "      <td>1531.0</td>\n",
       "      <td>76.4</td>\n",
       "      <td>7.8</td>\n",
       "      <td>26.100</td>\n",
       "      <td>51.000</td>\n",
       "    </tr>\n",
       "    <tr>\n",
       "      <th>8</th>\n",
       "      <td>1.70</td>\n",
       "      <td>22.0</td>\n",
       "      <td>67.2</td>\n",
       "      <td>74.0</td>\n",
       "      <td>25.0</td>\n",
       "      <td>354.0</td>\n",
       "      <td>65.0</td>\n",
       "      <td>52.0</td>\n",
       "      <td>0.300</td>\n",
       "      <td>0.500</td>\n",
       "    </tr>\n",
       "    <tr>\n",
       "      <th>12</th>\n",
       "      <td>1.95</td>\n",
       "      <td>62.0</td>\n",
       "      <td>70.5</td>\n",
       "      <td>77.1</td>\n",
       "      <td>14.0</td>\n",
       "      <td>12545.0</td>\n",
       "      <td>81.2</td>\n",
       "      <td>67.0</td>\n",
       "      <td>1.500</td>\n",
       "      <td>2.000</td>\n",
       "    </tr>\n",
       "    <tr>\n",
       "      <th>13</th>\n",
       "      <td>2.97</td>\n",
       "      <td>53.0</td>\n",
       "      <td>71.1</td>\n",
       "      <td>75.3</td>\n",
       "      <td>18.0</td>\n",
       "      <td>9073.0</td>\n",
       "      <td>88.2</td>\n",
       "      <td>29.2</td>\n",
       "      <td>10.900</td>\n",
       "      <td>20.600</td>\n",
       "    </tr>\n",
       "    <tr>\n",
       "      <th>14</th>\n",
       "      <td>3.14</td>\n",
       "      <td>49.0</td>\n",
       "      <td>58.1</td>\n",
       "      <td>58.2</td>\n",
       "      <td>78.0</td>\n",
       "      <td>280.0</td>\n",
       "      <td>88.8</td>\n",
       "      <td>55.9</td>\n",
       "      <td>50.600</td>\n",
       "      <td>73.900</td>\n",
       "    </tr>\n",
       "    <tr>\n",
       "      <th>15</th>\n",
       "      <td>1.73</td>\n",
       "      <td>55.0</td>\n",
       "      <td>73.6</td>\n",
       "      <td>78.7</td>\n",
       "      <td>9.0</td>\n",
       "      <td>7173.0</td>\n",
       "      <td>73.4</td>\n",
       "      <td>61.4</td>\n",
       "      <td>2.000</td>\n",
       "      <td>3.200</td>\n",
       "    </tr>\n",
       "    <tr>\n",
       "      <th>16</th>\n",
       "      <td>1.40</td>\n",
       "      <td>50.0</td>\n",
       "      <td>64.4</td>\n",
       "      <td>74.8</td>\n",
       "      <td>15.0</td>\n",
       "      <td>994.0</td>\n",
       "      <td>76.4</td>\n",
       "      <td>61.3</td>\n",
       "      <td>0.300</td>\n",
       "      <td>0.600</td>\n",
       "    </tr>\n",
       "    <tr>\n",
       "      <th>18</th>\n",
       "      <td>3.66</td>\n",
       "      <td>47.0</td>\n",
       "      <td>73.4</td>\n",
       "      <td>76.1</td>\n",
       "      <td>30.0</td>\n",
       "      <td>2569.0</td>\n",
       "      <td>79.0</td>\n",
       "      <td>34.0</td>\n",
       "      <td>21.252</td>\n",
       "      <td>23.472</td>\n",
       "    </tr>\n",
       "    <tr>\n",
       "      <th>19</th>\n",
       "      <td>5.83</td>\n",
       "      <td>16.0</td>\n",
       "      <td>52.4</td>\n",
       "      <td>57.2</td>\n",
       "      <td>84.0</td>\n",
       "      <td>391.0</td>\n",
       "      <td>90.0</td>\n",
       "      <td>57.8</td>\n",
       "      <td>51.300</td>\n",
       "      <td>74.200</td>\n",
       "    </tr>\n",
       "    <tr>\n",
       "      <th>21</th>\n",
       "      <td>4.36</td>\n",
       "      <td>45.0</td>\n",
       "      <td>59.8</td>\n",
       "      <td>63.2</td>\n",
       "      <td>66.0</td>\n",
       "      <td>909.0</td>\n",
       "      <td>74.1</td>\n",
       "      <td>56.3</td>\n",
       "      <td>9.500</td>\n",
       "      <td>24.000</td>\n",
       "    </tr>\n",
       "  </tbody>\n",
       "</table>\n",
       "</div>"
      ],
      "text/plain": [
       "     tfr  contraception  lifeMale  lifeFemale  infantMortality  GDPperCapita  \\\n",
       "2   3.81           52.0      67.5        70.3             44.0        1531.0   \n",
       "8   1.70           22.0      67.2        74.0             25.0         354.0   \n",
       "12  1.95           62.0      70.5        77.1             14.0       12545.0   \n",
       "13  2.97           53.0      71.1        75.3             18.0        9073.0   \n",
       "14  3.14           49.0      58.1        58.2             78.0         280.0   \n",
       "15  1.73           55.0      73.6        78.7              9.0        7173.0   \n",
       "16  1.40           50.0      64.4        74.8             15.0         994.0   \n",
       "18  3.66           47.0      73.4        76.1             30.0        2569.0   \n",
       "19  5.83           16.0      52.4        57.2             84.0         391.0   \n",
       "21  4.36           45.0      59.8        63.2             66.0         909.0   \n",
       "\n",
       "    economicActivityMale  economicActivityFemale  illiteracyMale  \\\n",
       "2                   76.4                     7.8          26.100   \n",
       "8                   65.0                    52.0           0.300   \n",
       "12                  81.2                    67.0           1.500   \n",
       "13                  88.2                    29.2          10.900   \n",
       "14                  88.8                    55.9          50.600   \n",
       "15                  73.4                    61.4           2.000   \n",
       "16                  76.4                    61.3           0.300   \n",
       "18                  79.0                    34.0          21.252   \n",
       "19                  90.0                    57.8          51.300   \n",
       "21                  74.1                    56.3           9.500   \n",
       "\n",
       "    illiteracyFemale  \n",
       "2             51.000  \n",
       "8              0.500  \n",
       "12             2.000  \n",
       "13            20.600  \n",
       "14            73.900  \n",
       "15             3.200  \n",
       "16             0.600  \n",
       "18            23.472  \n",
       "19            74.200  \n",
       "21            24.000  "
      ]
     },
     "execution_count": 17,
     "metadata": {},
     "output_type": "execute_result"
    }
   ],
   "source": [
    "df[:10]"
   ]
  },
  {
   "cell_type": "markdown",
   "metadata": {},
   "source": [
    "### Analizar la relación entre las variables"
   ]
  },
  {
   "cell_type": "code",
   "execution_count": 102,
   "metadata": {},
   "outputs": [
    {
     "data": {
      "text/html": [
       "<div>\n",
       "<style>\n",
       "    .dataframe thead tr:only-child th {\n",
       "        text-align: right;\n",
       "    }\n",
       "\n",
       "    .dataframe thead th {\n",
       "        text-align: left;\n",
       "    }\n",
       "\n",
       "    .dataframe tbody tr th {\n",
       "        vertical-align: top;\n",
       "    }\n",
       "</style>\n",
       "<table border=\"1\" class=\"dataframe\">\n",
       "  <thead>\n",
       "    <tr style=\"text-align: right;\">\n",
       "      <th></th>\n",
       "      <th>tfr</th>\n",
       "      <th>contraception</th>\n",
       "      <th>lifeMale</th>\n",
       "      <th>lifeFemale</th>\n",
       "      <th>infantMortality</th>\n",
       "      <th>GDPperCapita</th>\n",
       "      <th>economicActivityMale</th>\n",
       "      <th>economicActivityFemale</th>\n",
       "      <th>illiteracyMale</th>\n",
       "      <th>illiteracyFemale</th>\n",
       "    </tr>\n",
       "  </thead>\n",
       "  <tbody>\n",
       "    <tr>\n",
       "      <th>tfr</th>\n",
       "      <td>1.000000</td>\n",
       "      <td>-0.700416</td>\n",
       "      <td>-0.732188</td>\n",
       "      <td>-0.825177</td>\n",
       "      <td>0.820365</td>\n",
       "      <td>-0.371675</td>\n",
       "      <td>0.383166</td>\n",
       "      <td>-0.164210</td>\n",
       "      <td>0.729894</td>\n",
       "      <td>0.759104</td>\n",
       "    </tr>\n",
       "    <tr>\n",
       "      <th>contraception</th>\n",
       "      <td>-0.700416</td>\n",
       "      <td>1.000000</td>\n",
       "      <td>0.684806</td>\n",
       "      <td>0.683828</td>\n",
       "      <td>-0.686826</td>\n",
       "      <td>0.342377</td>\n",
       "      <td>-0.187386</td>\n",
       "      <td>0.019584</td>\n",
       "      <td>-0.557717</td>\n",
       "      <td>-0.562519</td>\n",
       "    </tr>\n",
       "    <tr>\n",
       "      <th>lifeMale</th>\n",
       "      <td>-0.732188</td>\n",
       "      <td>0.684806</td>\n",
       "      <td>1.000000</td>\n",
       "      <td>0.965744</td>\n",
       "      <td>-0.873587</td>\n",
       "      <td>0.483363</td>\n",
       "      <td>-0.197267</td>\n",
       "      <td>-0.217249</td>\n",
       "      <td>-0.630533</td>\n",
       "      <td>-0.667473</td>\n",
       "    </tr>\n",
       "    <tr>\n",
       "      <th>lifeFemale</th>\n",
       "      <td>-0.825177</td>\n",
       "      <td>0.683828</td>\n",
       "      <td>0.965744</td>\n",
       "      <td>1.000000</td>\n",
       "      <td>-0.923671</td>\n",
       "      <td>0.469520</td>\n",
       "      <td>-0.278806</td>\n",
       "      <td>-0.110261</td>\n",
       "      <td>-0.720828</td>\n",
       "      <td>-0.770696</td>\n",
       "    </tr>\n",
       "    <tr>\n",
       "      <th>infantMortality</th>\n",
       "      <td>0.820365</td>\n",
       "      <td>-0.686826</td>\n",
       "      <td>-0.873587</td>\n",
       "      <td>-0.923671</td>\n",
       "      <td>1.000000</td>\n",
       "      <td>-0.446811</td>\n",
       "      <td>0.292581</td>\n",
       "      <td>0.072473</td>\n",
       "      <td>0.738038</td>\n",
       "      <td>0.793417</td>\n",
       "    </tr>\n",
       "    <tr>\n",
       "      <th>GDPperCapita</th>\n",
       "      <td>-0.371675</td>\n",
       "      <td>0.342377</td>\n",
       "      <td>0.483363</td>\n",
       "      <td>0.469520</td>\n",
       "      <td>-0.446811</td>\n",
       "      <td>1.000000</td>\n",
       "      <td>-0.129578</td>\n",
       "      <td>-0.040779</td>\n",
       "      <td>-0.280243</td>\n",
       "      <td>-0.281056</td>\n",
       "    </tr>\n",
       "    <tr>\n",
       "      <th>economicActivityMale</th>\n",
       "      <td>0.383166</td>\n",
       "      <td>-0.187386</td>\n",
       "      <td>-0.197267</td>\n",
       "      <td>-0.278806</td>\n",
       "      <td>0.292581</td>\n",
       "      <td>-0.129578</td>\n",
       "      <td>1.000000</td>\n",
       "      <td>0.135534</td>\n",
       "      <td>0.425205</td>\n",
       "      <td>0.379959</td>\n",
       "    </tr>\n",
       "    <tr>\n",
       "      <th>economicActivityFemale</th>\n",
       "      <td>-0.164210</td>\n",
       "      <td>0.019584</td>\n",
       "      <td>-0.217249</td>\n",
       "      <td>-0.110261</td>\n",
       "      <td>0.072473</td>\n",
       "      <td>-0.040779</td>\n",
       "      <td>0.135534</td>\n",
       "      <td>1.000000</td>\n",
       "      <td>-0.119927</td>\n",
       "      <td>-0.175309</td>\n",
       "    </tr>\n",
       "    <tr>\n",
       "      <th>illiteracyMale</th>\n",
       "      <td>0.729894</td>\n",
       "      <td>-0.557717</td>\n",
       "      <td>-0.630533</td>\n",
       "      <td>-0.720828</td>\n",
       "      <td>0.738038</td>\n",
       "      <td>-0.280243</td>\n",
       "      <td>0.425205</td>\n",
       "      <td>-0.119927</td>\n",
       "      <td>1.000000</td>\n",
       "      <td>0.961777</td>\n",
       "    </tr>\n",
       "    <tr>\n",
       "      <th>illiteracyFemale</th>\n",
       "      <td>0.759104</td>\n",
       "      <td>-0.562519</td>\n",
       "      <td>-0.667473</td>\n",
       "      <td>-0.770696</td>\n",
       "      <td>0.793417</td>\n",
       "      <td>-0.281056</td>\n",
       "      <td>0.379959</td>\n",
       "      <td>-0.175309</td>\n",
       "      <td>0.961777</td>\n",
       "      <td>1.000000</td>\n",
       "    </tr>\n",
       "  </tbody>\n",
       "</table>\n",
       "</div>"
      ],
      "text/plain": [
       "                             tfr  contraception  lifeMale  lifeFemale  \\\n",
       "tfr                     1.000000      -0.700416 -0.732188   -0.825177   \n",
       "contraception          -0.700416       1.000000  0.684806    0.683828   \n",
       "lifeMale               -0.732188       0.684806  1.000000    0.965744   \n",
       "lifeFemale             -0.825177       0.683828  0.965744    1.000000   \n",
       "infantMortality         0.820365      -0.686826 -0.873587   -0.923671   \n",
       "GDPperCapita           -0.371675       0.342377  0.483363    0.469520   \n",
       "economicActivityMale    0.383166      -0.187386 -0.197267   -0.278806   \n",
       "economicActivityFemale -0.164210       0.019584 -0.217249   -0.110261   \n",
       "illiteracyMale          0.729894      -0.557717 -0.630533   -0.720828   \n",
       "illiteracyFemale        0.759104      -0.562519 -0.667473   -0.770696   \n",
       "\n",
       "                        infantMortality  GDPperCapita  economicActivityMale  \\\n",
       "tfr                            0.820365     -0.371675              0.383166   \n",
       "contraception                 -0.686826      0.342377             -0.187386   \n",
       "lifeMale                      -0.873587      0.483363             -0.197267   \n",
       "lifeFemale                    -0.923671      0.469520             -0.278806   \n",
       "infantMortality                1.000000     -0.446811              0.292581   \n",
       "GDPperCapita                  -0.446811      1.000000             -0.129578   \n",
       "economicActivityMale           0.292581     -0.129578              1.000000   \n",
       "economicActivityFemale         0.072473     -0.040779              0.135534   \n",
       "illiteracyMale                 0.738038     -0.280243              0.425205   \n",
       "illiteracyFemale               0.793417     -0.281056              0.379959   \n",
       "\n",
       "                        economicActivityFemale  illiteracyMale  \\\n",
       "tfr                                  -0.164210        0.729894   \n",
       "contraception                         0.019584       -0.557717   \n",
       "lifeMale                             -0.217249       -0.630533   \n",
       "lifeFemale                           -0.110261       -0.720828   \n",
       "infantMortality                       0.072473        0.738038   \n",
       "GDPperCapita                         -0.040779       -0.280243   \n",
       "economicActivityMale                  0.135534        0.425205   \n",
       "economicActivityFemale                1.000000       -0.119927   \n",
       "illiteracyMale                       -0.119927        1.000000   \n",
       "illiteracyFemale                     -0.175309        0.961777   \n",
       "\n",
       "                        illiteracyFemale  \n",
       "tfr                             0.759104  \n",
       "contraception                  -0.562519  \n",
       "lifeMale                       -0.667473  \n",
       "lifeFemale                     -0.770696  \n",
       "infantMortality                 0.793417  \n",
       "GDPperCapita                   -0.281056  \n",
       "economicActivityMale            0.379959  \n",
       "economicActivityFemale         -0.175309  \n",
       "illiteracyMale                  0.961777  \n",
       "illiteracyFemale                1.000000  "
      ]
     },
     "execution_count": 102,
     "metadata": {},
     "output_type": "execute_result"
    }
   ],
   "source": [
    "matrix_correlations_paises=df.corr()\n",
    "matrix_correlations_paises"
   ]
  },
  {
   "cell_type": "code",
   "execution_count": 19,
   "metadata": {
    "collapsed": true
   },
   "outputs": [],
   "source": [
    "matrix_correlations_paises.to_csv('matrix_correlations_paises.csv')"
   ]
  },
  {
   "cell_type": "markdown",
   "metadata": {},
   "source": [
    "### Reducir el número de dimensiones de los datos con PCA"
   ]
  },
  {
   "cell_type": "code",
   "execution_count": 103,
   "metadata": {},
   "outputs": [
    {
     "data": {
      "text/plain": [
       "array([[  3.81000000e+00,   5.20000000e+01,   6.75000000e+01,\n",
       "          7.03000000e+01,   4.40000000e+01,   1.53100000e+03,\n",
       "          7.64000000e+01,   7.80000000e+00,   2.61000000e+01,\n",
       "          5.10000000e+01],\n",
       "       [  1.70000000e+00,   2.20000000e+01,   6.72000000e+01,\n",
       "          7.40000000e+01,   2.50000000e+01,   3.54000000e+02,\n",
       "          6.50000000e+01,   5.20000000e+01,   3.00000000e-01,\n",
       "          5.00000000e-01],\n",
       "       [  1.95000000e+00,   6.20000000e+01,   7.05000000e+01,\n",
       "          7.71000000e+01,   1.40000000e+01,   1.25450000e+04,\n",
       "          8.12000000e+01,   6.70000000e+01,   1.50000000e+00,\n",
       "          2.00000000e+00],\n",
       "       [  2.97000000e+00,   5.30000000e+01,   7.11000000e+01,\n",
       "          7.53000000e+01,   1.80000000e+01,   9.07300000e+03,\n",
       "          8.82000000e+01,   2.92000000e+01,   1.09000000e+01,\n",
       "          2.06000000e+01],\n",
       "       [  3.14000000e+00,   4.90000000e+01,   5.81000000e+01,\n",
       "          5.82000000e+01,   7.80000000e+01,   2.80000000e+02,\n",
       "          8.88000000e+01,   5.59000000e+01,   5.06000000e+01,\n",
       "          7.39000000e+01],\n",
       "       [  1.73000000e+00,   5.50000000e+01,   7.36000000e+01,\n",
       "          7.87000000e+01,   9.00000000e+00,   7.17300000e+03,\n",
       "          7.34000000e+01,   6.14000000e+01,   2.00000000e+00,\n",
       "          3.20000000e+00],\n",
       "       [  1.40000000e+00,   5.00000000e+01,   6.44000000e+01,\n",
       "          7.48000000e+01,   1.50000000e+01,   9.94000000e+02,\n",
       "          7.64000000e+01,   6.13000000e+01,   3.00000000e-01,\n",
       "          6.00000000e-01],\n",
       "       [  3.66000000e+00,   4.70000000e+01,   7.34000000e+01,\n",
       "          7.61000000e+01,   3.00000000e+01,   2.56900000e+03,\n",
       "          7.90000000e+01,   3.40000000e+01,   2.12520000e+01,\n",
       "          2.34720000e+01],\n",
       "       [  5.83000000e+00,   1.60000000e+01,   5.24000000e+01,\n",
       "          5.72000000e+01,   8.40000000e+01,   3.91000000e+02,\n",
       "          9.00000000e+01,   5.78000000e+01,   5.13000000e+01,\n",
       "          7.42000000e+01],\n",
       "       [  4.36000000e+00,   4.50000000e+01,   5.98000000e+01,\n",
       "          6.32000000e+01,   6.60000000e+01,   9.09000000e+02,\n",
       "          7.41000000e+01,   5.63000000e+01,   9.50000000e+00,\n",
       "          2.40000000e+01],\n",
       "       [  4.45000000e+00,   3.30000000e+01,   4.89000000e+01,\n",
       "          5.17000000e+01,   5.60000000e+01,   3.64000000e+03,\n",
       "          7.54000000e+01,   4.17000000e+01,   1.95000000e+01,\n",
       "          4.01000000e+01],\n",
       "       [  2.17000000e+00,   7.40000000e+01,   6.34000000e+01,\n",
       "          7.12000000e+01,   4.20000000e+01,   4.51000000e+03,\n",
       "          8.40000000e+01,   5.36000000e+01,   1.67000000e+01,\n",
       "          1.68000000e+01],\n",
       "       [  6.57000000e+00,   8.00000000e+00,   4.51000000e+01,\n",
       "          4.70000000e+01,   9.70000000e+01,   1.65000000e+02,\n",
       "          8.89000000e+01,   7.94000000e+01,   7.05000000e+01,\n",
       "          9.08000000e+01],\n",
       "       [  6.28000000e+00,   9.00000000e+00,   4.55000000e+01,\n",
       "          4.88000000e+01,   1.14000000e+02,   2.05000000e+02,\n",
       "          9.01000000e+01,   9.06000000e+01,   5.07000000e+01,\n",
       "          7.75000000e+01],\n",
       "       [  4.95000000e+00,   2.40000000e+01,   4.64000000e+01,\n",
       "          5.10000000e+01,   9.60000000e+01,   3.79000000e+02,\n",
       "          8.70000000e+01,   6.88000000e+01,   3.15000000e+01,\n",
       "          4.76000000e+01],\n",
       "       [  2.44000000e+00,   3.00000000e+01,   7.23000000e+01,\n",
       "          7.83000000e+01,   1.30000000e+01,   4.73600000e+03,\n",
       "          7.55000000e+01,   3.45000000e+01,   4.60000000e+00,\n",
       "          5.00000000e+00],\n",
       "       [  1.80000000e+00,   8.30000000e+01,   6.82000000e+01,\n",
       "          7.17000000e+01,   3.80000000e+01,   5.82000000e+02,\n",
       "          8.49000000e+01,   7.29000000e+01,   1.01000000e+01,\n",
       "          2.73000000e+01],\n",
       "       [  2.69000000e+00,   7.20000000e+01,   6.82000000e+01,\n",
       "          7.37000000e+01,   2.40000000e+01,   2.21500000e+03,\n",
       "          7.90000000e+01,   5.02000000e+01,   8.80000000e+00,\n",
       "          8.60000000e+00],\n",
       "       [  3.50000000e+00,   3.80000000e+01,   6.70000000e+01,\n",
       "          7.30000000e+01,   2.60000000e+01,   5.43200000e+03,\n",
       "          7.14000000e+01,   4.36000000e+01,   3.10200000e+00,\n",
       "          4.10400000e+00],\n",
       "       [  2.95000000e+00,   7.50000000e+01,   7.45000000e+01,\n",
       "          7.92000000e+01,   1.20000000e+01,   2.69600000e+03,\n",
       "          7.92000000e+01,   3.33000000e+01,   5.30000000e+00,\n",
       "          5.00000000e+00],\n",
       "       [  1.55000000e+00,   7.00000000e+01,   7.42000000e+01,\n",
       "          7.80000000e+01,   9.00000000e+00,   1.98300000e+03,\n",
       "          7.26000000e+01,   4.12000000e+01,   3.80000000e+00,\n",
       "          4.70000000e+00],\n",
       "       [  2.80000000e+00,   6.40000000e+01,   6.89000000e+01,\n",
       "          7.31000000e+01,   3.40000000e+01,   1.50800000e+03,\n",
       "          8.26000000e+01,   4.29000000e+01,   1.80000000e+01,\n",
       "          1.78000000e+01],\n",
       "       [  3.10000000e+00,   5.70000000e+01,   6.73000000e+01,\n",
       "          7.25000000e+01,   4.60000000e+01,   1.56500000e+03,\n",
       "          7.97000000e+01,   4.84000000e+01,   8.00000000e+00,\n",
       "          1.18000000e+01],\n",
       "       [  3.40000000e+00,   4.70000000e+01,   6.47000000e+01,\n",
       "          6.73000000e+01,   5.40000000e+01,   9.73000000e+02,\n",
       "          7.34000000e+01,   2.16000000e+01,   3.64000000e+01,\n",
       "          6.12000000e+01],\n",
       "       [  3.09000000e+00,   5.30000000e+01,   6.65000000e+01,\n",
       "          7.25000000e+01,   3.90000000e+01,   1.66000000e+03,\n",
       "          7.98000000e+01,   4.06000000e+01,   2.65000000e+01,\n",
       "          3.02000000e+01],\n",
       "       [  1.30000000e+00,   7.00000000e+01,   6.39000000e+01,\n",
       "          7.50000000e+01,   1.20000000e+01,   2.43300000e+03,\n",
       "          7.15000000e+01,   5.41000000e+01,   2.00000000e-01,\n",
       "          2.00000000e-01],\n",
       "       [  7.00000000e+00,   4.00000000e+00,   4.84000000e+01,\n",
       "          5.16000000e+01,   1.07000000e+02,   9.60000000e+01,\n",
       "          8.47000000e+01,   5.84000000e+01,   5.45000000e+01,\n",
       "          7.47000000e+01],\n",
       "       [  2.76000000e+00,   4.00000000e+01,   7.06000000e+01,\n",
       "          7.49000000e+01,   2.00000000e+01,   2.59300000e+03,\n",
       "          8.54000000e+01,   2.33000000e+01,   6.20000000e+00,\n",
       "          1.07000000e+01],\n",
       "       [  5.20000000e+00,   1.20000000e+01,   4.54000000e+01,\n",
       "          4.87000000e+01,   1.22000000e+02,   3.21000000e+02,\n",
       "          7.02000000e+01,   4.48000000e+01,   4.72000000e+01,\n",
       "          7.51000000e+01],\n",
       "       [  1.90000000e+00,   1.70000000e+01,   6.85000000e+01,\n",
       "          7.67000000e+01,   2.30000000e+01,   3.43000000e+02,\n",
       "          7.50000000e+01,   5.80000000e+01,   3.00000000e-01,\n",
       "          6.00000000e-01],\n",
       "       [  4.90000000e+00,   3.10000000e+01,   6.47000000e+01,\n",
       "          6.98000000e+01,   4.00000000e+01,   1.39200000e+03,\n",
       "          8.40000000e+01,   1.84000000e+01,   3.75000000e+01,\n",
       "          5.14000000e+01],\n",
       "       [  6.61000000e+00,   2.00000000e+00,   4.60000000e+01,\n",
       "          4.70000000e+01,   1.24000000e+02,   4.42000000e+02,\n",
       "          7.99000000e+01,   4.49000000e+01,   5.01000000e+01,\n",
       "          7.81000000e+01],\n",
       "       [  4.60000000e+00,   1.80000000e+01,   5.28000000e+01,\n",
       "          5.60000000e+01,   8.20000000e+01,   3.86000000e+02,\n",
       "          8.03000000e+01,   4.90000000e+01,   5.20000000e+01,\n",
       "          5.78000000e+01],\n",
       "       [  4.30000000e+00,   4.70000000e+01,   6.75000000e+01,\n",
       "          7.23000000e+01,   3.50000000e+01,   6.97000000e+02,\n",
       "          8.64000000e+01,   3.47000000e+01,   2.74000000e+01,\n",
       "          2.73000000e+01],\n",
       "       [  1.32000000e+00,   8.60000000e+01,   7.61000000e+01,\n",
       "          8.18000000e+01,   5.00000000e+00,   2.28980000e+04,\n",
       "          7.60000000e+01,   4.78000000e+01,   4.00000000e+00,\n",
       "          1.18000000e+01],\n",
       "       [  1.40000000e+00,   7.30000000e+01,   6.45000000e+01,\n",
       "          7.38000000e+01,   1.40000000e+01,   4.32500000e+03,\n",
       "          6.11000000e+01,   4.34000000e+01,   7.00000000e-01,\n",
       "          1.00000000e+00],\n",
       "       [  3.07000000e+00,   4.10000000e+01,   6.21000000e+01,\n",
       "          6.27000000e+01,   7.20000000e+01,   3.65000000e+02,\n",
       "          8.04000000e+01,   3.37000000e+01,   3.45000000e+01,\n",
       "          6.23000000e+01],\n",
       "       [  2.63000000e+00,   5.50000000e+01,   6.33000000e+01,\n",
       "          6.70000000e+01,   4.80000000e+01,   1.01900000e+03,\n",
       "          8.48000000e+01,   5.13000000e+01,   1.04000000e+01,\n",
       "          2.20000000e+01],\n",
       "       [  4.77000000e+00,   6.50000000e+01,   6.85000000e+01,\n",
       "          7.00000000e+01,   3.90000000e+01,   1.54400000e+03,\n",
       "          7.98000000e+01,   9.90000000e+00,   2.23000000e+01,\n",
       "          4.07000000e+01],\n",
       "       [  5.25000000e+00,   1.40000000e+01,   6.09000000e+01,\n",
       "          6.39000000e+01,   9.50000000e+01,   1.13080000e+04,\n",
       "          7.40000000e+01,   1.03000000e+01,   2.93000000e+01,\n",
       "          5.50000000e+01],\n",
       "       [  5.10000000e+00,   1.10000000e+01,   5.00000000e+01,\n",
       "          5.22000000e+01,   8.60000000e+01,   7.36000000e+02,\n",
       "          8.87000000e+01,   4.20000000e+01,   5.01000000e+01,\n",
       "          7.00000000e+01],\n",
       "       [  2.44000000e+00,   6.20000000e+01,   7.24000000e+01,\n",
       "          7.68000000e+01,   1.20000000e+01,   1.77900000e+03,\n",
       "          7.40000000e+01,   6.24000000e+01,   1.92000000e+01,\n",
       "          1.09000000e+01],\n",
       "       [  5.13000000e+00,   3.50000000e+01,   6.77000000e+01,\n",
       "          7.18000000e+01,   3.00000000e+01,   1.22800000e+03,\n",
       "          7.25000000e+01,   1.27000000e+01,   6.60000000e+00,\n",
       "          2.06000000e+01],\n",
       "       [  2.30000000e+00,   5.90000000e+01,   6.28000000e+01,\n",
       "          7.25000000e+01,   3.40000000e+01,   9.95000000e+02,\n",
       "          7.85000000e+01,   6.28000000e+01,   3.00000000e-01,\n",
       "          5.00000000e-01],\n",
       "       [  1.65000000e+00,   7.90000000e+01,   6.88000000e+01,\n",
       "          7.60000000e+01,   9.00000000e+00,   9.73600000e+03,\n",
       "          7.61000000e+01,   4.87000000e+01,   7.00000000e-01,\n",
       "          3.30000000e+00],\n",
       "       [  2.77000000e+00,   3.50000000e+01,   7.41000000e+01,\n",
       "          7.82000000e+01,   1.40000000e+01,   1.57570000e+04,\n",
       "          8.01000000e+01,   3.43000000e+01,   1.78000000e+01,\n",
       "          2.51000000e+01],\n",
       "       [  3.21000000e+00,   3.10000000e+01,   6.34000000e+01,\n",
       "          7.19000000e+01,   3.90000000e+01,   3.31000000e+02,\n",
       "          7.50000000e+01,   6.00000000e+01,   3.00000000e-01,\n",
       "          5.00000000e-01],\n",
       "       [  1.40000000e+00,   4.70000000e+01,   6.25000000e+01,\n",
       "          7.43000000e+01,   1.60000000e+01,   1.76400000e+03,\n",
       "          6.98000000e+01,   5.15000000e+01,   2.00000000e-01,\n",
       "          3.00000000e-01],\n",
       "       [  1.50000000e+00,   5.90000000e+01,   6.49000000e+01,\n",
       "          7.60000000e+01,   1.30000000e+01,   1.59500000e+03,\n",
       "          7.57000000e+01,   6.51000000e+01,   4.00000000e-01,\n",
       "          7.00000000e-01],\n",
       "       [  6.69000000e+00,   2.20000000e+01,   4.03000000e+01,\n",
       "          4.11000000e+01,   1.42000000e+02,   1.42000000e+02,\n",
       "          8.06000000e+01,   7.53000000e+01,   2.81000000e+01,\n",
       "          5.82000000e+01],\n",
       "       [  3.24000000e+00,   4.80000000e+01,   6.99000000e+01,\n",
       "          7.43000000e+01,   1.10000000e+01,   4.31300000e+03,\n",
       "          7.71000000e+01,   4.22000000e+01,   1.09000000e+01,\n",
       "          2.19000000e+01],\n",
       "       [  4.49000000e+00,   2.70000000e+01,   5.91000000e+01,\n",
       "          6.30000000e+01,   2.60000000e+01,   1.64900000e+03,\n",
       "          7.70000000e+01,   3.00000000e+01,   5.94000000e+00,\n",
       "          9.72000000e+00],\n",
       "       [  2.28000000e+00,   7.50000000e+01,   6.83000000e+01,\n",
       "          7.50000000e+01,   1.50000000e+01,   3.50800000e+03,\n",
       "          8.01000000e+01,   3.88000000e+01,   1.29000000e+01,\n",
       "          2.12000000e+01],\n",
       "       [  2.75000000e+00,   5.30000000e+01,   6.95000000e+01,\n",
       "          7.55000000e+01,   3.10000000e+01,   2.70000000e+03,\n",
       "          8.39000000e+01,   3.74000000e+01,   8.20000000e+00,\n",
       "          1.26000000e+01],\n",
       "       [  1.80000000e+00,   2.20000000e+01,   6.35000000e+01,\n",
       "          7.15000000e+01,   2.60000000e+01,   3.83000000e+02,\n",
       "          7.49000000e+01,   6.16000000e+01,   1.12200000e+00,\n",
       "          4.89600000e+00],\n",
       "       [  3.10000000e+00,   5.00000000e+01,   6.48000000e+01,\n",
       "          6.85000000e+01,   5.10000000e+01,   1.26500000e+03,\n",
       "          7.49000000e+01,   2.51000000e+01,   4.34000000e+01,\n",
       "          6.90000000e+01],\n",
       "       [  3.30000000e+00,   1.70000000e+01,   5.85000000e+01,\n",
       "          6.18000000e+01,   7.80000000e+01,   2.39900000e+03,\n",
       "          7.38000000e+01,   3.89000000e+01,   1.13000000e+01,\n",
       "          2.23000000e+01],\n",
       "       [  4.90000000e+00,   2.90000000e+01,   5.47000000e+01,\n",
       "          5.66000000e+01,   6.00000000e+01,   2.05900000e+03,\n",
       "          6.86000000e+01,   4.90000000e+01,   1.76880000e+01,\n",
       "          2.52000000e+01],\n",
       "       [  4.95000000e+00,   2.90000000e+01,   5.76000000e+01,\n",
       "          5.71000000e+01,   8.20000000e+01,   2.03000000e+02,\n",
       "          7.98000000e+01,   4.87000000e+01,   5.91000000e+01,\n",
       "          8.60000000e+01],\n",
       "       [  2.53000000e+00,   2.50000000e+01,   7.09000000e+01,\n",
       "          7.59000000e+01,   1.80000000e+01,   1.94500000e+04,\n",
       "          8.08000000e+01,   4.99000000e+01,   5.34600000e+00,\n",
       "          7.77600000e+00],\n",
       "       [  3.85000000e+00,   4.90000000e+01,   6.58000000e+01,\n",
       "          7.06000000e+01,   4.40000000e+01,   4.64000000e+02,\n",
       "          8.45000000e+01,   3.34000000e+01,   3.54000000e+01,\n",
       "          3.34000000e+01],\n",
       "       [  5.97000000e+00,   6.00000000e+00,   5.08000000e+01,\n",
       "          5.40000000e+01,   7.70000000e+01,   5.87000000e+02,\n",
       "          7.83000000e+01,   3.72000000e+01,   3.27000000e+01,\n",
       "          5.27000000e+01],\n",
       "       [  5.02000000e+00,   1.80000000e+01,   6.29000000e+01,\n",
       "          6.51000000e+01,   7.40000000e+01,   5.04000000e+02,\n",
       "          8.23000000e+01,   1.27000000e+01,   5.00000000e+01,\n",
       "          7.56000000e+01],\n",
       "       [  2.63000000e+00,   6.40000000e+01,   7.18000000e+01,\n",
       "          7.64000000e+01,   2.10000000e+01,   2.93400000e+03,\n",
       "          8.13000000e+01,   4.25000000e+01,   8.60000000e+00,\n",
       "          9.80000000e+00],\n",
       "       [  4.17000000e+00,   5.60000000e+01,   6.75000000e+01,\n",
       "          7.20000000e+01,   3.90000000e+01,   1.86000000e+03,\n",
       "          8.57000000e+01,   2.61000000e+01,   6.50000000e+00,\n",
       "          9.40000000e+00],\n",
       "       [  2.98000000e+00,   6.40000000e+01,   6.59000000e+01,\n",
       "          7.09000000e+01,   4.50000000e+01,   2.49700000e+03,\n",
       "          5.12000000e+01,   3.39000000e+01,   5.50000000e+00,\n",
       "          1.70000000e+01],\n",
       "       [  3.62000000e+00,   4.00000000e+01,   6.66000000e+01,\n",
       "          7.02000000e+01,   3.50000000e+01,   1.09300000e+03,\n",
       "          8.27000000e+01,   4.90000000e+01,   5.00000000e+00,\n",
       "          5.70000000e+00],\n",
       "       [  1.48000000e+00,   6.60000000e+01,   7.18000000e+01,\n",
       "          7.89000000e+01,   8.00000000e+00,   1.04280000e+04,\n",
       "          6.70000000e+01,   4.92000000e+01,   7.50000000e+00,\n",
       "          1.30000000e+01],\n",
       "       [  2.10000000e+00,   6.40000000e+01,   7.25000000e+01,\n",
       "          8.05000000e+01,   9.00000000e+00,   1.22130000e+04,\n",
       "          6.40000000e+01,   3.51000000e+01,   7.78800000e+00,\n",
       "          9.93600000e+00],\n",
       "       [  3.77000000e+00,   3.20000000e+01,   7.00000000e+01,\n",
       "          7.54000000e+01,   1.70000000e+01,   1.40130000e+04,\n",
       "          9.30000000e+01,   2.75000000e+01,   2.08000000e+01,\n",
       "          2.01000000e+01],\n",
       "       [  2.10000000e+00,   6.70000000e+01,   7.09000000e+01,\n",
       "          7.98000000e+01,   7.00000000e+00,   1.18540000e+04,\n",
       "          6.26000000e+01,   4.19000000e+01,   2.19120000e+01,\n",
       "          2.03040000e+01],\n",
       "       [  1.40000000e+00,   5.70000000e+01,   6.60000000e+01,\n",
       "          7.32000000e+01,   2.40000000e+01,   1.57000000e+03,\n",
       "          7.27000000e+01,   5.74000000e+01,   1.10000000e+00,\n",
       "          3.10000000e+00],\n",
       "       [  1.35000000e+00,   3.20000000e+01,   5.80000000e+01,\n",
       "          7.15000000e+01,   1.90000000e+01,   2.45100000e+03,\n",
       "          6.81000000e+01,   5.04000000e+01,   3.00000000e-01,\n",
       "          6.00000000e-01],\n",
       "       [  3.80000000e+00,   3.40000000e+01,   6.75000000e+01,\n",
       "          7.11000000e+01,   5.80000000e+01,   1.10600000e+03,\n",
       "          7.73000000e+01,   4.02000000e+01,   1.84800000e+00,\n",
       "          1.65600000e+00],\n",
       "       [  5.62000000e+00,   1.30000000e+01,   5.03000000e+01,\n",
       "          5.23000000e+01,   6.20000000e+01,   5.72000000e+02,\n",
       "          8.31000000e+01,   2.43000000e+01,   5.70000000e+01,\n",
       "          7.68000000e+01],\n",
       "       [  1.79000000e+00,   7.40000000e+01,   7.51000000e+01,\n",
       "          7.95000000e+01,   5.00000000e+00,   2.55810000e+04,\n",
       "          7.87000000e+01,   5.15000000e+01,   4.10000000e+00,\n",
       "          1.37000000e+01],\n",
       "       [  3.81000000e+00,   5.00000000e+01,   6.23000000e+01,\n",
       "          6.83000000e+01,   4.80000000e+01,   3.23000000e+03,\n",
       "          7.96000000e+01,   5.04000000e+01,   1.81000000e+01,\n",
       "          1.83000000e+01],\n",
       "       [  1.22000000e+00,   5.90000000e+01,   7.45000000e+01,\n",
       "          8.15000000e+01,   7.00000000e+00,   1.41110000e+04,\n",
       "          6.31000000e+01,   3.70000000e+01,   1.80000000e+00,\n",
       "          3.90000000e+00],\n",
       "       [  2.10000000e+00,   6.60000000e+01,   7.09000000e+01,\n",
       "          7.54000000e+01,   1.50000000e+01,   7.16000000e+02,\n",
       "          7.56000000e+01,   3.55000000e+01,   6.60000000e+00,\n",
       "          1.28000000e+01],\n",
       "       [  4.61000000e+00,   8.00000000e+00,   5.36000000e+01,\n",
       "          5.64000000e+01,   7.10000000e+01,   3.60000000e+01,\n",
       "          7.46000000e+01,   2.59000000e+01,   4.23000000e+01,\n",
       "          6.54000000e+01],\n",
       "       [  4.46000000e+00,   2.00000000e+01,   5.77000000e+01,\n",
       "          6.23000000e+01,   6.50000000e+01,   1.38900000e+03,\n",
       "          6.43000000e+01,   2.77000000e+01,   2.20000000e+01,\n",
       "          2.44000000e+01],\n",
       "       [  3.93000000e+00,   2.10000000e+01,   6.42000000e+01,\n",
       "          7.02000000e+01,   5.60000000e+01,   1.22000000e+02,\n",
       "          7.50000000e+01,   6.00000000e+01,   3.00000000e-01,\n",
       "          4.00000000e-01],\n",
       "       [  1.74000000e+00,   7.40000000e+01,   6.63000000e+01,\n",
       "          7.23000000e+01,   3.00000000e+01,   2.89600000e+03,\n",
       "          8.38000000e+01,   6.52000000e+01,   4.00000000e+00,\n",
       "          8.40000000e+00],\n",
       "       [  6.08000000e+00,   1.20000000e+01,   4.88000000e+01,\n",
       "          5.15000000e+01,   8.60000000e+01,   3.22000000e+02,\n",
       "          7.75000000e+01,   5.08000000e+01,   3.30000000e+01,\n",
       "          6.30000000e+01],\n",
       "       [  4.02000000e+00,   7.40000000e+01,   6.70000000e+01,\n",
       "          7.10000000e+01,   3.00000000e+00,   1.78700000e+03,\n",
       "          7.42000000e+01,   4.54000000e+01,   2.64000000e-01,\n",
       "          5.04000000e-01],\n",
       "       [  2.10000000e+00,   5.30000000e+01,   7.15000000e+01,\n",
       "          7.62000000e+01,   1.40000000e+01,   4.08300000e+03,\n",
       "          7.55000000e+01,   4.49000000e+01,   1.20000000e+00,\n",
       "          3.00000000e+00],\n",
       "       [  2.92000000e+00,   6.00000000e+01,   6.84000000e+01,\n",
       "          7.07000000e+01,   3.70000000e+01,   2.03000000e+03,\n",
       "          7.54000000e+01,   2.03000000e+01,   2.14000000e+01,\n",
       "          4.54000000e+01],\n",
       "       [  2.50000000e+00,   6.30000000e+01,   6.65000000e+01,\n",
       "          7.17000000e+01,   4.40000000e+01,   2.81400000e+03,\n",
       "          7.59000000e+01,   3.06000000e+01,   8.30000000e+00,\n",
       "          2.76000000e+01],\n",
       "       [  3.58000000e+00,   2.00000000e+01,   6.12000000e+01,\n",
       "          6.80000000e+01,   5.70000000e+01,   3.21000000e+02,\n",
       "          7.80000000e+01,   6.20000000e+01,   2.00000000e-01,\n",
       "          4.00000000e-01],\n",
       "       [  1.38000000e+00,   2.30000000e+01,   6.36000000e+01,\n",
       "          7.40000000e+01,   1.80000000e+01,   6.94000000e+02,\n",
       "          6.91000000e+01,   5.71000000e+01,   3.30000000e-01,\n",
       "          2.16000000e+00],\n",
       "       [  1.96000000e+00,   7.10000000e+01,   7.34000000e+01,\n",
       "          8.01000000e+01,   7.00000000e+00,   2.60370000e+04,\n",
       "          7.49000000e+01,   5.93000000e+01,   2.24400000e+00,\n",
       "          2.23200000e+00],\n",
       "       [  3.48000000e+00,   5.60000000e+01,   6.43000000e+01,\n",
       "          7.07000000e+01,   4.30000000e+01,   4.35000000e+02,\n",
       "          7.50000000e+01,   6.10000000e+01,   2.00000000e-01,\n",
       "          4.00000000e-01],\n",
       "       [  4.36000000e+00,   1.50000000e+01,   6.55000000e+01,\n",
       "          6.95000000e+01,   3.80000000e+01,   1.28900000e+03,\n",
       "          8.86000000e+01,   7.93000000e+01,   3.49140000e+01,\n",
       "          4.63680000e+01],\n",
       "       [  2.98000000e+00,   5.20000000e+01,   7.00000000e+01,\n",
       "          7.57000000e+01,   2.10000000e+01,   3.49600000e+03,\n",
       "          8.21000000e+01,   4.12000000e+01,   8.20000000e+00,\n",
       "          9.70000000e+00],\n",
       "       [  2.97000000e+00,   6.50000000e+01,   6.49000000e+01,\n",
       "          6.96000000e+01,   3.70000000e+01,   2.70000000e+02,\n",
       "          8.16000000e+01,   7.41000000e+01,   3.50000000e+00,\n",
       "          8.80000000e+00],\n",
       "       [  7.60000000e+00,   7.00000000e+00,   5.74000000e+01,\n",
       "          5.84000000e+01,   8.00000000e+01,   7.32000000e+02,\n",
       "          8.06000000e+01,   1.90000000e+00,   3.24060000e+01,\n",
       "          6.95520000e+01],\n",
       "       [  4.68000000e+00,   4.80000000e+01,   4.76000000e+01,\n",
       "          4.94000000e+01,   6.80000000e+01,   7.86000000e+02,\n",
       "          7.77000000e+01,   4.67000000e+01,   9.60000000e+00,\n",
       "          2.01000000e+01]])"
      ]
     },
     "execution_count": 103,
     "metadata": {},
     "output_type": "execute_result"
    }
   ],
   "source": [
    "pc_toarray = df.values\n",
    "pc_toarray"
   ]
  },
  {
   "cell_type": "code",
   "execution_count": 104,
   "metadata": {},
   "outputs": [],
   "source": [
    "from sklearn.preprocessing import scale\n",
    "\n",
    "#Scaling the values\n",
    "pc_toarray = scale(pc_toarray)"
   ]
  },
  {
   "cell_type": "code",
   "execution_count": 105,
   "metadata": {
    "collapsed": true
   },
   "outputs": [],
   "source": [
    "from sklearn.cluster import KMeans\n",
    "import matplotlib.pyplot as plt\n",
    "import numpy as np\n",
    "from sklearn.decomposition import PCA"
   ]
  },
  {
   "cell_type": "code",
   "execution_count": 106,
   "metadata": {},
   "outputs": [
    {
     "data": {
      "text/plain": [
       "PCA(copy=True, iterated_power='auto', n_components=10, random_state=None,\n",
       "  svd_solver='auto', tol=0.0, whiten=False)"
      ]
     },
     "execution_count": 106,
     "metadata": {},
     "output_type": "execute_result"
    }
   ],
   "source": [
    "hpc = PCA(n_components=10).fit(pc_toarray)\n",
    "hpc"
   ]
  },
  {
   "cell_type": "code",
   "execution_count": 108,
   "metadata": {},
   "outputs": [
    {
     "data": {
      "text/plain": [
       "array([ 0.58858332,  0.12418127,  0.10245655,  0.07403812,  0.04929412,\n",
       "        0.03151779,  0.014864  ,  0.01084343,  0.00283283,  0.00138858])"
      ]
     },
     "execution_count": 108,
     "metadata": {},
     "output_type": "execute_result"
    }
   ],
   "source": [
    "hpc.explained_variance_ratio_"
   ]
  },
  {
   "cell_type": "code",
   "execution_count": 109,
   "metadata": {},
   "outputs": [
    {
     "data": {
      "text/plain": [
       "array([  58.86,   71.28,   81.53,   88.93,   93.86,   97.01,   98.5 ,\n",
       "         99.58,   99.86,  100.  ])"
      ]
     },
     "execution_count": 109,
     "metadata": {},
     "output_type": "execute_result"
    }
   ],
   "source": [
    "#Cumulative Variance explains\n",
    "var1=np.cumsum(np.round(hpc.explained_variance_ratio_, decimals=4)*100)\n",
    "var1"
   ]
  },
  {
   "cell_type": "code",
   "execution_count": 110,
   "metadata": {},
   "outputs": [
    {
     "data": {
      "text/plain": [
       "[<matplotlib.lines.Line2D at 0xd950390>]"
      ]
     },
     "execution_count": 110,
     "metadata": {},
     "output_type": "execute_result"
    },
    {
     "data": {
      "image/png": "[encoded data removed]",
      "text/plain": [
       "<matplotlib.figure.Figure at 0xd656438>"
      ]
     },
     "metadata": {},
     "output_type": "display_data"
    }
   ],
   "source": [
    "plt.plot(var1)"
   ]
  },
  {
   "cell_type": "code",
   "execution_count": 111,
   "metadata": {},
   "outputs": [
    {
     "data": {
      "text/plain": [
       "array([[ 0.32358057,  2.25063269,  0.62161949, -0.79845776],\n",
       "       [-1.55687058, -1.04107824,  1.83553096,  0.11374063],\n",
       "       [-2.51605611, -0.76838707, -1.53678834,  0.93469974],\n",
       "       [-1.30901434,  1.3048037 , -1.47195555, -0.34722548],\n",
       "       [ 2.6921884 , -0.10576982, -1.68464323, -0.3780492 ],\n",
       "       [-2.69026797, -0.67930794, -0.24490005,  0.41662681],\n",
       "       [-1.81745162, -1.44822807,  0.07688711, -0.46309752],\n",
       "       [-0.76908909,  1.00459886, -0.21891918, -0.70637815],\n",
       "       [ 4.22832876, -0.15657465, -1.42472951, -0.05562593],\n",
       "       [ 0.74051818, -1.01540218,  0.60311004,  0.09570697],\n",
       "       [ 2.1174244 , -0.3753875 ,  0.78916673,  0.70741163],\n",
       "       [-0.85419482, -0.50955479, -1.21304202, -0.34655825],\n",
       "       [ 6.02418873, -1.11475333, -1.67119533,  0.74673303],\n",
       "       [ 5.51210145, -2.10640044, -1.74782407,  0.74718066],\n",
       "       [ 3.74573886, -1.68117357, -0.8319057 ,  0.26054203],\n",
       "       [-1.8206533 ,  0.53130251,  0.42326161, -0.23790696],\n",
       "       [-1.17136226, -1.4558503 , -1.62739947, -0.87960578],\n",
       "       [-1.54254253, -0.39276321, -0.43322452, -0.69581773],\n",
       "       [-1.22675632, -0.09648011,  0.80695674,  0.35284108],\n",
       "       [-2.31470716,  0.70643498, -0.31107087, -1.13358911],\n",
       "       [-2.71636304,  0.06753515,  0.39008059, -0.72389006],\n",
       "       [-0.86346142,  0.15968112, -0.72065097, -0.9594736 ],\n",
       "       [-0.79532526, -0.39713555, -0.23378561, -0.65141207],\n",
       "       [ 0.96636872,  1.59542642,  0.70104315, -0.29564596],\n",
       "       [-0.17356899,  0.43477037, -0.35762224, -0.59934749],\n",
       "       [-2.33028408, -1.0554136 ,  0.51890661, -0.21270636],\n",
       "       [ 5.33533745, -0.35101636, -0.55586719,  0.49719861],\n",
       "       [-1.16104707,  1.00554394, -0.41364874, -1.22687286],\n",
       "       [ 4.73625506, -0.22543754,  1.46435565,  1.20204747],\n",
       "       [-1.39309919, -1.17198272,  0.56432437, -0.38047251],\n",
       "       [ 1.40053063,  1.94370677, -0.33249337, -0.86546328],\n",
       "       [ 5.61082762,  0.01902583,  0.41056503,  0.78507604],\n",
       "       [ 3.46741106, -0.07375443, -0.09734286,  0.28905285],\n",
       "       [ 0.28701812,  0.8396058 , -0.89309552, -1.19790257],\n",
       "       [-3.89903728,  1.03321896, -1.64532519,  2.25843549],\n",
       "       [-2.59819923, -0.47536697,  1.77788806,  0.49503315],\n",
       "       [ 1.66944615,  0.75905521, -0.10890841, -0.40678622],\n",
       "       [-0.1202386 , -0.66763775, -0.77566819, -0.77387264],\n",
       "       [ 0.13590044,  2.15652039,  0.15075816, -1.12937446],\n",
       "       [ 2.10408464,  2.34937961,  0.8488721 ,  1.5189643 ],\n",
       "       [ 4.33503165,  0.30198357, -0.81563814, -0.03124321],\n",
       "       [-1.78629663, -0.65988776, -0.24950416, -0.34654528],\n",
       "       [-0.24424703,  1.55444752,  1.47605076, -0.70167566],\n",
       "       [-1.27889152, -1.54930986, -0.17346129, -0.50736529],\n",
       "       [-2.78776922, -0.13259695, -0.54245738,  0.43317856],\n",
       "       [-1.6453407 ,  1.62427143, -1.07783066,  1.27541207],\n",
       "       [-0.6543489 , -1.40802962,  0.58756885, -0.25975661],\n",
       "       [-1.8480056 , -1.05664373,  1.05241142, -0.0582332 ],\n",
       "       [-2.05474695, -1.53892212, -0.06024008, -0.36711408],\n",
       "       [ 5.38552938, -2.27726192,  0.11057252,  1.06921088],\n",
       "       [-1.22655777,  0.38935712, -0.11476395, -0.24249756],\n",
       "       [ 0.34191069,  0.15976279,  0.95355908, -0.38296841],\n",
       "       [-1.62344714,  0.42610057, -0.58216757, -0.72117132],\n",
       "       [-1.16098163,  0.33726516, -0.63886715, -0.9524207 ],\n",
       "       [-0.94190653, -1.54423725,  0.574549  , -0.17499691],\n",
       "       [ 1.03055896,  1.63964788,  0.27621057, -0.27280808],\n",
       "       [ 1.09930743, -0.34122265,  1.18289111,  0.37020501],\n",
       "       [ 1.53070464, -0.72294675,  1.50545486,  0.75934462],\n",
       "       [ 3.65937783,  0.56095308, -0.43527649,  0.23897846],\n",
       "       [-1.87874611,  0.51350478, -1.287524  ,  2.08805012],\n",
       "       [ 0.61411272,  0.91172355, -0.71174857, -1.02851859],\n",
       "       [ 3.57198353,  0.19408097,  0.7626778 ,  0.28802287],\n",
       "       [ 2.88815109,  2.37723078,  0.03517165, -0.57276131],\n",
       "       [-1.71263856,  0.18706793, -0.61841653, -0.86630673],\n",
       "       [-0.53356742,  0.78844216, -0.46089292, -1.28774278],\n",
       "       [-1.49397715,  0.14711665,  3.23957854,  0.85921422],\n",
       "       [-0.49150998, -0.53934227, -0.32739536, -0.79928757],\n",
       "       [-2.87951516,  0.1533551 ,  0.35365063,  1.10947368],\n",
       "       [-2.96219047,  0.97859267,  0.87981758,  1.32373701],\n",
       "       [-0.66633239,  1.82387709, -2.17867236,  0.31897755],\n",
       "       [-2.5259681 ,  0.89172097,  0.72310615,  1.54127495],\n",
       "       [-1.87054155, -1.20071458,  0.46365342, -0.24142838],\n",
       "       [-1.35056571, -1.19698324,  1.47522581,  0.35098826],\n",
       "       [-0.39973836, -0.24211082,  0.59721261, -0.56294413],\n",
       "       [ 4.2183248 ,  1.41579022,  0.00772194, -0.05105383],\n",
       "       [-3.48266579,  0.99299836, -2.04618425,  2.70893387],\n",
       "       [ 0.12251156, -0.3644315 , -0.29972401, -0.11175521],\n",
       "       [-3.55241911,  0.81963387,  0.91300543,  1.63653199],\n",
       "       [-1.91181447,  0.30260495,  0.3042442 , -0.99571423],\n",
       "       [ 3.21432904,  0.97410008,  1.15430905,  0.22476563],\n",
       "       [ 1.2430938 ,  0.41177514,  2.39194026,  0.56380238],\n",
       "       [-0.08456703, -1.40321466,  0.73382318, -0.167868  ],\n",
       "       [-1.59184267, -1.31814398, -1.2333089 , -0.59878357],\n",
       "       [ 3.95772584, -0.46858015,  0.57352509,  0.57492288],\n",
       "       [-1.72500978, -0.30795262,  0.37380986, -0.6645602 ],\n",
       "       [-2.16768469, -0.13943346,  0.13168671, -0.32399316],\n",
       "       [-0.36120918,  1.51980116,  0.4227759 , -0.61829031],\n",
       "       [-0.8965896 ,  0.58171879,  0.35713931, -0.46393359],\n",
       "       [ 0.14387547, -1.64904381,  0.42381315, -0.1841964 ],\n",
       "       [-1.46686584, -1.36143338,  1.27615247,  0.05493825],\n",
       "       [-3.62346334,  0.43623834, -1.6574777 ,  3.10060728],\n",
       "       [-0.89682391, -1.39678125,  0.34524414, -0.39046537],\n",
       "       [ 1.4503941 , -1.07909874, -1.88559845, -0.20091151],\n",
       "       [-1.35821854,  0.22565461, -0.56183279, -0.72425573],\n",
       "       [-0.86092512, -1.88121392, -0.83737201, -0.62618293],\n",
       "       [ 3.78388518,  2.51983918,  0.96103126, -0.43128447],\n",
       "       [ 1.94946296, -1.17750566,  0.74545015,  0.08470523]])"
      ]
     },
     "execution_count": 111,
     "metadata": {},
     "output_type": "execute_result"
    }
   ],
   "source": [
    "hpc = PCA(n_components=4).fit_transform(pc_toarray)\n",
    "hpc"
   ]
  },
  {
   "cell_type": "markdown",
   "metadata": {},
   "source": [
    "### Para determinar el número de clusters"
   ]
  },
  {
   "cell_type": "markdown",
   "metadata": {},
   "source": [
    "Nos da una idea de la cantidad de clusters que nos permitirán segmentar nuestros datos."
   ]
  },
  {
   "cell_type": "code",
   "execution_count": 112,
   "metadata": {
    "scrolled": true
   },
   "outputs": [
    {
     "data": {
      "text/plain": [
       "[KMeans(algorithm='auto', copy_x=True, init='k-means++', max_iter=300,\n",
       "     n_clusters=1, n_init=10, n_jobs=1, precompute_distances='auto',\n",
       "     random_state=None, tol=0.0001, verbose=0),\n",
       " KMeans(algorithm='auto', copy_x=True, init='k-means++', max_iter=300,\n",
       "     n_clusters=2, n_init=10, n_jobs=1, precompute_distances='auto',\n",
       "     random_state=None, tol=0.0001, verbose=0),\n",
       " KMeans(algorithm='auto', copy_x=True, init='k-means++', max_iter=300,\n",
       "     n_clusters=3, n_init=10, n_jobs=1, precompute_distances='auto',\n",
       "     random_state=None, tol=0.0001, verbose=0),\n",
       " KMeans(algorithm='auto', copy_x=True, init='k-means++', max_iter=300,\n",
       "     n_clusters=4, n_init=10, n_jobs=1, precompute_distances='auto',\n",
       "     random_state=None, tol=0.0001, verbose=0),\n",
       " KMeans(algorithm='auto', copy_x=True, init='k-means++', max_iter=300,\n",
       "     n_clusters=5, n_init=10, n_jobs=1, precompute_distances='auto',\n",
       "     random_state=None, tol=0.0001, verbose=0),\n",
       " KMeans(algorithm='auto', copy_x=True, init='k-means++', max_iter=300,\n",
       "     n_clusters=6, n_init=10, n_jobs=1, precompute_distances='auto',\n",
       "     random_state=None, tol=0.0001, verbose=0),\n",
       " KMeans(algorithm='auto', copy_x=True, init='k-means++', max_iter=300,\n",
       "     n_clusters=7, n_init=10, n_jobs=1, precompute_distances='auto',\n",
       "     random_state=None, tol=0.0001, verbose=0),\n",
       " KMeans(algorithm='auto', copy_x=True, init='k-means++', max_iter=300,\n",
       "     n_clusters=8, n_init=10, n_jobs=1, precompute_distances='auto',\n",
       "     random_state=None, tol=0.0001, verbose=0),\n",
       " KMeans(algorithm='auto', copy_x=True, init='k-means++', max_iter=300,\n",
       "     n_clusters=9, n_init=10, n_jobs=1, precompute_distances='auto',\n",
       "     random_state=None, tol=0.0001, verbose=0),\n",
       " KMeans(algorithm='auto', copy_x=True, init='k-means++', max_iter=300,\n",
       "     n_clusters=10, n_init=10, n_jobs=1, precompute_distances='auto',\n",
       "     random_state=None, tol=0.0001, verbose=0),\n",
       " KMeans(algorithm='auto', copy_x=True, init='k-means++', max_iter=300,\n",
       "     n_clusters=11, n_init=10, n_jobs=1, precompute_distances='auto',\n",
       "     random_state=None, tol=0.0001, verbose=0),\n",
       " KMeans(algorithm='auto', copy_x=True, init='k-means++', max_iter=300,\n",
       "     n_clusters=12, n_init=10, n_jobs=1, precompute_distances='auto',\n",
       "     random_state=None, tol=0.0001, verbose=0),\n",
       " KMeans(algorithm='auto', copy_x=True, init='k-means++', max_iter=300,\n",
       "     n_clusters=13, n_init=10, n_jobs=1, precompute_distances='auto',\n",
       "     random_state=None, tol=0.0001, verbose=0),\n",
       " KMeans(algorithm='auto', copy_x=True, init='k-means++', max_iter=300,\n",
       "     n_clusters=14, n_init=10, n_jobs=1, precompute_distances='auto',\n",
       "     random_state=None, tol=0.0001, verbose=0),\n",
       " KMeans(algorithm='auto', copy_x=True, init='k-means++', max_iter=300,\n",
       "     n_clusters=15, n_init=10, n_jobs=1, precompute_distances='auto',\n",
       "     random_state=None, tol=0.0001, verbose=0),\n",
       " KMeans(algorithm='auto', copy_x=True, init='k-means++', max_iter=300,\n",
       "     n_clusters=16, n_init=10, n_jobs=1, precompute_distances='auto',\n",
       "     random_state=None, tol=0.0001, verbose=0),\n",
       " KMeans(algorithm='auto', copy_x=True, init='k-means++', max_iter=300,\n",
       "     n_clusters=17, n_init=10, n_jobs=1, precompute_distances='auto',\n",
       "     random_state=None, tol=0.0001, verbose=0),\n",
       " KMeans(algorithm='auto', copy_x=True, init='k-means++', max_iter=300,\n",
       "     n_clusters=18, n_init=10, n_jobs=1, precompute_distances='auto',\n",
       "     random_state=None, tol=0.0001, verbose=0),\n",
       " KMeans(algorithm='auto', copy_x=True, init='k-means++', max_iter=300,\n",
       "     n_clusters=19, n_init=10, n_jobs=1, precompute_distances='auto',\n",
       "     random_state=None, tol=0.0001, verbose=0)]"
      ]
     },
     "execution_count": 112,
     "metadata": {},
     "output_type": "execute_result"
    }
   ],
   "source": [
    "# Determine your k range\n",
    "k_range = range(1,20)\n",
    "\n",
    "# Fit the kmeans model for each n_clusters = k\n",
    "k_means_var = [KMeans(n_clusters=k).fit(hpc) for k in k_range]\n",
    "k_means_var"
   ]
  },
  {
   "cell_type": "code",
   "execution_count": 113,
   "metadata": {
    "scrolled": true
   },
   "outputs": [
    {
     "data": {
      "text/plain": [
       "[array([[ -5.49388713e-17,   9.15647855e-17,   5.72279910e-18,\n",
       "          -9.29954853e-18]]),\n",
       " array([[-1.29901664, -0.0224291 , -0.01931832, -0.11335694],\n",
       "        [ 3.36782091,  0.05814952,  0.05008453,  0.29388836]]),\n",
       " array([[ 0.06712576,  0.43186864, -0.02561476, -0.48278955],\n",
       "        [ 3.93036608,  0.02851276, -0.06671445,  0.36737117],\n",
       "        [-1.97099622, -0.34535891,  0.05223931,  0.19109908]]),\n",
       " array([[-1.2988786 , -0.4489298 ,  0.08646072, -0.42363256],\n",
       "        [ 4.43202336, -0.40459257, -0.39566697,  0.41219957],\n",
       "        [ 1.28569665,  0.87504961,  0.49488955, -0.20808831],\n",
       "        [-2.70162532,  0.6972023 , -0.75855667,  1.56077603]]),\n",
       " array([[ 4.88710648, -0.80601886, -0.44881417,  0.57960425],\n",
       "        [-0.72217648,  0.58212086, -0.26887307, -0.69823712],\n",
       "        [ 2.31879091,  0.67712104,  0.35882515,  0.08265732],\n",
       "        [-2.88665195,  0.59477731, -0.62945525,  1.6736668 ],\n",
       "        [-1.4368501 , -1.00818453,  0.44256395, -0.19742821]]),\n",
       " array([[ 1.57023531,  1.82908969,  0.52578767, -0.33913884],\n",
       "        [-0.88736721,  0.18503099, -0.55549546, -0.70710297],\n",
       "        [ 4.43202336, -0.40459257, -0.39566697,  0.41219957],\n",
       "        [ 1.05321246, -0.7192284 ,  0.74436101,  0.16452315],\n",
       "        [-2.88665195,  0.59477731, -0.62945525,  1.6736668 ],\n",
       "        [-1.71298228, -0.84464692,  0.69025503, -0.12314316]]),\n",
       " array([[-2.88665195,  0.59477731, -0.62945525,  1.6736668 ],\n",
       "        [ 0.95702525,  1.73250654,  0.30721377, -0.4700743 ],\n",
       "        [-1.04725701,  0.22105164, -0.54818171, -0.70608172],\n",
       "        [ 5.20057917, -1.50612112, -0.93924396,  0.66417304],\n",
       "        [-1.66935827, -0.95430676,  0.6329535 , -0.14079207],\n",
       "        [ 3.95630573,  0.41297136,  0.0730463 ,  0.2213008 ],\n",
       "        [ 0.96860329, -0.68697414,  0.64944419,  0.13940694]]),\n",
       " array([[ 0.58220601,  1.51705674,  0.16022121, -0.73149229],\n",
       "        [ 4.76325248, -0.83021563, -0.91229618,  0.4045581 ],\n",
       "        [-0.53289548, -1.04050924, -0.93032997, -0.53825808],\n",
       "        [-2.88665195,  0.59477731, -0.62945525,  1.6736668 ],\n",
       "        [ 1.00908117, -0.67924281,  1.03657873,  0.205127  ],\n",
       "        [-1.72930326, -0.87821124,  0.74679052, -0.09819386],\n",
       "        [-1.17048921,  0.48301128, -0.4018228 , -0.68715961],\n",
       "        [ 3.56015281,  0.96236018,  0.52750452,  0.32816548]]),\n",
       " array([[ 1.00908117, -0.67924281,  1.03657873,  0.205127  ],\n",
       "        [-0.53289548, -1.04050924, -0.93032997, -0.53825808],\n",
       "        [ 5.19285408, -1.10528819, -0.40304273,  0.7582841 ],\n",
       "        [-2.90585065,  0.92004637, -1.54286836,  2.28628777],\n",
       "        [-2.75535932,  0.13234582,  0.11857792,  0.70529328],\n",
       "        [ 0.95702525,  1.73250654,  0.30721377, -0.4700743 ],\n",
       "        [-1.58892644, -0.98900109,  0.86229077, -0.07838946],\n",
       "        [ 3.71285861,  0.51620681, -0.09983651,  0.0668486 ],\n",
       "        [-1.09761385,  0.500841  , -0.42638644, -0.71269676]]),\n",
       " array([[-2.66871154,  0.41917538,  1.31450773,  1.1608775 ],\n",
       "        [ 3.86123658, -0.02384823, -0.24812554,  0.23375944],\n",
       "        [-0.4679992 ,  0.20720362, -0.70917549, -0.67248344],\n",
       "        [ 0.58476   ,  1.50877787,  0.46229059, -0.60794113],\n",
       "        [ 2.99761249,  2.05513741,  0.74984602,  0.18492104],\n",
       "        [-2.90585065,  0.92004637, -1.54286836,  2.28628777],\n",
       "        [ 1.4467519 , -0.5367816 ,  1.20300219,  0.43019597],\n",
       "        [-1.26404559, -1.2941006 ,  0.56846905, -0.18596325],\n",
       "        [-1.96824185, -0.09765095, -0.30033451, -0.40565791],\n",
       "        [ 5.57359692, -1.16608124, -0.69074981,  0.76907984]]),\n",
       " array([[ 0.92327789,  1.78110206,  0.45414405, -0.36890589],\n",
       "        [-0.4791659 , -0.91248987, -0.93703267, -0.55426328],\n",
       "        [ 4.91003649, -0.25650205,  0.47314464,  0.76481125],\n",
       "        [-1.23691695, -1.19768277,  0.65285638, -0.18224333],\n",
       "        [-2.84088489,  0.6386408 , -1.54185502,  2.0610231 ],\n",
       "        [ 5.1668896 , -1.79489732, -1.03508815,  0.70591665],\n",
       "        [-1.95599791,  0.03743685, -0.14537535, -0.48760305],\n",
       "        [ 3.60590113,  0.8007879 , -0.15367185, -0.04791981],\n",
       "        [ 1.28891744, -0.43727526,  1.16736746,  0.31402963],\n",
       "        [-0.58281086,  0.89265264, -0.60717983, -0.75576071],\n",
       "        [-2.66871154,  0.41917538,  1.31450773,  1.1608775 ]]),\n",
       " array([[ 5.64060652, -1.83280523, -1.10281563,  0.85437485],\n",
       "        [-0.32157993, -0.71772161, -0.83973415, -0.55432594],\n",
       "        [ 3.24175495,  1.92726798,  0.6014212 ,  0.13772606],\n",
       "        [-2.66871154,  0.41917538,  1.31450773,  1.1608775 ],\n",
       "        [ 0.58220601,  1.51705674,  0.16022121, -0.73149229],\n",
       "        [-2.25103766, -0.87895134, -0.47832747,  0.03705083],\n",
       "        [-1.50025725,  0.34547991, -0.1820137 , -0.76038379],\n",
       "        [-1.10950381, -1.18441809,  0.70932613, -0.16788774],\n",
       "        [-3.22097813,  0.74399011, -1.65912779,  2.53900669],\n",
       "        [-1.20689581,  1.58431741, -1.57615286,  0.41572138],\n",
       "        [ 1.28891744, -0.43727526,  1.16736746,  0.31402963],\n",
       "        [ 4.12183691, -0.18056937, -0.23947996,  0.33372026]]),\n",
       " array([[ 5.56428925, -1.46235801, -0.96607852,  0.76508079],\n",
       "        [-1.97879667, -0.19240791, -0.06546676, -0.44986421],\n",
       "        [ 1.28891744, -0.43727526,  1.16736746,  0.31402963],\n",
       "        [-1.20689581,  1.58431741, -1.57615286,  0.41572138],\n",
       "        [ 3.24175495,  1.92726798,  0.6014212 ,  0.13772606],\n",
       "        [-0.51746382,  0.67370553, -0.45092289, -0.93584337],\n",
       "        [-2.98002321,  0.71082565,  0.71739495,  1.40275441],\n",
       "        [ 4.19123037,  0.04403876,  0.26612373,  0.47812248],\n",
       "        [-3.07999373,  0.44151467, -1.6346599 ,  2.2181453 ],\n",
       "        [ 0.61511616,  1.67740476,  0.40088203, -0.63606272],\n",
       "        [-1.64874863, -0.72583843,  1.63767771,  0.30978892],\n",
       "        [-0.76975522, -1.11448518, -0.16574908, -0.46344828],\n",
       "        [ 3.02916253, -0.7556542 , -1.45671922, -0.09351115]]),\n",
       " array([[ -1.33482871e+00,   5.11213284e-01,  -2.73583504e-01,\n",
       "          -8.09097180e-01],\n",
       "        [  3.92334486e+00,  -2.15050311e-01,  -8.35057587e-01,\n",
       "           1.17264801e-01],\n",
       "        [ -3.64882546e-01,  -1.47113181e+00,   3.47248051e-01,\n",
       "          -2.43965607e-01],\n",
       "        [  3.24175495e+00,   1.92726798e+00,   6.01421202e-01,\n",
       "           1.37726064e-01],\n",
       "        [ -1.96501311e+00,  -8.59459942e-01,  -2.23870971e-01,\n",
       "          -2.88804676e-01],\n",
       "        [ -2.98002321e+00,   7.10825652e-01,   7.17394948e-01,\n",
       "           1.40275441e+00],\n",
       "        [ -3.22097813e+00,   7.43990110e-01,  -1.65912779e+00,\n",
       "           2.53900669e+00],\n",
       "        [  4.46919801e+00,  -1.20227721e-01,   8.02780891e-01,\n",
       "           7.12517314e-01],\n",
       "        [  1.58799865e+00,  -4.41057485e-01,   1.32298062e+00,\n",
       "           4.97093775e-01],\n",
       "        [ -1.20689581e+00,   1.58431741e+00,  -1.57615286e+00,\n",
       "           4.15721382e-01],\n",
       "        [ -1.69353022e-03,  -1.32131720e-01,  -4.67900751e-01,\n",
       "          -6.05043495e-01],\n",
       "        [  6.15116158e-01,   1.67740476e+00,   4.00882029e-01,\n",
       "          -6.36062715e-01],\n",
       "        [  5.64060652e+00,  -1.83280523e+00,  -1.10281563e+00,\n",
       "           8.54374855e-01],\n",
       "        [ -1.64874863e+00,  -7.25838432e-01,   1.63767771e+00,\n",
       "           3.09788915e-01]]),\n",
       " array([[-1.25188158,  0.50575308, -0.27958627, -0.79411506],\n",
       "        [ 5.12029318, -1.09545063, -0.81576918,  0.57861647],\n",
       "        [-2.98002321,  0.71082565,  0.71739495,  1.40275441],\n",
       "        [ 1.38031732, -0.34092077,  1.26141037,  0.35041674],\n",
       "        [-1.88026469, -0.85427935,  0.14571987, -0.44790823],\n",
       "        [ 2.92537363,  2.41548319,  0.61502501,  0.17163951],\n",
       "        [-3.22097813,  0.74399011, -1.65912779,  2.53900669],\n",
       "        [ 2.07129125, -0.59243428, -1.78512084, -0.28948035],\n",
       "        [ 0.58220601,  1.51705674,  0.16022121, -0.73149229],\n",
       "        [ 3.89505485,  0.33489198,  0.32679151,  0.34193664],\n",
       "        [-0.29899872, -1.23697423,  0.55218871, -0.23493149],\n",
       "        [-0.7203609 , -0.89166376, -0.81846195, -0.59843225],\n",
       "        [-1.20689581,  1.58431741, -1.57615286,  0.41572138],\n",
       "        [-1.64874863, -0.72583843,  1.63767771,  0.30978892],\n",
       "        [-2.66469776, -0.52676398, -0.77471526,  0.59483504]]),\n",
       " array([[-3.66838881,  0.82081855, -1.78299572,  2.68932555],\n",
       "        [-0.97957583, -1.2302851 , -0.97670865, -0.62206141],\n",
       "        [ 0.61511616,  1.67740476,  0.40088203, -0.63606272],\n",
       "        [ 4.46919801, -0.12022772,  0.80278089,  0.71251731],\n",
       "        [-2.23167676, -0.93543226, -0.19680536,  0.01920169],\n",
       "        [-0.52298148, -0.83775223,  0.39384551, -0.30944018],\n",
       "        [-2.98002321,  0.71082565,  0.71739495,  1.40275441],\n",
       "        [ 5.64060652, -1.83280523, -1.10281563,  0.85437485],\n",
       "        [ 2.07129125, -0.59243428, -1.78512084, -0.28948035],\n",
       "        [ 3.24175495,  1.92726798,  0.6014212 ,  0.13772606],\n",
       "        [ 1.4467519 , -0.5367816 ,  1.20300219,  0.43019597],\n",
       "        [ 4.1285376 , -0.23326373, -0.69345998,  0.19981713],\n",
       "        [-1.71908068, -0.83073149,  1.77613121,  0.30261355],\n",
       "        [-1.82905791,  0.18144623, -0.09076302, -0.66633662],\n",
       "        [-0.59661887,  0.73681534, -0.55302615, -0.87698158],\n",
       "        [-1.3968064 ,  1.3205511 , -1.51467567,  1.22747992]]),\n",
       " array([[ 0.61500466,  1.59232907,  0.27725641, -0.67966892],\n",
       "        [-1.93211573,  0.0721009 , -0.05713007, -0.67094948],\n",
       "        [ 4.46919801, -0.12022772,  0.80278089,  0.71251731],\n",
       "        [-0.98388853, -1.49909633,  0.22351364, -0.35215156],\n",
       "        [-3.66838881,  0.82081855, -1.78299572,  2.68932555],\n",
       "        [ 1.28891744, -0.43727526,  1.16736746,  0.31402963],\n",
       "        [-0.75052743,  0.50222974, -0.31144923, -0.81125174],\n",
       "        [-0.43144599, -0.79139936, -0.94949025, -0.54527332],\n",
       "        [-2.98002321,  0.71082565,  0.71739495,  1.40275441],\n",
       "        [ 3.92334486, -0.21505031, -0.83505759,  0.1172648 ],\n",
       "        [-2.04608819, -0.16412516,  2.5087333 ,  0.67712369],\n",
       "        [-1.66426995, -1.00124956,  1.06126249,  0.05144861],\n",
       "        [ 3.24175495,  1.92726798,  0.6014212 ,  0.13772606],\n",
       "        [-2.66469776, -0.52676398, -0.77471526,  0.59483504],\n",
       "        [ 5.64060652, -1.83280523, -1.10281563,  0.85437485],\n",
       "        [-0.98767337,  1.5643404 , -1.82531396, -0.01412396],\n",
       "        [-1.7620434 ,  1.0688881 , -1.18267733,  1.6817311 ]]),\n",
       " array([[-1.59667133, -1.28505302,  0.22892879, -0.34268797],\n",
       "        [ 4.453199  , -1.37167005, -0.71535423,  0.424709  ],\n",
       "        [ 0.04849861,  0.74363547, -0.60583981, -1.02837786],\n",
       "        [-0.84077125, -0.96698265, -0.89256737, -0.66795754],\n",
       "        [ 0.61511616,  1.67740476,  0.40088203, -0.63606272],\n",
       "        [-1.3968064 ,  1.3205511 , -1.51467567,  1.22747992],\n",
       "        [ 4.19123037,  0.04403876,  0.26612373,  0.47812248],\n",
       "        [-3.66838881,  0.82081855, -1.78299572,  2.68932555],\n",
       "        [-2.98002321,  0.71082565,  0.71739495,  1.40275441],\n",
       "        [-2.10937207,  0.19341525,  0.21866868, -0.67994229],\n",
       "        [ 5.62387588, -1.19072338, -1.3249622 ,  0.6637041 ],\n",
       "        [ 1.58799865, -0.44105748,  1.32298062,  0.49709378],\n",
       "        [ 3.24175495,  1.92726798,  0.6014212 ,  0.13772606],\n",
       "        [-2.66469776, -0.52676398, -0.77471526,  0.59483504],\n",
       "        [-1.23850797,  0.47536624, -0.49248251, -0.71875941],\n",
       "        [ 0.03002309, -0.84606711,  0.5141947 , -0.22482597],\n",
       "        [-1.64874863, -0.72583843,  1.63767771,  0.30978892],\n",
       "        [ 2.07129125, -0.59243428, -1.78512084, -0.28948035]]),\n",
       " array([[-1.20804335, -1.55173607, -1.23269346, -0.70152409],\n",
       "        [ 1.26672612,  1.48445907,  0.13396298, -0.46017588],\n",
       "        [-1.70593909,  0.2242225 , -0.09847085, -0.67277362],\n",
       "        [ 3.92334486, -0.21505031, -0.83505759,  0.1172648 ],\n",
       "        [-1.64874863, -0.72583843,  1.63767771,  0.30978892],\n",
       "        [-3.22097813,  0.74399011, -1.65912779,  2.53900669],\n",
       "        [ 1.28891744, -0.43727526,  1.16736746,  0.31402963],\n",
       "        [-0.11472717, -0.59286677, -0.78920227, -0.48063287],\n",
       "        [-2.98002321,  0.71082565,  0.71739495,  1.40275441],\n",
       "        [ 5.64060652, -1.83280523, -1.10281563,  0.85437485],\n",
       "        [ 3.63012035,  2.10428673,  0.33464162, -0.35169987],\n",
       "        [-0.37137188,  0.7349094 , -0.53951116, -1.00089086],\n",
       "        [ 4.21822422,  0.09863784,  0.87308652,  0.61496698],\n",
       "        [-0.0364938 ,  1.87035044,  0.66780108, -0.81194955],\n",
       "        [ 2.10408464,  2.34937961,  0.8488721 ,  1.5189643 ],\n",
       "        [-2.66469776, -0.52676398, -0.77471526,  0.59483504],\n",
       "        [-1.79018736, -1.23206553,  0.162938  , -0.35981849],\n",
       "        [-0.47225154, -1.2739029 ,  0.54370182, -0.29003791],\n",
       "        [-1.20689581,  1.58431741, -1.57615286,  0.41572138]])]"
      ]
     },
     "execution_count": 113,
     "metadata": {},
     "output_type": "execute_result"
    }
   ],
   "source": [
    "# Pull out the cluster centers for each model\n",
    "centroids = [X.cluster_centers_ for X in k_means_var]\n",
    "centroids"
   ]
  },
  {
   "cell_type": "code",
   "execution_count": 114,
   "metadata": {},
   "outputs": [
    {
     "data": {
      "text/plain": [
       "array([[ 2.94614935,  3.94895606],\n",
       "       [ 2.14386891,  5.35547944],\n",
       "       [ 2.33211844,  6.18320113],\n",
       "       [ 1.98153887,  5.11415365],\n",
       "       [ 4.33359347,  1.98598321],\n",
       "       [ 1.64281465,  6.11116723],\n",
       "       [ 1.55988829,  5.45251965],\n",
       "       [ 1.31420101,  4.36837347],\n",
       "       [ 5.70509032,  1.75607999],\n",
       "       [ 2.36152972,  2.89833502],\n",
       "       [ 3.62270039,  1.57120646],\n",
       "       [ 1.38366072,  4.48925   ],\n",
       "       [ 7.63485176,  3.40585728],\n",
       "       [ 7.37987285,  3.5666742 ],\n",
       "       [ 5.385266  ,  1.98672734],\n",
       "       [ 0.88888312,  5.25035291],\n",
       "       [ 2.28999001,  5.20455765],\n",
       "       [ 0.84085144,  5.05253374],\n",
       "       [ 0.95434594,  4.65944   ],\n",
       "       [ 1.63977539,  5.90588896],\n",
       "       [ 1.59916308,  6.17809457],\n",
       "       [ 1.19609923,  4.48096064],\n",
       "       [ 0.8541718 ,  4.30270213],\n",
       "       [ 2.88124578,  2.98353661],\n",
       "       [ 1.35140672,  3.69423615],\n",
       "       [ 1.55888611,  5.84678164],\n",
       "       [ 6.69203156,  2.10880312],\n",
       "       [ 1.57199821,  4.89243953],\n",
       "       [ 6.35588657,  2.1858521 ],\n",
       "       [ 1.31996764,  4.9898688 ],\n",
       "       [ 3.43758465,  2.9859704 ],\n",
       "       [ 6.98137863,  2.32461207],\n",
       "       [ 4.78429606,  0.22152893],\n",
       "       [ 2.27998602,  3.6355259 ],\n",
       "       [ 4.01793453,  7.77765054],\n",
       "       [ 2.34374005,  6.23729111],\n",
       "       [ 3.08490132,  1.97280745],\n",
       "       [ 1.67754522,  3.80989599],\n",
       "       [ 2.80500009,  4.10904885],\n",
       "       [ 4.54145374,  2.99760527],\n",
       "       [ 5.69987821,  1.36019776],\n",
       "       [ 0.86669352,  5.25170579],\n",
       "       [ 2.48622734,  4.27907348],\n",
       "       [ 1.58454173,  4.9867667 ],\n",
       "       [ 1.67358798,  6.18855247],\n",
       "       [ 2.42501355,  5.46077912],\n",
       "       [ 1.65082712,  4.35005096],\n",
       "       [ 1.58827959,  5.43840591],\n",
       "       [ 1.71375222,  5.692449  ],\n",
       "       [ 7.15421308,  3.18277832],\n",
       "       [ 0.44788988,  4.64035545],\n",
       "       [ 1.93520468,  3.23123184],\n",
       "       [ 0.99632907,  5.14570049],\n",
       "       [ 1.11189135,  4.75561759],\n",
       "       [ 1.67329183,  4.65148474],\n",
       "       [ 2.88135113,  2.88724927],\n",
       "       [ 2.74458144,  2.56801996],\n",
       "       [ 3.40361407,  2.51393315],\n",
       "       [ 5.0222676 ,  0.75921491],\n",
       "       [ 2.66042291,  5.72206491],\n",
       "       [ 2.41861232,  3.2620005 ],\n",
       "       [ 4.95440641,  0.75364667],\n",
       "       [ 4.84817106,  2.52180988],\n",
       "       [ 1.0680937 ,  5.25553372],\n",
       "       [ 1.67856931,  4.30311669],\n",
       "       [ 3.41072701,  5.84272717],\n",
       "       [ 1.21847385,  4.07295421],\n",
       "       [ 2.0404157 ,  6.30837569],\n",
       "       [ 2.57718376,  6.5318684 ],\n",
       "       [ 2.9425939 ,  4.93560264],\n",
       "       [ 2.37277918,  6.11886604],\n",
       "       [ 1.4016638 ,  5.42980508],\n",
       "       [ 1.95742519,  5.08653306],\n",
       "       [ 1.19966683,  3.9138434 ],\n",
       "       [ 5.70211752,  1.63930621],\n",
       "       [ 4.22763852,  7.61773575],\n",
       "       [ 1.48873704,  3.31625093],\n",
       "       [ 3.11740784,  7.1426119 ],\n",
       "       [ 1.16808194,  5.44628131],\n",
       "       [ 4.78069949,  1.444512  ],\n",
       "       [ 3.59493692,  3.19322066],\n",
       "       [ 1.9878758 ,  3.83865669],\n",
       "       [ 1.86387669,  5.37925724],\n",
       "       [ 5.35327793,  0.98914225],\n",
       "       [ 0.84933424,  5.20522592],\n",
       "       [ 0.91402644,  5.573984  ],\n",
       "       [ 1.92571078,  4.12468904],\n",
       "       [ 0.88970024,  4.3735453 ],\n",
       "       [ 2.22017945,  3.69818487],\n",
       "       [ 1.87821022,  5.19131498],\n",
       "       [ 4.31584991,  7.73397999],\n",
       "       [ 1.50342865,  4.56721777],\n",
       "       [ 3.4880478 ,  2.99358559],\n",
       "       [ 0.85590284,  4.87591704],\n",
       "       [ 2.1399083 ,  4.82467965],\n",
       "       [ 5.77591396,  2.75476407],\n",
       "       [ 3.53707802,  2.01640122]])"
      ]
     },
     "execution_count": 114,
     "metadata": {},
     "output_type": "execute_result"
    }
   ],
   "source": [
    "# Calculate the Euclidean distance from \n",
    "# each point to each cluster center\n",
    "k_euclid = [cdist(hpc, cent, 'euclidean') for cent in centroids]\n",
    "k_euclid[1]"
   ]
  },
  {
   "cell_type": "code",
   "execution_count": 115,
   "metadata": {},
   "outputs": [
    {
     "data": {
      "text/plain": [
       "array([ 2.94614935,  2.14386891,  2.33211844,  1.98153887,  1.98598321,\n",
       "        1.64281465,  1.55988829,  1.31420101,  1.75607999,  2.36152972,\n",
       "        1.57120646,  1.38366072,  3.40585728,  3.5666742 ,  1.98672734,\n",
       "        0.88888312,  2.28999001,  0.84085144,  0.95434594,  1.63977539,\n",
       "        1.59916308,  1.19609923,  0.8541718 ,  2.88124578,  1.35140672,\n",
       "        1.55888611,  2.10880312,  1.57199821,  2.1858521 ,  1.31996764,\n",
       "        2.9859704 ,  2.32461207,  0.22152893,  2.27998602,  4.01793453,\n",
       "        2.34374005,  1.97280745,  1.67754522,  2.80500009,  2.99760527,\n",
       "        1.36019776,  0.86669352,  2.48622734,  1.58454173,  1.67358798,\n",
       "        2.42501355,  1.65082712,  1.58827959,  1.71375222,  3.18277832,\n",
       "        0.44788988,  1.93520468,  0.99632907,  1.11189135,  1.67329183,\n",
       "        2.88135113,  2.56801996,  2.51393315,  0.75921491,  2.66042291,\n",
       "        2.41861232,  0.75364667,  2.52180988,  1.0680937 ,  1.67856931,\n",
       "        3.41072701,  1.21847385,  2.0404157 ,  2.57718376,  2.9425939 ,\n",
       "        2.37277918,  1.4016638 ,  1.95742519,  1.19966683,  1.63930621,\n",
       "        4.22763852,  1.48873704,  3.11740784,  1.16808194,  1.444512  ,\n",
       "        3.19322066,  1.9878758 ,  1.86387669,  0.98914225,  0.84933424,\n",
       "        0.91402644,  1.92571078,  0.88970024,  2.22017945,  1.87821022,\n",
       "        4.31584991,  1.50342865,  2.99358559,  0.85590284,  2.1399083 ,\n",
       "        2.75476407,  2.01640122])"
      ]
     },
     "execution_count": 115,
     "metadata": {},
     "output_type": "execute_result"
    }
   ],
   "source": [
    "dist = [np.min(ke,axis=1) for ke in k_euclid]\n",
    "dist[1]"
   ]
  },
  {
   "cell_type": "code",
   "execution_count": 116,
   "metadata": {
    "scrolled": true
   },
   "outputs": [
    {
     "data": {
      "text/plain": [
       "array([[ 0.32358057,  2.25063269,  0.62161949, -0.79845776],\n",
       "       [-1.55687058, -1.04107824,  1.83553096,  0.11374063],\n",
       "       [-2.51605611, -0.76838707, -1.53678834,  0.93469974],\n",
       "       [-1.30901434,  1.3048037 , -1.47195555, -0.34722548],\n",
       "       [ 2.6921884 , -0.10576982, -1.68464323, -0.3780492 ],\n",
       "       [-2.69026797, -0.67930794, -0.24490005,  0.41662681],\n",
       "       [-1.81745162, -1.44822807,  0.07688711, -0.46309752],\n",
       "       [-0.76908909,  1.00459886, -0.21891918, -0.70637815],\n",
       "       [ 4.22832876, -0.15657465, -1.42472951, -0.05562593],\n",
       "       [ 0.74051818, -1.01540218,  0.60311004,  0.09570697],\n",
       "       [ 2.1174244 , -0.3753875 ,  0.78916673,  0.70741163],\n",
       "       [-0.85419482, -0.50955479, -1.21304202, -0.34655825],\n",
       "       [ 6.02418873, -1.11475333, -1.67119533,  0.74673303],\n",
       "       [ 5.51210145, -2.10640044, -1.74782407,  0.74718066],\n",
       "       [ 3.74573886, -1.68117357, -0.8319057 ,  0.26054203],\n",
       "       [-1.8206533 ,  0.53130251,  0.42326161, -0.23790696],\n",
       "       [-1.17136226, -1.4558503 , -1.62739947, -0.87960578],\n",
       "       [-1.54254253, -0.39276321, -0.43322452, -0.69581773],\n",
       "       [-1.22675632, -0.09648011,  0.80695674,  0.35284108],\n",
       "       [-2.31470716,  0.70643498, -0.31107087, -1.13358911],\n",
       "       [-2.71636304,  0.06753515,  0.39008059, -0.72389006],\n",
       "       [-0.86346142,  0.15968112, -0.72065097, -0.9594736 ],\n",
       "       [-0.79532526, -0.39713555, -0.23378561, -0.65141207],\n",
       "       [ 0.96636872,  1.59542642,  0.70104315, -0.29564596],\n",
       "       [-0.17356899,  0.43477037, -0.35762224, -0.59934749],\n",
       "       [-2.33028408, -1.0554136 ,  0.51890661, -0.21270636],\n",
       "       [ 5.33533745, -0.35101636, -0.55586719,  0.49719861],\n",
       "       [-1.16104707,  1.00554394, -0.41364874, -1.22687286],\n",
       "       [ 4.73625506, -0.22543754,  1.46435565,  1.20204747],\n",
       "       [-1.39309919, -1.17198272,  0.56432437, -0.38047251],\n",
       "       [ 1.40053063,  1.94370677, -0.33249337, -0.86546328],\n",
       "       [ 5.61082762,  0.01902583,  0.41056503,  0.78507604],\n",
       "       [ 3.46741106, -0.07375443, -0.09734286,  0.28905285],\n",
       "       [ 0.28701812,  0.8396058 , -0.89309552, -1.19790257],\n",
       "       [-3.89903728,  1.03321896, -1.64532519,  2.25843549],\n",
       "       [-2.59819923, -0.47536697,  1.77788806,  0.49503315],\n",
       "       [ 1.66944615,  0.75905521, -0.10890841, -0.40678622],\n",
       "       [-0.1202386 , -0.66763775, -0.77566819, -0.77387264],\n",
       "       [ 0.13590044,  2.15652039,  0.15075816, -1.12937446],\n",
       "       [ 2.10408464,  2.34937961,  0.8488721 ,  1.5189643 ],\n",
       "       [ 4.33503165,  0.30198357, -0.81563814, -0.03124321],\n",
       "       [-1.78629663, -0.65988776, -0.24950416, -0.34654528],\n",
       "       [-0.24424703,  1.55444752,  1.47605076, -0.70167566],\n",
       "       [-1.27889152, -1.54930986, -0.17346129, -0.50736529],\n",
       "       [-2.78776922, -0.13259695, -0.54245738,  0.43317856],\n",
       "       [-1.6453407 ,  1.62427143, -1.07783066,  1.27541207],\n",
       "       [-0.6543489 , -1.40802962,  0.58756885, -0.25975661],\n",
       "       [-1.8480056 , -1.05664373,  1.05241142, -0.0582332 ],\n",
       "       [-2.05474695, -1.53892212, -0.06024008, -0.36711408],\n",
       "       [ 5.38552938, -2.27726192,  0.11057252,  1.06921088],\n",
       "       [-1.22655777,  0.38935712, -0.11476395, -0.24249756],\n",
       "       [ 0.34191069,  0.15976279,  0.95355908, -0.38296841],\n",
       "       [-1.62344714,  0.42610057, -0.58216757, -0.72117132],\n",
       "       [-1.16098163,  0.33726516, -0.63886715, -0.9524207 ],\n",
       "       [-0.94190653, -1.54423725,  0.574549  , -0.17499691],\n",
       "       [ 1.03055896,  1.63964788,  0.27621057, -0.27280808],\n",
       "       [ 1.09930743, -0.34122265,  1.18289111,  0.37020501],\n",
       "       [ 1.53070464, -0.72294675,  1.50545486,  0.75934462],\n",
       "       [ 3.65937783,  0.56095308, -0.43527649,  0.23897846],\n",
       "       [-1.87874611,  0.51350478, -1.287524  ,  2.08805012],\n",
       "       [ 0.61411272,  0.91172355, -0.71174857, -1.02851859],\n",
       "       [ 3.57198353,  0.19408097,  0.7626778 ,  0.28802287],\n",
       "       [ 2.88815109,  2.37723078,  0.03517165, -0.57276131],\n",
       "       [-1.71263856,  0.18706793, -0.61841653, -0.86630673],\n",
       "       [-0.53356742,  0.78844216, -0.46089292, -1.28774278],\n",
       "       [-1.49397715,  0.14711665,  3.23957854,  0.85921422],\n",
       "       [-0.49150998, -0.53934227, -0.32739536, -0.79928757],\n",
       "       [-2.87951516,  0.1533551 ,  0.35365063,  1.10947368],\n",
       "       [-2.96219047,  0.97859267,  0.87981758,  1.32373701],\n",
       "       [-0.66633239,  1.82387709, -2.17867236,  0.31897755],\n",
       "       [-2.5259681 ,  0.89172097,  0.72310615,  1.54127495],\n",
       "       [-1.87054155, -1.20071458,  0.46365342, -0.24142838],\n",
       "       [-1.35056571, -1.19698324,  1.47522581,  0.35098826],\n",
       "       [-0.39973836, -0.24211082,  0.59721261, -0.56294413],\n",
       "       [ 4.2183248 ,  1.41579022,  0.00772194, -0.05105383],\n",
       "       [-3.48266579,  0.99299836, -2.04618425,  2.70893387],\n",
       "       [ 0.12251156, -0.3644315 , -0.29972401, -0.11175521],\n",
       "       [-3.55241911,  0.81963387,  0.91300543,  1.63653199],\n",
       "       [-1.91181447,  0.30260495,  0.3042442 , -0.99571423],\n",
       "       [ 3.21432904,  0.97410008,  1.15430905,  0.22476563],\n",
       "       [ 1.2430938 ,  0.41177514,  2.39194026,  0.56380238],\n",
       "       [-0.08456703, -1.40321466,  0.73382318, -0.167868  ],\n",
       "       [-1.59184267, -1.31814398, -1.2333089 , -0.59878357],\n",
       "       [ 3.95772584, -0.46858015,  0.57352509,  0.57492288],\n",
       "       [-1.72500978, -0.30795262,  0.37380986, -0.6645602 ],\n",
       "       [-2.16768469, -0.13943346,  0.13168671, -0.32399316],\n",
       "       [-0.36120918,  1.51980116,  0.4227759 , -0.61829031],\n",
       "       [-0.8965896 ,  0.58171879,  0.35713931, -0.46393359],\n",
       "       [ 0.14387547, -1.64904381,  0.42381315, -0.1841964 ],\n",
       "       [-1.46686584, -1.36143338,  1.27615247,  0.05493825],\n",
       "       [-3.62346334,  0.43623834, -1.6574777 ,  3.10060728],\n",
       "       [-0.89682391, -1.39678125,  0.34524414, -0.39046537],\n",
       "       [ 1.4503941 , -1.07909874, -1.88559845, -0.20091151],\n",
       "       [-1.35821854,  0.22565461, -0.56183279, -0.72425573],\n",
       "       [-0.86092512, -1.88121392, -0.83737201, -0.62618293],\n",
       "       [ 3.78388518,  2.51983918,  0.96103126, -0.43128447],\n",
       "       [ 1.94946296, -1.17750566,  0.74545015,  0.08470523]])"
      ]
     },
     "execution_count": 116,
     "metadata": {},
     "output_type": "execute_result"
    }
   ],
   "source": [
    "hpc"
   ]
  },
  {
   "cell_type": "code",
   "execution_count": 117,
   "metadata": {},
   "outputs": [
    {
     "data": {
      "text/plain": [
       "array([[-1.29901664, -0.0224291 , -0.01931832, -0.11335694],\n",
       "       [ 3.36782091,  0.05814952,  0.05008453,  0.29388836]])"
      ]
     },
     "execution_count": 117,
     "metadata": {},
     "output_type": "execute_result"
    }
   ],
   "source": [
    "centroids[1]"
   ]
  },
  {
   "cell_type": "code",
   "execution_count": 118,
   "metadata": {},
   "outputs": [
    {
     "data": {
      "text/plain": [
       "2.9461493541417854"
      ]
     },
     "execution_count": 118,
     "metadata": {},
     "output_type": "execute_result"
    }
   ],
   "source": [
    "np.sqrt((0.32358057-(-1.29901664))**2+(2.25063269-(-0.0224291))**2+(0.62161949-(-0.01931832))**2+(-0.79845776-(-0.11335694))**2)"
   ]
  },
  {
   "cell_type": "code",
   "execution_count": 120,
   "metadata": {},
   "outputs": [
    {
     "data": {
      "text/plain": [
       "array([[ 2.94614935,  3.94895606],\n",
       "       [ 2.14386891,  5.35547944],\n",
       "       [ 2.33211844,  6.18320113],\n",
       "       [ 1.98153887,  5.11415365],\n",
       "       [ 4.33359347,  1.98598321],\n",
       "       [ 1.64281465,  6.11116723],\n",
       "       [ 1.55988829,  5.45251965],\n",
       "       [ 1.31420101,  4.36837347],\n",
       "       [ 5.70509032,  1.75607999],\n",
       "       [ 2.36152972,  2.89833502],\n",
       "       [ 3.62270039,  1.57120646],\n",
       "       [ 1.38366072,  4.48925   ],\n",
       "       [ 7.63485176,  3.40585728],\n",
       "       [ 7.37987285,  3.5666742 ],\n",
       "       [ 5.385266  ,  1.98672734],\n",
       "       [ 0.88888312,  5.25035291],\n",
       "       [ 2.28999001,  5.20455765],\n",
       "       [ 0.84085144,  5.05253374],\n",
       "       [ 0.95434594,  4.65944   ],\n",
       "       [ 1.63977539,  5.90588896],\n",
       "       [ 1.59916308,  6.17809457],\n",
       "       [ 1.19609923,  4.48096064],\n",
       "       [ 0.8541718 ,  4.30270213],\n",
       "       [ 2.88124578,  2.98353661],\n",
       "       [ 1.35140672,  3.69423615],\n",
       "       [ 1.55888611,  5.84678164],\n",
       "       [ 6.69203156,  2.10880312],\n",
       "       [ 1.57199821,  4.89243953],\n",
       "       [ 6.35588657,  2.1858521 ],\n",
       "       [ 1.31996764,  4.9898688 ],\n",
       "       [ 3.43758465,  2.9859704 ],\n",
       "       [ 6.98137863,  2.32461207],\n",
       "       [ 4.78429606,  0.22152893],\n",
       "       [ 2.27998602,  3.6355259 ],\n",
       "       [ 4.01793453,  7.77765054],\n",
       "       [ 2.34374005,  6.23729111],\n",
       "       [ 3.08490132,  1.97280745],\n",
       "       [ 1.67754522,  3.80989599],\n",
       "       [ 2.80500009,  4.10904885],\n",
       "       [ 4.54145374,  2.99760527],\n",
       "       [ 5.69987821,  1.36019776],\n",
       "       [ 0.86669352,  5.25170579],\n",
       "       [ 2.48622734,  4.27907348],\n",
       "       [ 1.58454173,  4.9867667 ],\n",
       "       [ 1.67358798,  6.18855247],\n",
       "       [ 2.42501355,  5.46077912],\n",
       "       [ 1.65082712,  4.35005096],\n",
       "       [ 1.58827959,  5.43840591],\n",
       "       [ 1.71375222,  5.692449  ],\n",
       "       [ 7.15421308,  3.18277832],\n",
       "       [ 0.44788988,  4.64035545],\n",
       "       [ 1.93520468,  3.23123184],\n",
       "       [ 0.99632907,  5.14570049],\n",
       "       [ 1.11189135,  4.75561759],\n",
       "       [ 1.67329183,  4.65148474],\n",
       "       [ 2.88135113,  2.88724927],\n",
       "       [ 2.74458144,  2.56801996],\n",
       "       [ 3.40361407,  2.51393315],\n",
       "       [ 5.0222676 ,  0.75921491],\n",
       "       [ 2.66042291,  5.72206491],\n",
       "       [ 2.41861232,  3.2620005 ],\n",
       "       [ 4.95440641,  0.75364667],\n",
       "       [ 4.84817106,  2.52180988],\n",
       "       [ 1.0680937 ,  5.25553372],\n",
       "       [ 1.67856931,  4.30311669],\n",
       "       [ 3.41072701,  5.84272717],\n",
       "       [ 1.21847385,  4.07295421],\n",
       "       [ 2.0404157 ,  6.30837569],\n",
       "       [ 2.57718376,  6.5318684 ],\n",
       "       [ 2.9425939 ,  4.93560264],\n",
       "       [ 2.37277918,  6.11886604],\n",
       "       [ 1.4016638 ,  5.42980508],\n",
       "       [ 1.95742519,  5.08653306],\n",
       "       [ 1.19966683,  3.9138434 ],\n",
       "       [ 5.70211752,  1.63930621],\n",
       "       [ 4.22763852,  7.61773575],\n",
       "       [ 1.48873704,  3.31625093],\n",
       "       [ 3.11740784,  7.1426119 ],\n",
       "       [ 1.16808194,  5.44628131],\n",
       "       [ 4.78069949,  1.444512  ],\n",
       "       [ 3.59493692,  3.19322066],\n",
       "       [ 1.9878758 ,  3.83865669],\n",
       "       [ 1.86387669,  5.37925724],\n",
       "       [ 5.35327793,  0.98914225],\n",
       "       [ 0.84933424,  5.20522592],\n",
       "       [ 0.91402644,  5.573984  ],\n",
       "       [ 1.92571078,  4.12468904],\n",
       "       [ 0.88970024,  4.3735453 ],\n",
       "       [ 2.22017945,  3.69818487],\n",
       "       [ 1.87821022,  5.19131498],\n",
       "       [ 4.31584991,  7.73397999],\n",
       "       [ 1.50342865,  4.56721777],\n",
       "       [ 3.4880478 ,  2.99358559],\n",
       "       [ 0.85590284,  4.87591704],\n",
       "       [ 2.1399083 ,  4.82467965],\n",
       "       [ 5.77591396,  2.75476407],\n",
       "       [ 3.53707802,  2.01640122]])"
      ]
     },
     "execution_count": 120,
     "metadata": {},
     "output_type": "execute_result"
    }
   ],
   "source": [
    "k_euclid[1]"
   ]
  },
  {
   "cell_type": "markdown",
   "metadata": {},
   "source": [
    "Calculamos la suma de los cuadrados de la distancia"
   ]
  },
  {
   "cell_type": "code",
   "execution_count": 121,
   "metadata": {},
   "outputs": [
    {
     "data": {
      "text/plain": [
       "[2.7018192051191496,\n",
       " 1.946643074253829,\n",
       " 1.742380745519599,\n",
       " 1.5770564603604822,\n",
       " 1.4483049811786064,\n",
       " 1.3372998026833418,\n",
       " 1.255307553768962,\n",
       " 1.2060979958397819,\n",
       " 1.1519052506651728,\n",
       " 1.1064568772507686,\n",
       " 1.0621378286653702,\n",
       " 1.0207599090536839,\n",
       " 0.99365419010995082,\n",
       " 0.94412457245972847,\n",
       " 0.91074214920901109,\n",
       " 0.88683092397162455,\n",
       " 0.86327056630909704,\n",
       " 0.83359162687972943,\n",
       " 0.79562659509176403]"
      ]
     },
     "execution_count": 121,
     "metadata": {},
     "output_type": "execute_result"
    }
   ],
   "source": [
    "avgWithinSumSquare = [sum(d)/hpc.shape[0] for d in dist]\n",
    "avgWithinSumSquare"
   ]
  },
  {
   "cell_type": "markdown",
   "metadata": {},
   "source": [
    "Gráfica que nos permite determinar el número de clusters apropiados para la segmentación"
   ]
  },
  {
   "cell_type": "code",
   "execution_count": 122,
   "metadata": {},
   "outputs": [
    {
     "data": {
      "image/png": "[encoded data removed]",
      "text/plain": [
       "<matplotlib.figure.Figure at 0xd912358>"
      ]
     },
     "metadata": {},
     "output_type": "display_data"
    }
   ],
   "source": [
    "# plot elbow curve\n",
    "fig = plt.figure()\n",
    "ax = fig.add_subplot(111)\n",
    "ax.plot(avgWithinSumSquare, 'b*-')\n",
    "plt.grid(True)\n",
    "plt.xlabel('No. of clusters')\n",
    "plt.ylabel('Avg sum of squares')\n",
    "tt = plt.title('Elbow Curve')"
   ]
  },
  {
   "cell_type": "markdown",
   "metadata": {},
   "source": [
    "Tomando como referencia el gráfico, buscaremos 6 clusters"
   ]
  },
  {
   "cell_type": "markdown",
   "metadata": {},
   "source": [
    "### Clustering de los paises en bases a sus indicadores de desarrollo"
   ]
  },
  {
   "cell_type": "markdown",
   "metadata": {},
   "source": [
    "Algoritmo: K-means"
   ]
  },
  {
   "cell_type": "code",
   "execution_count": 123,
   "metadata": {},
   "outputs": [
    {
     "data": {
      "text/plain": [
       "KMeans(algorithm='auto', copy_x=True, init='k-means++', max_iter=300,\n",
       "    n_clusters=6, n_init=10, n_jobs=1, precompute_distances='auto',\n",
       "    random_state=3425, tol=0.0001, verbose=0)"
      ]
     },
     "execution_count": 123,
     "metadata": {},
     "output_type": "execute_result"
    }
   ],
   "source": [
    "km = KMeans(6, init='k-means++', random_state = 3425) # initialize\n",
    "km.fit(hpc)"
   ]
  },
  {
   "cell_type": "code",
   "execution_count": 62,
   "metadata": {},
   "outputs": [
    {
     "data": {
      "text/plain": [
       "array([[ 0.32358057,  2.25063269,  0.62161949, -0.79845776],\n",
       "       [-1.55687058, -1.04107824,  1.83553096,  0.11374063],\n",
       "       [-2.51605611, -0.76838707, -1.53678834,  0.93469974],\n",
       "       [-1.30901434,  1.3048037 , -1.47195555, -0.34722548],\n",
       "       [ 2.6921884 , -0.10576982, -1.68464323, -0.3780492 ],\n",
       "       [-2.69026797, -0.67930794, -0.24490005,  0.41662681],\n",
       "       [-1.81745162, -1.44822807,  0.07688711, -0.46309752],\n",
       "       [-0.76908909,  1.00459886, -0.21891918, -0.70637815],\n",
       "       [ 4.22832876, -0.15657465, -1.42472951, -0.05562593],\n",
       "       [ 0.74051818, -1.01540218,  0.60311004,  0.09570697],\n",
       "       [ 2.1174244 , -0.3753875 ,  0.78916673,  0.70741163],\n",
       "       [-0.85419482, -0.50955479, -1.21304202, -0.34655825],\n",
       "       [ 6.02418873, -1.11475333, -1.67119533,  0.74673303],\n",
       "       [ 5.51210145, -2.10640044, -1.74782407,  0.74718066],\n",
       "       [ 3.74573886, -1.68117357, -0.8319057 ,  0.26054203],\n",
       "       [-1.8206533 ,  0.53130251,  0.42326161, -0.23790696],\n",
       "       [-1.17136226, -1.4558503 , -1.62739947, -0.87960578],\n",
       "       [-1.54254253, -0.39276321, -0.43322452, -0.69581773],\n",
       "       [-1.22675632, -0.09648011,  0.80695674,  0.35284108],\n",
       "       [-2.31470716,  0.70643498, -0.31107087, -1.13358911],\n",
       "       [-2.71636304,  0.06753515,  0.39008059, -0.72389006],\n",
       "       [-0.86346142,  0.15968112, -0.72065097, -0.9594736 ],\n",
       "       [-0.79532526, -0.39713555, -0.23378561, -0.65141207],\n",
       "       [ 0.96636872,  1.59542642,  0.70104315, -0.29564596],\n",
       "       [-0.17356899,  0.43477037, -0.35762224, -0.59934749],\n",
       "       [-2.33028408, -1.0554136 ,  0.51890661, -0.21270636],\n",
       "       [ 5.33533745, -0.35101636, -0.55586719,  0.49719861],\n",
       "       [-1.16104707,  1.00554394, -0.41364874, -1.22687286],\n",
       "       [ 4.73625506, -0.22543754,  1.46435565,  1.20204747],\n",
       "       [-1.39309919, -1.17198272,  0.56432437, -0.38047251],\n",
       "       [ 1.40053063,  1.94370677, -0.33249337, -0.86546328],\n",
       "       [ 5.61082762,  0.01902583,  0.41056503,  0.78507604],\n",
       "       [ 3.46741106, -0.07375443, -0.09734286,  0.28905285],\n",
       "       [ 0.28701812,  0.8396058 , -0.89309552, -1.19790257],\n",
       "       [-3.89903728,  1.03321896, -1.64532519,  2.25843549],\n",
       "       [-2.59819923, -0.47536697,  1.77788806,  0.49503315],\n",
       "       [ 1.66944615,  0.75905521, -0.10890841, -0.40678622],\n",
       "       [-0.1202386 , -0.66763775, -0.77566819, -0.77387264],\n",
       "       [ 0.13590044,  2.15652039,  0.15075816, -1.12937446],\n",
       "       [ 2.10408464,  2.34937961,  0.8488721 ,  1.5189643 ],\n",
       "       [ 4.33503165,  0.30198357, -0.81563814, -0.03124321],\n",
       "       [-1.78629663, -0.65988776, -0.24950416, -0.34654528],\n",
       "       [-0.24424703,  1.55444752,  1.47605076, -0.70167566],\n",
       "       [-1.27889152, -1.54930986, -0.17346129, -0.50736529],\n",
       "       [-2.78776922, -0.13259695, -0.54245738,  0.43317856],\n",
       "       [-1.6453407 ,  1.62427143, -1.07783066,  1.27541207],\n",
       "       [-0.6543489 , -1.40802962,  0.58756885, -0.25975661],\n",
       "       [-1.8480056 , -1.05664373,  1.05241142, -0.0582332 ],\n",
       "       [-2.05474695, -1.53892212, -0.06024008, -0.36711408],\n",
       "       [ 5.38552938, -2.27726192,  0.11057252,  1.06921088],\n",
       "       [-1.22655777,  0.38935712, -0.11476395, -0.24249756],\n",
       "       [ 0.34191069,  0.15976279,  0.95355908, -0.38296841],\n",
       "       [-1.62344714,  0.42610057, -0.58216757, -0.72117132],\n",
       "       [-1.16098163,  0.33726516, -0.63886715, -0.9524207 ],\n",
       "       [-0.94190653, -1.54423725,  0.574549  , -0.17499691],\n",
       "       [ 1.03055896,  1.63964788,  0.27621057, -0.27280808],\n",
       "       [ 1.09930743, -0.34122265,  1.18289111,  0.37020501],\n",
       "       [ 1.53070464, -0.72294675,  1.50545486,  0.75934462],\n",
       "       [ 3.65937783,  0.56095308, -0.43527649,  0.23897846],\n",
       "       [-1.87874611,  0.51350478, -1.287524  ,  2.08805012],\n",
       "       [ 0.61411272,  0.91172355, -0.71174857, -1.02851859],\n",
       "       [ 3.57198353,  0.19408097,  0.7626778 ,  0.28802287],\n",
       "       [ 2.88815109,  2.37723078,  0.03517165, -0.57276131],\n",
       "       [-1.71263856,  0.18706793, -0.61841653, -0.86630673],\n",
       "       [-0.53356742,  0.78844216, -0.46089292, -1.28774278],\n",
       "       [-1.49397715,  0.14711665,  3.23957854,  0.85921422],\n",
       "       [-0.49150998, -0.53934227, -0.32739536, -0.79928757],\n",
       "       [-2.87951516,  0.1533551 ,  0.35365063,  1.10947368],\n",
       "       [-2.96219047,  0.97859267,  0.87981758,  1.32373701],\n",
       "       [-0.66633239,  1.82387709, -2.17867236,  0.31897755],\n",
       "       [-2.5259681 ,  0.89172097,  0.72310615,  1.54127495],\n",
       "       [-1.87054155, -1.20071458,  0.46365342, -0.24142838],\n",
       "       [-1.35056571, -1.19698324,  1.47522581,  0.35098826],\n",
       "       [-0.39973836, -0.24211082,  0.59721261, -0.56294413],\n",
       "       [ 4.2183248 ,  1.41579022,  0.00772194, -0.05105383],\n",
       "       [-3.48266579,  0.99299836, -2.04618425,  2.70893387],\n",
       "       [ 0.12251156, -0.3644315 , -0.29972401, -0.11175521],\n",
       "       [-3.55241911,  0.81963387,  0.91300543,  1.63653199],\n",
       "       [-1.91181447,  0.30260495,  0.3042442 , -0.99571423],\n",
       "       [ 3.21432904,  0.97410008,  1.15430905,  0.22476563],\n",
       "       [ 1.2430938 ,  0.41177514,  2.39194026,  0.56380238],\n",
       "       [-0.08456703, -1.40321466,  0.73382318, -0.167868  ],\n",
       "       [-1.59184267, -1.31814398, -1.2333089 , -0.59878357],\n",
       "       [ 3.95772584, -0.46858015,  0.57352509,  0.57492288],\n",
       "       [-1.72500978, -0.30795262,  0.37380986, -0.6645602 ],\n",
       "       [-2.16768469, -0.13943346,  0.13168671, -0.32399316],\n",
       "       [-0.36120918,  1.51980116,  0.4227759 , -0.61829031],\n",
       "       [-0.8965896 ,  0.58171879,  0.35713931, -0.46393359],\n",
       "       [ 0.14387547, -1.64904381,  0.42381315, -0.1841964 ],\n",
       "       [-1.46686584, -1.36143338,  1.27615247,  0.05493825],\n",
       "       [-3.62346334,  0.43623834, -1.6574777 ,  3.10060728],\n",
       "       [-0.89682391, -1.39678125,  0.34524414, -0.39046537],\n",
       "       [ 1.4503941 , -1.07909874, -1.88559845, -0.20091151],\n",
       "       [-1.35821854,  0.22565461, -0.56183279, -0.72425573],\n",
       "       [-0.86092512, -1.88121392, -0.83737201, -0.62618293],\n",
       "       [ 3.78388518,  2.51983918,  0.96103126, -0.43128447],\n",
       "       [ 1.94946296, -1.17750566,  0.74545015,  0.08470523]])"
      ]
     },
     "execution_count": 62,
     "metadata": {},
     "output_type": "execute_result"
    }
   ],
   "source": [
    "hpc"
   ]
  },
  {
   "cell_type": "code",
   "execution_count": 124,
   "metadata": {
    "scrolled": true
   },
   "outputs": [
    {
     "data": {
      "text/html": [
       "<div>\n",
       "<style>\n",
       "    .dataframe thead tr:only-child th {\n",
       "        text-align: right;\n",
       "    }\n",
       "\n",
       "    .dataframe thead th {\n",
       "        text-align: left;\n",
       "    }\n",
       "\n",
       "    .dataframe tbody tr th {\n",
       "        vertical-align: top;\n",
       "    }\n",
       "</style>\n",
       "<table border=\"1\" class=\"dataframe\">\n",
       "  <thead>\n",
       "    <tr style=\"text-align: right;\">\n",
       "      <th></th>\n",
       "      <th>tfr</th>\n",
       "      <th>contraception</th>\n",
       "      <th>lifeMale</th>\n",
       "      <th>lifeFemale</th>\n",
       "      <th>infantMortality</th>\n",
       "      <th>GDPperCapita</th>\n",
       "      <th>economicActivityMale</th>\n",
       "      <th>economicActivityFemale</th>\n",
       "      <th>illiteracyMale</th>\n",
       "      <th>illiteracyFemale</th>\n",
       "      <th>countrySegment</th>\n",
       "    </tr>\n",
       "  </thead>\n",
       "  <tbody>\n",
       "    <tr>\n",
       "      <th>2</th>\n",
       "      <td>3.81</td>\n",
       "      <td>52.0</td>\n",
       "      <td>67.5</td>\n",
       "      <td>70.3</td>\n",
       "      <td>44.0</td>\n",
       "      <td>1531.0</td>\n",
       "      <td>76.4</td>\n",
       "      <td>7.8</td>\n",
       "      <td>26.1</td>\n",
       "      <td>51.0</td>\n",
       "      <td>3</td>\n",
       "    </tr>\n",
       "    <tr>\n",
       "      <th>8</th>\n",
       "      <td>1.70</td>\n",
       "      <td>22.0</td>\n",
       "      <td>67.2</td>\n",
       "      <td>74.0</td>\n",
       "      <td>25.0</td>\n",
       "      <td>354.0</td>\n",
       "      <td>65.0</td>\n",
       "      <td>52.0</td>\n",
       "      <td>0.3</td>\n",
       "      <td>0.5</td>\n",
       "      <td>0</td>\n",
       "    </tr>\n",
       "    <tr>\n",
       "      <th>12</th>\n",
       "      <td>1.95</td>\n",
       "      <td>62.0</td>\n",
       "      <td>70.5</td>\n",
       "      <td>77.1</td>\n",
       "      <td>14.0</td>\n",
       "      <td>12545.0</td>\n",
       "      <td>81.2</td>\n",
       "      <td>67.0</td>\n",
       "      <td>1.5</td>\n",
       "      <td>2.0</td>\n",
       "      <td>5</td>\n",
       "    </tr>\n",
       "    <tr>\n",
       "      <th>13</th>\n",
       "      <td>2.97</td>\n",
       "      <td>53.0</td>\n",
       "      <td>71.1</td>\n",
       "      <td>75.3</td>\n",
       "      <td>18.0</td>\n",
       "      <td>9073.0</td>\n",
       "      <td>88.2</td>\n",
       "      <td>29.2</td>\n",
       "      <td>10.9</td>\n",
       "      <td>20.6</td>\n",
       "      <td>2</td>\n",
       "    </tr>\n",
       "    <tr>\n",
       "      <th>14</th>\n",
       "      <td>3.14</td>\n",
       "      <td>49.0</td>\n",
       "      <td>58.1</td>\n",
       "      <td>58.2</td>\n",
       "      <td>78.0</td>\n",
       "      <td>280.0</td>\n",
       "      <td>88.8</td>\n",
       "      <td>55.9</td>\n",
       "      <td>50.6</td>\n",
       "      <td>73.9</td>\n",
       "      <td>1</td>\n",
       "    </tr>\n",
       "  </tbody>\n",
       "</table>\n",
       "</div>"
      ],
      "text/plain": [
       "     tfr  contraception  lifeMale  lifeFemale  infantMortality  GDPperCapita  \\\n",
       "2   3.81           52.0      67.5        70.3             44.0        1531.0   \n",
       "8   1.70           22.0      67.2        74.0             25.0         354.0   \n",
       "12  1.95           62.0      70.5        77.1             14.0       12545.0   \n",
       "13  2.97           53.0      71.1        75.3             18.0        9073.0   \n",
       "14  3.14           49.0      58.1        58.2             78.0         280.0   \n",
       "\n",
       "    economicActivityMale  economicActivityFemale  illiteracyMale  \\\n",
       "2                   76.4                     7.8            26.1   \n",
       "8                   65.0                    52.0             0.3   \n",
       "12                  81.2                    67.0             1.5   \n",
       "13                  88.2                    29.2            10.9   \n",
       "14                  88.8                    55.9            50.6   \n",
       "\n",
       "    illiteracyFemale  countrySegment  \n",
       "2               51.0               3  \n",
       "8                0.5               0  \n",
       "12               2.0               5  \n",
       "13              20.6               2  \n",
       "14              73.9               1  "
      ]
     },
     "execution_count": 124,
     "metadata": {},
     "output_type": "execute_result"
    }
   ],
   "source": [
    "df['countrySegment'] = km.predict(hpc)\n",
    "df.head()"
   ]
  },
  {
   "cell_type": "code",
   "execution_count": 125,
   "metadata": {},
   "outputs": [
    {
     "data": {
      "text/plain": [
       "countrySegment\n",
       "0    25\n",
       "1    15\n",
       "2    24\n",
       "3    11\n",
       "4    11\n",
       "5    11\n",
       "Name: contraception, dtype: int64"
      ]
     },
     "execution_count": 125,
     "metadata": {},
     "output_type": "execute_result"
    }
   ],
   "source": [
    "df.groupby('countrySegment').contraception.count()"
   ]
  },
  {
   "cell_type": "code",
   "execution_count": 126,
   "metadata": {},
   "outputs": [
    {
     "data": {
      "text/plain": [
       "[KMeans(algorithm='auto', copy_x=True, init='k-means++', max_iter=300,\n",
       "     n_clusters=6, n_init=10, n_jobs=1, precompute_distances='auto',\n",
       "     random_state=1, tol=0.0001, verbose=0),\n",
       " KMeans(algorithm='auto', copy_x=True, init='k-means++', max_iter=300,\n",
       "     n_clusters=6, n_init=10, n_jobs=1, precompute_distances='auto',\n",
       "     random_state=2, tol=0.0001, verbose=0),\n",
       " KMeans(algorithm='auto', copy_x=True, init='k-means++', max_iter=300,\n",
       "     n_clusters=6, n_init=10, n_jobs=1, precompute_distances='auto',\n",
       "     random_state=3, tol=0.0001, verbose=0),\n",
       " KMeans(algorithm='auto', copy_x=True, init='k-means++', max_iter=300,\n",
       "     n_clusters=6, n_init=10, n_jobs=1, precompute_distances='auto',\n",
       "     random_state=4, tol=0.0001, verbose=0),\n",
       " KMeans(algorithm='auto', copy_x=True, init='k-means++', max_iter=300,\n",
       "     n_clusters=6, n_init=10, n_jobs=1, precompute_distances='auto',\n",
       "     random_state=5, tol=0.0001, verbose=0),\n",
       " KMeans(algorithm='auto', copy_x=True, init='k-means++', max_iter=300,\n",
       "     n_clusters=6, n_init=10, n_jobs=1, precompute_distances='auto',\n",
       "     random_state=6, tol=0.0001, verbose=0),\n",
       " KMeans(algorithm='auto', copy_x=True, init='k-means++', max_iter=300,\n",
       "     n_clusters=6, n_init=10, n_jobs=1, precompute_distances='auto',\n",
       "     random_state=7, tol=0.0001, verbose=0),\n",
       " KMeans(algorithm='auto', copy_x=True, init='k-means++', max_iter=300,\n",
       "     n_clusters=6, n_init=10, n_jobs=1, precompute_distances='auto',\n",
       "     random_state=8, tol=0.0001, verbose=0),\n",
       " KMeans(algorithm='auto', copy_x=True, init='k-means++', max_iter=300,\n",
       "     n_clusters=6, n_init=10, n_jobs=1, precompute_distances='auto',\n",
       "     random_state=9, tol=0.0001, verbose=0)]"
      ]
     },
     "execution_count": 126,
     "metadata": {},
     "output_type": "execute_result"
    }
   ],
   "source": [
    "km = [KMeans(6, init='k-means++', random_state = rs) for rs in range(1,10)]\n",
    "km"
   ]
  },
  {
   "cell_type": "code",
   "execution_count": 127,
   "metadata": {},
   "outputs": [
    {
     "data": {
      "text/plain": [
       "KMeans(algorithm='auto', copy_x=True, init='k-means++', max_iter=300,\n",
       "    n_clusters=6, n_init=10, n_jobs=1, precompute_distances='auto',\n",
       "    random_state=9, tol=0.0001, verbose=0)"
      ]
     },
     "execution_count": 127,
     "metadata": {},
     "output_type": "execute_result"
    }
   ],
   "source": [
    "km[8]"
   ]
  },
  {
   "cell_type": "code",
   "execution_count": 67,
   "metadata": {},
   "outputs": [
    {
     "data": {
      "text/plain": [
       "KMeans(algorithm='auto', copy_x=True, init='k-means++', max_iter=300,\n",
       "    n_clusters=6, n_init=10, n_jobs=1, precompute_distances='auto',\n",
       "    random_state=3, tol=0.0001, verbose=0)"
      ]
     },
     "execution_count": 67,
     "metadata": {},
     "output_type": "execute_result"
    }
   ],
   "source": [
    "km[2]"
   ]
  },
  {
   "cell_type": "code",
   "execution_count": 129,
   "metadata": {},
   "outputs": [
    {
     "data": {
      "text/plain": [
       "[KMeans(algorithm='auto', copy_x=True, init='k-means++', max_iter=300,\n",
       "     n_clusters=6, n_init=10, n_jobs=1, precompute_distances='auto',\n",
       "     random_state=1, tol=0.0001, verbose=0),\n",
       " KMeans(algorithm='auto', copy_x=True, init='k-means++', max_iter=300,\n",
       "     n_clusters=6, n_init=10, n_jobs=1, precompute_distances='auto',\n",
       "     random_state=2, tol=0.0001, verbose=0),\n",
       " KMeans(algorithm='auto', copy_x=True, init='k-means++', max_iter=300,\n",
       "     n_clusters=6, n_init=10, n_jobs=1, precompute_distances='auto',\n",
       "     random_state=3, tol=0.0001, verbose=0),\n",
       " KMeans(algorithm='auto', copy_x=True, init='k-means++', max_iter=300,\n",
       "     n_clusters=6, n_init=10, n_jobs=1, precompute_distances='auto',\n",
       "     random_state=4, tol=0.0001, verbose=0),\n",
       " KMeans(algorithm='auto', copy_x=True, init='k-means++', max_iter=300,\n",
       "     n_clusters=6, n_init=10, n_jobs=1, precompute_distances='auto',\n",
       "     random_state=5, tol=0.0001, verbose=0),\n",
       " KMeans(algorithm='auto', copy_x=True, init='k-means++', max_iter=300,\n",
       "     n_clusters=6, n_init=10, n_jobs=1, precompute_distances='auto',\n",
       "     random_state=6, tol=0.0001, verbose=0),\n",
       " KMeans(algorithm='auto', copy_x=True, init='k-means++', max_iter=300,\n",
       "     n_clusters=6, n_init=10, n_jobs=1, precompute_distances='auto',\n",
       "     random_state=7, tol=0.0001, verbose=0),\n",
       " KMeans(algorithm='auto', copy_x=True, init='k-means++', max_iter=300,\n",
       "     n_clusters=6, n_init=10, n_jobs=1, precompute_distances='auto',\n",
       "     random_state=8, tol=0.0001, verbose=0),\n",
       " KMeans(algorithm='auto', copy_x=True, init='k-means++', max_iter=300,\n",
       "     n_clusters=6, n_init=10, n_jobs=1, precompute_distances='auto',\n",
       "     random_state=9, tol=0.0001, verbose=0)]"
      ]
     },
     "execution_count": 129,
     "metadata": {},
     "output_type": "execute_result"
    }
   ],
   "source": [
    "[km[clu].fit(hpc) for clu in range(0,9)]"
   ]
  },
  {
   "cell_type": "markdown",
   "metadata": {},
   "source": [
    "Añadimos la variable cluster por cada cluster calculado"
   ]
  },
  {
   "cell_type": "code",
   "execution_count": 130,
   "metadata": {},
   "outputs": [
    {
     "data": {
      "text/html": [
       "<div>\n",
       "<style>\n",
       "    .dataframe thead tr:only-child th {\n",
       "        text-align: right;\n",
       "    }\n",
       "\n",
       "    .dataframe thead th {\n",
       "        text-align: left;\n",
       "    }\n",
       "\n",
       "    .dataframe tbody tr th {\n",
       "        vertical-align: top;\n",
       "    }\n",
       "</style>\n",
       "<table border=\"1\" class=\"dataframe\">\n",
       "  <thead>\n",
       "    <tr style=\"text-align: right;\">\n",
       "      <th></th>\n",
       "      <th>tfr</th>\n",
       "      <th>contraception</th>\n",
       "      <th>lifeMale</th>\n",
       "      <th>lifeFemale</th>\n",
       "      <th>infantMortality</th>\n",
       "      <th>GDPperCapita</th>\n",
       "      <th>economicActivityMale</th>\n",
       "      <th>economicActivityFemale</th>\n",
       "      <th>illiteracyMale</th>\n",
       "      <th>illiteracyFemale</th>\n",
       "      <th>countrySegment</th>\n",
       "      <th>countrySegment1</th>\n",
       "      <th>countrySegment2</th>\n",
       "      <th>countrySegment3</th>\n",
       "      <th>countrySegment4</th>\n",
       "      <th>countrySegment5</th>\n",
       "      <th>countrySegment6</th>\n",
       "      <th>countrySegment7</th>\n",
       "      <th>countrySegment8</th>\n",
       "      <th>countrySegment9</th>\n",
       "    </tr>\n",
       "  </thead>\n",
       "  <tbody>\n",
       "    <tr>\n",
       "      <th>2</th>\n",
       "      <td>3.81</td>\n",
       "      <td>52.0</td>\n",
       "      <td>67.5</td>\n",
       "      <td>70.3</td>\n",
       "      <td>44.0</td>\n",
       "      <td>1531.0</td>\n",
       "      <td>76.4</td>\n",
       "      <td>7.8</td>\n",
       "      <td>26.1</td>\n",
       "      <td>51.0</td>\n",
       "      <td>3</td>\n",
       "      <td>3</td>\n",
       "      <td>5</td>\n",
       "      <td>2</td>\n",
       "      <td>2</td>\n",
       "      <td>5</td>\n",
       "      <td>3</td>\n",
       "      <td>2</td>\n",
       "      <td>2</td>\n",
       "      <td>1</td>\n",
       "    </tr>\n",
       "    <tr>\n",
       "      <th>8</th>\n",
       "      <td>1.70</td>\n",
       "      <td>22.0</td>\n",
       "      <td>67.2</td>\n",
       "      <td>74.0</td>\n",
       "      <td>25.0</td>\n",
       "      <td>354.0</td>\n",
       "      <td>65.0</td>\n",
       "      <td>52.0</td>\n",
       "      <td>0.3</td>\n",
       "      <td>0.5</td>\n",
       "      <td>0</td>\n",
       "      <td>5</td>\n",
       "      <td>3</td>\n",
       "      <td>4</td>\n",
       "      <td>5</td>\n",
       "      <td>2</td>\n",
       "      <td>0</td>\n",
       "      <td>0</td>\n",
       "      <td>4</td>\n",
       "      <td>5</td>\n",
       "    </tr>\n",
       "    <tr>\n",
       "      <th>12</th>\n",
       "      <td>1.95</td>\n",
       "      <td>62.0</td>\n",
       "      <td>70.5</td>\n",
       "      <td>77.1</td>\n",
       "      <td>14.0</td>\n",
       "      <td>12545.0</td>\n",
       "      <td>81.2</td>\n",
       "      <td>67.0</td>\n",
       "      <td>1.5</td>\n",
       "      <td>2.0</td>\n",
       "      <td>5</td>\n",
       "      <td>2</td>\n",
       "      <td>2</td>\n",
       "      <td>0</td>\n",
       "      <td>4</td>\n",
       "      <td>3</td>\n",
       "      <td>5</td>\n",
       "      <td>3</td>\n",
       "      <td>0</td>\n",
       "      <td>2</td>\n",
       "    </tr>\n",
       "    <tr>\n",
       "      <th>13</th>\n",
       "      <td>2.97</td>\n",
       "      <td>53.0</td>\n",
       "      <td>71.1</td>\n",
       "      <td>75.3</td>\n",
       "      <td>18.0</td>\n",
       "      <td>9073.0</td>\n",
       "      <td>88.2</td>\n",
       "      <td>29.2</td>\n",
       "      <td>10.9</td>\n",
       "      <td>20.6</td>\n",
       "      <td>2</td>\n",
       "      <td>1</td>\n",
       "      <td>0</td>\n",
       "      <td>5</td>\n",
       "      <td>0</td>\n",
       "      <td>0</td>\n",
       "      <td>2</td>\n",
       "      <td>4</td>\n",
       "      <td>3</td>\n",
       "      <td>3</td>\n",
       "    </tr>\n",
       "    <tr>\n",
       "      <th>14</th>\n",
       "      <td>3.14</td>\n",
       "      <td>49.0</td>\n",
       "      <td>58.1</td>\n",
       "      <td>58.2</td>\n",
       "      <td>78.0</td>\n",
       "      <td>280.0</td>\n",
       "      <td>88.8</td>\n",
       "      <td>55.9</td>\n",
       "      <td>50.6</td>\n",
       "      <td>73.9</td>\n",
       "      <td>1</td>\n",
       "      <td>4</td>\n",
       "      <td>1</td>\n",
       "      <td>1</td>\n",
       "      <td>1</td>\n",
       "      <td>1</td>\n",
       "      <td>1</td>\n",
       "      <td>1</td>\n",
       "      <td>1</td>\n",
       "      <td>0</td>\n",
       "    </tr>\n",
       "  </tbody>\n",
       "</table>\n",
       "</div>"
      ],
      "text/plain": [
       "     tfr  contraception  lifeMale  lifeFemale  infantMortality  GDPperCapita  \\\n",
       "2   3.81           52.0      67.5        70.3             44.0        1531.0   \n",
       "8   1.70           22.0      67.2        74.0             25.0         354.0   \n",
       "12  1.95           62.0      70.5        77.1             14.0       12545.0   \n",
       "13  2.97           53.0      71.1        75.3             18.0        9073.0   \n",
       "14  3.14           49.0      58.1        58.2             78.0         280.0   \n",
       "\n",
       "    economicActivityMale  economicActivityFemale  illiteracyMale  \\\n",
       "2                   76.4                     7.8            26.1   \n",
       "8                   65.0                    52.0             0.3   \n",
       "12                  81.2                    67.0             1.5   \n",
       "13                  88.2                    29.2            10.9   \n",
       "14                  88.8                    55.9            50.6   \n",
       "\n",
       "    illiteracyFemale  countrySegment  countrySegment1  countrySegment2  \\\n",
       "2               51.0               3                3                5   \n",
       "8                0.5               0                5                3   \n",
       "12               2.0               5                2                2   \n",
       "13              20.6               2                1                0   \n",
       "14              73.9               1                4                1   \n",
       "\n",
       "    countrySegment3  countrySegment4  countrySegment5  countrySegment6  \\\n",
       "2                 2                2                5                3   \n",
       "8                 4                5                2                0   \n",
       "12                0                4                3                5   \n",
       "13                5                0                0                2   \n",
       "14                1                1                1                1   \n",
       "\n",
       "    countrySegment7  countrySegment8  countrySegment9  \n",
       "2                 2                2                1  \n",
       "8                 0                4                5  \n",
       "12                3                0                2  \n",
       "13                4                3                3  \n",
       "14                1                1                0  "
      ]
     },
     "execution_count": 130,
     "metadata": {},
     "output_type": "execute_result"
    }
   ],
   "source": [
    "df['countrySegment1'] = km[0].predict(hpc)\n",
    "df['countrySegment2'] = km[1].predict(hpc)\n",
    "df['countrySegment3'] = km[2].predict(hpc)\n",
    "df['countrySegment4'] = km[3].predict(hpc)\n",
    "df['countrySegment5'] = km[4].predict(hpc)\n",
    "df['countrySegment6'] = km[5].predict(hpc)\n",
    "df['countrySegment7'] = km[6].predict(hpc)\n",
    "df['countrySegment8'] = km[7].predict(hpc)\n",
    "df['countrySegment9'] = km[8].predict(hpc)\n",
    "df.head()"
   ]
  },
  {
   "cell_type": "code",
   "execution_count": 131,
   "metadata": {
    "scrolled": true
   },
   "outputs": [
    {
     "data": {
      "text/plain": [
       "countrySegment\n",
       "0    25\n",
       "1    15\n",
       "2    24\n",
       "3    11\n",
       "4    11\n",
       "5    11\n",
       "Name: contraception, dtype: int64"
      ]
     },
     "execution_count": 131,
     "metadata": {},
     "output_type": "execute_result"
    }
   ],
   "source": [
    "df.groupby('countrySegment').contraception.count()"
   ]
  },
  {
   "cell_type": "code",
   "execution_count": 132,
   "metadata": {
    "scrolled": true
   },
   "outputs": [
    {
     "data": {
      "text/plain": [
       "countrySegment1\n",
       "0     9\n",
       "1    30\n",
       "2    12\n",
       "3    12\n",
       "4    15\n",
       "5    19\n",
       "Name: contraception, dtype: int64"
      ]
     },
     "execution_count": 132,
     "metadata": {},
     "output_type": "execute_result"
    }
   ],
   "source": [
    "df.groupby('countrySegment1').contraception.count()"
   ]
  },
  {
   "cell_type": "code",
   "execution_count": 133,
   "metadata": {},
   "outputs": [
    {
     "data": {
      "text/plain": [
       "countrySegment2\n",
       "0    27\n",
       "1    15\n",
       "2    11\n",
       "3    23\n",
       "4    10\n",
       "5    11\n",
       "Name: contraception, dtype: int64"
      ]
     },
     "execution_count": 133,
     "metadata": {},
     "output_type": "execute_result"
    }
   ],
   "source": [
    "df.groupby('countrySegment2').contraception.count()"
   ]
  },
  {
   "cell_type": "code",
   "execution_count": 134,
   "metadata": {},
   "outputs": [
    {
     "data": {
      "text/plain": [
       "countrySegment3\n",
       "0    11\n",
       "1    16\n",
       "2    12\n",
       "3     9\n",
       "4    22\n",
       "5    27\n",
       "Name: contraception, dtype: int64"
      ]
     },
     "execution_count": 134,
     "metadata": {},
     "output_type": "execute_result"
    }
   ],
   "source": [
    "df.groupby('countrySegment3').contraception.count()"
   ]
  },
  {
   "cell_type": "code",
   "execution_count": 74,
   "metadata": {
    "scrolled": true
   },
   "outputs": [
    {
     "data": {
      "text/plain": [
       "countrySegment\n",
       "0    25\n",
       "1    15\n",
       "2    24\n",
       "3    11\n",
       "4    11\n",
       "5    11\n",
       "Name: contraception, dtype: int64"
      ]
     },
     "execution_count": 74,
     "metadata": {},
     "output_type": "execute_result"
    }
   ],
   "source": [
    "df.groupby('countrySegment').contraception.count()"
   ]
  },
  {
   "cell_type": "markdown",
   "metadata": {},
   "source": [
    "Etiquetamos los clusters obtenidos"
   ]
  },
  {
   "cell_type": "code",
   "execution_count": 135,
   "metadata": {},
   "outputs": [
    {
     "data": {
      "text/html": [
       "<div>\n",
       "<style>\n",
       "    .dataframe thead tr:only-child th {\n",
       "        text-align: right;\n",
       "    }\n",
       "\n",
       "    .dataframe thead th {\n",
       "        text-align: left;\n",
       "    }\n",
       "\n",
       "    .dataframe tbody tr th {\n",
       "        vertical-align: top;\n",
       "    }\n",
       "</style>\n",
       "<table border=\"1\" class=\"dataframe\">\n",
       "  <thead>\n",
       "    <tr style=\"text-align: right;\">\n",
       "      <th></th>\n",
       "      <th>tfr</th>\n",
       "      <th>contraception</th>\n",
       "      <th>lifeMale</th>\n",
       "      <th>lifeFemale</th>\n",
       "      <th>infantMortality</th>\n",
       "      <th>GDPperCapita</th>\n",
       "      <th>economicActivityMale</th>\n",
       "      <th>economicActivityFemale</th>\n",
       "      <th>illiteracyMale</th>\n",
       "      <th>illiteracyFemale</th>\n",
       "      <th>countrySegment</th>\n",
       "      <th>countrySegment1</th>\n",
       "      <th>countrySegment2</th>\n",
       "      <th>countrySegment3</th>\n",
       "      <th>countrySegment4</th>\n",
       "      <th>countrySegment5</th>\n",
       "      <th>countrySegment6</th>\n",
       "      <th>countrySegment7</th>\n",
       "      <th>countrySegment8</th>\n",
       "      <th>countrySegment9</th>\n",
       "    </tr>\n",
       "  </thead>\n",
       "  <tbody>\n",
       "    <tr>\n",
       "      <th>2</th>\n",
       "      <td>3.81</td>\n",
       "      <td>52.0</td>\n",
       "      <td>67.5</td>\n",
       "      <td>70.3</td>\n",
       "      <td>44.0</td>\n",
       "      <td>1531.0</td>\n",
       "      <td>76.4</td>\n",
       "      <td>7.8</td>\n",
       "      <td>26.100</td>\n",
       "      <td>51.000</td>\n",
       "      <td>Cluster3</td>\n",
       "      <td>3</td>\n",
       "      <td>5</td>\n",
       "      <td>2</td>\n",
       "      <td>2</td>\n",
       "      <td>5</td>\n",
       "      <td>3</td>\n",
       "      <td>2</td>\n",
       "      <td>2</td>\n",
       "      <td>1</td>\n",
       "    </tr>\n",
       "    <tr>\n",
       "      <th>8</th>\n",
       "      <td>1.70</td>\n",
       "      <td>22.0</td>\n",
       "      <td>67.2</td>\n",
       "      <td>74.0</td>\n",
       "      <td>25.0</td>\n",
       "      <td>354.0</td>\n",
       "      <td>65.0</td>\n",
       "      <td>52.0</td>\n",
       "      <td>0.300</td>\n",
       "      <td>0.500</td>\n",
       "      <td>Cluster0</td>\n",
       "      <td>5</td>\n",
       "      <td>3</td>\n",
       "      <td>4</td>\n",
       "      <td>5</td>\n",
       "      <td>2</td>\n",
       "      <td>0</td>\n",
       "      <td>0</td>\n",
       "      <td>4</td>\n",
       "      <td>5</td>\n",
       "    </tr>\n",
       "    <tr>\n",
       "      <th>12</th>\n",
       "      <td>1.95</td>\n",
       "      <td>62.0</td>\n",
       "      <td>70.5</td>\n",
       "      <td>77.1</td>\n",
       "      <td>14.0</td>\n",
       "      <td>12545.0</td>\n",
       "      <td>81.2</td>\n",
       "      <td>67.0</td>\n",
       "      <td>1.500</td>\n",
       "      <td>2.000</td>\n",
       "      <td>Cluster5</td>\n",
       "      <td>2</td>\n",
       "      <td>2</td>\n",
       "      <td>0</td>\n",
       "      <td>4</td>\n",
       "      <td>3</td>\n",
       "      <td>5</td>\n",
       "      <td>3</td>\n",
       "      <td>0</td>\n",
       "      <td>2</td>\n",
       "    </tr>\n",
       "    <tr>\n",
       "      <th>13</th>\n",
       "      <td>2.97</td>\n",
       "      <td>53.0</td>\n",
       "      <td>71.1</td>\n",
       "      <td>75.3</td>\n",
       "      <td>18.0</td>\n",
       "      <td>9073.0</td>\n",
       "      <td>88.2</td>\n",
       "      <td>29.2</td>\n",
       "      <td>10.900</td>\n",
       "      <td>20.600</td>\n",
       "      <td>Cluster2</td>\n",
       "      <td>1</td>\n",
       "      <td>0</td>\n",
       "      <td>5</td>\n",
       "      <td>0</td>\n",
       "      <td>0</td>\n",
       "      <td>2</td>\n",
       "      <td>4</td>\n",
       "      <td>3</td>\n",
       "      <td>3</td>\n",
       "    </tr>\n",
       "    <tr>\n",
       "      <th>14</th>\n",
       "      <td>3.14</td>\n",
       "      <td>49.0</td>\n",
       "      <td>58.1</td>\n",
       "      <td>58.2</td>\n",
       "      <td>78.0</td>\n",
       "      <td>280.0</td>\n",
       "      <td>88.8</td>\n",
       "      <td>55.9</td>\n",
       "      <td>50.600</td>\n",
       "      <td>73.900</td>\n",
       "      <td>Cluster1</td>\n",
       "      <td>4</td>\n",
       "      <td>1</td>\n",
       "      <td>1</td>\n",
       "      <td>1</td>\n",
       "      <td>1</td>\n",
       "      <td>1</td>\n",
       "      <td>1</td>\n",
       "      <td>1</td>\n",
       "      <td>0</td>\n",
       "    </tr>\n",
       "    <tr>\n",
       "      <th>15</th>\n",
       "      <td>1.73</td>\n",
       "      <td>55.0</td>\n",
       "      <td>73.6</td>\n",
       "      <td>78.7</td>\n",
       "      <td>9.0</td>\n",
       "      <td>7173.0</td>\n",
       "      <td>73.4</td>\n",
       "      <td>61.4</td>\n",
       "      <td>2.000</td>\n",
       "      <td>3.200</td>\n",
       "      <td>Cluster0</td>\n",
       "      <td>2</td>\n",
       "      <td>3</td>\n",
       "      <td>4</td>\n",
       "      <td>5</td>\n",
       "      <td>2</td>\n",
       "      <td>0</td>\n",
       "      <td>0</td>\n",
       "      <td>4</td>\n",
       "      <td>5</td>\n",
       "    </tr>\n",
       "    <tr>\n",
       "      <th>16</th>\n",
       "      <td>1.40</td>\n",
       "      <td>50.0</td>\n",
       "      <td>64.4</td>\n",
       "      <td>74.8</td>\n",
       "      <td>15.0</td>\n",
       "      <td>994.0</td>\n",
       "      <td>76.4</td>\n",
       "      <td>61.3</td>\n",
       "      <td>0.300</td>\n",
       "      <td>0.600</td>\n",
       "      <td>Cluster0</td>\n",
       "      <td>5</td>\n",
       "      <td>3</td>\n",
       "      <td>4</td>\n",
       "      <td>5</td>\n",
       "      <td>2</td>\n",
       "      <td>0</td>\n",
       "      <td>0</td>\n",
       "      <td>4</td>\n",
       "      <td>5</td>\n",
       "    </tr>\n",
       "    <tr>\n",
       "      <th>18</th>\n",
       "      <td>3.66</td>\n",
       "      <td>47.0</td>\n",
       "      <td>73.4</td>\n",
       "      <td>76.1</td>\n",
       "      <td>30.0</td>\n",
       "      <td>2569.0</td>\n",
       "      <td>79.0</td>\n",
       "      <td>34.0</td>\n",
       "      <td>21.252</td>\n",
       "      <td>23.472</td>\n",
       "      <td>Cluster2</td>\n",
       "      <td>1</td>\n",
       "      <td>0</td>\n",
       "      <td>5</td>\n",
       "      <td>0</td>\n",
       "      <td>0</td>\n",
       "      <td>2</td>\n",
       "      <td>4</td>\n",
       "      <td>3</td>\n",
       "      <td>3</td>\n",
       "    </tr>\n",
       "    <tr>\n",
       "      <th>19</th>\n",
       "      <td>5.83</td>\n",
       "      <td>16.0</td>\n",
       "      <td>52.4</td>\n",
       "      <td>57.2</td>\n",
       "      <td>84.0</td>\n",
       "      <td>391.0</td>\n",
       "      <td>90.0</td>\n",
       "      <td>57.8</td>\n",
       "      <td>51.300</td>\n",
       "      <td>74.200</td>\n",
       "      <td>Cluster1</td>\n",
       "      <td>4</td>\n",
       "      <td>1</td>\n",
       "      <td>1</td>\n",
       "      <td>1</td>\n",
       "      <td>1</td>\n",
       "      <td>1</td>\n",
       "      <td>1</td>\n",
       "      <td>1</td>\n",
       "      <td>0</td>\n",
       "    </tr>\n",
       "    <tr>\n",
       "      <th>21</th>\n",
       "      <td>4.36</td>\n",
       "      <td>45.0</td>\n",
       "      <td>59.8</td>\n",
       "      <td>63.2</td>\n",
       "      <td>66.0</td>\n",
       "      <td>909.0</td>\n",
       "      <td>74.1</td>\n",
       "      <td>56.3</td>\n",
       "      <td>9.500</td>\n",
       "      <td>24.000</td>\n",
       "      <td>Cluster4</td>\n",
       "      <td>0</td>\n",
       "      <td>4</td>\n",
       "      <td>3</td>\n",
       "      <td>3</td>\n",
       "      <td>4</td>\n",
       "      <td>3</td>\n",
       "      <td>5</td>\n",
       "      <td>5</td>\n",
       "      <td>4</td>\n",
       "    </tr>\n",
       "  </tbody>\n",
       "</table>\n",
       "</div>"
      ],
      "text/plain": [
       "     tfr  contraception  lifeMale  lifeFemale  infantMortality  GDPperCapita  \\\n",
       "2   3.81           52.0      67.5        70.3             44.0        1531.0   \n",
       "8   1.70           22.0      67.2        74.0             25.0         354.0   \n",
       "12  1.95           62.0      70.5        77.1             14.0       12545.0   \n",
       "13  2.97           53.0      71.1        75.3             18.0        9073.0   \n",
       "14  3.14           49.0      58.1        58.2             78.0         280.0   \n",
       "15  1.73           55.0      73.6        78.7              9.0        7173.0   \n",
       "16  1.40           50.0      64.4        74.8             15.0         994.0   \n",
       "18  3.66           47.0      73.4        76.1             30.0        2569.0   \n",
       "19  5.83           16.0      52.4        57.2             84.0         391.0   \n",
       "21  4.36           45.0      59.8        63.2             66.0         909.0   \n",
       "\n",
       "    economicActivityMale  economicActivityFemale  illiteracyMale  \\\n",
       "2                   76.4                     7.8          26.100   \n",
       "8                   65.0                    52.0           0.300   \n",
       "12                  81.2                    67.0           1.500   \n",
       "13                  88.2                    29.2          10.900   \n",
       "14                  88.8                    55.9          50.600   \n",
       "15                  73.4                    61.4           2.000   \n",
       "16                  76.4                    61.3           0.300   \n",
       "18                  79.0                    34.0          21.252   \n",
       "19                  90.0                    57.8          51.300   \n",
       "21                  74.1                    56.3           9.500   \n",
       "\n",
       "    illiteracyFemale countrySegment  countrySegment1  countrySegment2  \\\n",
       "2             51.000       Cluster3                3                5   \n",
       "8              0.500       Cluster0                5                3   \n",
       "12             2.000       Cluster5                2                2   \n",
       "13            20.600       Cluster2                1                0   \n",
       "14            73.900       Cluster1                4                1   \n",
       "15             3.200       Cluster0                2                3   \n",
       "16             0.600       Cluster0                5                3   \n",
       "18            23.472       Cluster2                1                0   \n",
       "19            74.200       Cluster1                4                1   \n",
       "21            24.000       Cluster4                0                4   \n",
       "\n",
       "    countrySegment3  countrySegment4  countrySegment5  countrySegment6  \\\n",
       "2                 2                2                5                3   \n",
       "8                 4                5                2                0   \n",
       "12                0                4                3                5   \n",
       "13                5                0                0                2   \n",
       "14                1                1                1                1   \n",
       "15                4                5                2                0   \n",
       "16                4                5                2                0   \n",
       "18                5                0                0                2   \n",
       "19                1                1                1                1   \n",
       "21                3                3                4                3   \n",
       "\n",
       "    countrySegment7  countrySegment8  countrySegment9  \n",
       "2                 2                2                1  \n",
       "8                 0                4                5  \n",
       "12                3                0                2  \n",
       "13                4                3                3  \n",
       "14                1                1                0  \n",
       "15                0                4                5  \n",
       "16                0                4                5  \n",
       "18                4                3                3  \n",
       "19                1                1                0  \n",
       "21                5                5                4  "
      ]
     },
     "execution_count": 135,
     "metadata": {},
     "output_type": "execute_result"
    }
   ],
   "source": [
    "clust_map = {\n",
    "    0:'Cluster0',\n",
    "    1:'Cluster1',\n",
    "    2:'Cluster2',\n",
    "    3:'Cluster3',\n",
    "    4:'Cluster4',\n",
    "    5:'Cluster5'\n",
    "}\n",
    "\n",
    "df.countrySegment = df.countrySegment.map(clust_map)\n",
    "df[:10]"
   ]
  },
  {
   "cell_type": "markdown",
   "metadata": {},
   "source": [
    "Analizamos el PBI vs mortalidad infantil en cada cluster"
   ]
  },
  {
   "cell_type": "code",
   "execution_count": 136,
   "metadata": {},
   "outputs": [
    {
     "data": {
      "image/png": "[encoded data removed]",
      "text/plain": [
       "<matplotlib.figure.Figure at 0xd6b1438>"
      ]
     },
     "metadata": {},
     "output_type": "display_data"
    }
   ],
   "source": [
    "d_color = {\n",
    "    'Cluster0':'yellow',\n",
    "    'Cluster1':'red',\n",
    "    'Cluster2':'green',\n",
    "    'Cluster3':'hotpink',\n",
    "    'Cluster4':'blue',\n",
    "    'Cluster5':'aqua'\n",
    "}\n",
    "\n",
    "fig, ax = plt.subplots()\n",
    "for clust in clust_map.values():\n",
    "    color = d_color[clust]\n",
    "    df[df.countrySegment == clust].plot(kind='scatter', x='GDPperCapita', y='infantMortality', label=clust, ax=ax, color=color)\n",
    "handles, labels = ax.get_legend_handles_labels()\n",
    "_ = ax.legend(handles, labels, loc=\"upper right\")"
   ]
  },
  {
   "cell_type": "markdown",
   "metadata": {},
   "source": [
    "Cuando el PBI es bajo la mortalidad infantil es alta."
   ]
  },
  {
   "cell_type": "code",
   "execution_count": 137,
   "metadata": {},
   "outputs": [
    {
     "data": {
      "image/png": "[encoded data removed]",
      "text/plain": [
       "<matplotlib.figure.Figure at 0xd5f2710>"
      ]
     },
     "metadata": {},
     "output_type": "display_data"
    }
   ],
   "source": [
    "fig, ax = plt.subplots()\n",
    "for clust in clust_map.values():\n",
    "    color = d_color[clust]\n",
    "    df[df.countrySegment == clust].plot(kind='scatter', x='GDPperCapita', y='lifeMale', label=clust, ax=ax, color=color)\n",
    "handles, labels = ax.get_legend_handles_labels()\n",
    "_ = ax.legend(handles, labels, loc=\"lower right\")"
   ]
  },
  {
   "cell_type": "markdown",
   "metadata": {},
   "source": [
    "Esperanza de vida se incrementa mientras el pais está más desarrollado"
   ]
  },
  {
   "cell_type": "code",
   "execution_count": 78,
   "metadata": {},
   "outputs": [
    {
     "data": {
      "image/png": "[encoded data removed]",
      "text/plain": [
       "<matplotlib.figure.Figure at 0xd58aba8>"
      ]
     },
     "metadata": {},
     "output_type": "display_data"
    }
   ],
   "source": [
    "fig, ax = plt.subplots()\n",
    "for clust in clust_map.values():\n",
    "    color = d_color[clust]\n",
    "    df[df.countrySegment == clust].plot(kind='scatter', x='GDPperCapita', y='lifeFemale', label=clust, ax=ax, color=color)\n",
    "handles, labels = ax.get_legend_handles_labels()\n",
    "_ = ax.legend(handles, labels, loc=\"lower right\")"
   ]
  },
  {
   "cell_type": "markdown",
   "metadata": {},
   "source": [
    "Esperanza de vida se incrementa mientras el pais está más desarrollado"
   ]
  },
  {
   "cell_type": "code",
   "execution_count": 80,
   "metadata": {
    "scrolled": true
   },
   "outputs": [
    {
     "data": {
      "text/plain": [
       "array([3, 5, 2, 1, 4, 2, 5, 1, 4, 0, 0, 1, 4, 4, 4, 1, 1, 1, 5, 1, 1, 1, 1,\n",
       "       3, 1, 5, 4, 1, 4, 5, 3, 4, 4, 1, 2, 5, 3, 1, 3, 3, 4, 1, 3, 5, 2, 2,\n",
       "       5, 5, 5, 4, 1, 0, 1, 1, 5, 3, 0, 0, 4, 2, 3, 4, 3, 1, 1, 5, 1, 2, 2,\n",
       "       1, 2, 5, 5, 1, 4, 2, 1, 2, 1, 0, 0, 5, 1, 4, 1, 1, 3, 1, 5, 5, 2, 5,\n",
       "       0, 1, 5, 3, 0])"
      ]
     },
     "execution_count": 80,
     "metadata": {},
     "output_type": "execute_result"
    }
   ],
   "source": [
    "km[0].labels_"
   ]
  },
  {
   "cell_type": "code",
   "execution_count": 82,
   "metadata": {},
   "outputs": [
    {
     "data": {
      "text/plain": [
       "array([-2.51605611, -0.76838707, -1.53678834,  0.93469974])"
      ]
     },
     "execution_count": 82,
     "metadata": {},
     "output_type": "execute_result"
    }
   ],
   "source": [
    "hpc[2]"
   ]
  },
  {
   "cell_type": "code",
   "execution_count": 84,
   "metadata": {},
   "outputs": [
    {
     "data": {
      "text/plain": [
       "0.28991760095861552"
      ]
     },
     "execution_count": 84,
     "metadata": {},
     "output_type": "execute_result"
    }
   ],
   "source": [
    "from sklearn import metrics\n",
    "import numpy as np\n",
    "from sklearn.cluster import KMeans\n",
    "\n",
    "#kmeans_model = KMeans(n_clusters=3, randomkm[0]_state=1).fit(X)\n",
    "labels = km[0].labels_\n",
    "metrics.silhouette_score(hpc, labels, metric='euclidean')"
   ]
  },
  {
   "cell_type": "code",
   "execution_count": 85,
   "metadata": {},
   "outputs": [
    {
     "data": {
      "text/plain": [
       "0.29241134844019956"
      ]
     },
     "execution_count": 85,
     "metadata": {},
     "output_type": "execute_result"
    }
   ],
   "source": [
    "from sklearn import metrics\n",
    "import numpy as np\n",
    "from sklearn.cluster import KMeans\n",
    "\n",
    "#kmeans_model = KMeans(n_clusters=3, randomkm[0]_state=1).fit(X)\n",
    "labels = km[1].labels_\n",
    "metrics.silhouette_score(hpc, labels, metric='euclidean')"
   ]
  },
  {
   "cell_type": "code",
   "execution_count": 86,
   "metadata": {},
   "outputs": [
    {
     "data": {
      "text/plain": [
       "0.28977196462316629"
      ]
     },
     "execution_count": 86,
     "metadata": {},
     "output_type": "execute_result"
    }
   ],
   "source": [
    "from sklearn import metrics\n",
    "import numpy as np\n",
    "from sklearn.cluster import KMeans\n",
    "\n",
    "#kmeans_model = KMeans(n_clusters=3, randomkm[0]_state=1).fit(X)\n",
    "labels = km[2].labels_\n",
    "metrics.silhouette_score(hpc, labels, metric='euclidean')"
   ]
  },
  {
   "cell_type": "code",
   "execution_count": 87,
   "metadata": {},
   "outputs": [
    {
     "data": {
      "text/plain": [
       "0.29205773649862521"
      ]
     },
     "execution_count": 87,
     "metadata": {},
     "output_type": "execute_result"
    }
   ],
   "source": [
    "from sklearn import metrics\n",
    "import numpy as np\n",
    "from sklearn.cluster import KMeans\n",
    "\n",
    "#kmeans_model = KMeans(n_clusters=3, randomkm[0]_state=1).fit(X)\n",
    "labels = km[3].labels_\n",
    "metrics.silhouette_score(hpc, labels, metric='euclidean')"
   ]
  },
  {
   "cell_type": "code",
   "execution_count": 88,
   "metadata": {},
   "outputs": [
    {
     "data": {
      "text/plain": [
       "0.28083998221604023"
      ]
     },
     "execution_count": 88,
     "metadata": {},
     "output_type": "execute_result"
    }
   ],
   "source": [
    "from sklearn import metrics\n",
    "import numpy as np\n",
    "from sklearn.cluster import KMeans\n",
    "\n",
    "#kmeans_model = KMeans(n_clusters=3, randomkm[0]_state=1).fit(X)\n",
    "labels = km[4].labels_\n",
    "metrics.silhouette_score(hpc, labels, metric='euclidean')"
   ]
  },
  {
   "cell_type": "code",
   "execution_count": 140,
   "metadata": {},
   "outputs": [
    {
     "data": {
      "text/html": [
       "<div>\n",
       "<style>\n",
       "    .dataframe thead tr:only-child th {\n",
       "        text-align: right;\n",
       "    }\n",
       "\n",
       "    .dataframe thead th {\n",
       "        text-align: left;\n",
       "    }\n",
       "\n",
       "    .dataframe tbody tr th {\n",
       "        vertical-align: top;\n",
       "    }\n",
       "</style>\n",
       "<table border=\"1\" class=\"dataframe\">\n",
       "  <thead>\n",
       "    <tr style=\"text-align: right;\">\n",
       "      <th></th>\n",
       "      <th>tfr</th>\n",
       "      <th>contraception</th>\n",
       "      <th>lifeMale</th>\n",
       "      <th>lifeFemale</th>\n",
       "      <th>infantMortality</th>\n",
       "      <th>GDPperCapita</th>\n",
       "      <th>economicActivityMale</th>\n",
       "      <th>economicActivityFemale</th>\n",
       "      <th>illiteracyMale</th>\n",
       "      <th>illiteracyFemale</th>\n",
       "      <th>countrySegment</th>\n",
       "      <th>countrySegment1</th>\n",
       "      <th>countrySegment2</th>\n",
       "      <th>countrySegment3</th>\n",
       "      <th>countrySegment4</th>\n",
       "      <th>countrySegment5</th>\n",
       "      <th>countrySegment6</th>\n",
       "      <th>countrySegment7</th>\n",
       "      <th>countrySegment8</th>\n",
       "      <th>countrySegment9</th>\n",
       "    </tr>\n",
       "  </thead>\n",
       "  <tbody>\n",
       "    <tr>\n",
       "      <th>2</th>\n",
       "      <td>3.81</td>\n",
       "      <td>52.0</td>\n",
       "      <td>67.5</td>\n",
       "      <td>70.3</td>\n",
       "      <td>44.0</td>\n",
       "      <td>1531.0</td>\n",
       "      <td>76.4</td>\n",
       "      <td>7.8</td>\n",
       "      <td>26.1</td>\n",
       "      <td>51.0</td>\n",
       "      <td>Cluster3</td>\n",
       "      <td>3</td>\n",
       "      <td>5</td>\n",
       "      <td>2</td>\n",
       "      <td>2</td>\n",
       "      <td>5</td>\n",
       "      <td>3</td>\n",
       "      <td>2</td>\n",
       "      <td>2</td>\n",
       "      <td>1</td>\n",
       "    </tr>\n",
       "    <tr>\n",
       "      <th>8</th>\n",
       "      <td>1.70</td>\n",
       "      <td>22.0</td>\n",
       "      <td>67.2</td>\n",
       "      <td>74.0</td>\n",
       "      <td>25.0</td>\n",
       "      <td>354.0</td>\n",
       "      <td>65.0</td>\n",
       "      <td>52.0</td>\n",
       "      <td>0.3</td>\n",
       "      <td>0.5</td>\n",
       "      <td>Cluster0</td>\n",
       "      <td>5</td>\n",
       "      <td>3</td>\n",
       "      <td>4</td>\n",
       "      <td>5</td>\n",
       "      <td>2</td>\n",
       "      <td>0</td>\n",
       "      <td>0</td>\n",
       "      <td>4</td>\n",
       "      <td>5</td>\n",
       "    </tr>\n",
       "    <tr>\n",
       "      <th>12</th>\n",
       "      <td>1.95</td>\n",
       "      <td>62.0</td>\n",
       "      <td>70.5</td>\n",
       "      <td>77.1</td>\n",
       "      <td>14.0</td>\n",
       "      <td>12545.0</td>\n",
       "      <td>81.2</td>\n",
       "      <td>67.0</td>\n",
       "      <td>1.5</td>\n",
       "      <td>2.0</td>\n",
       "      <td>Cluster5</td>\n",
       "      <td>2</td>\n",
       "      <td>2</td>\n",
       "      <td>0</td>\n",
       "      <td>4</td>\n",
       "      <td>3</td>\n",
       "      <td>5</td>\n",
       "      <td>3</td>\n",
       "      <td>0</td>\n",
       "      <td>2</td>\n",
       "    </tr>\n",
       "    <tr>\n",
       "      <th>13</th>\n",
       "      <td>2.97</td>\n",
       "      <td>53.0</td>\n",
       "      <td>71.1</td>\n",
       "      <td>75.3</td>\n",
       "      <td>18.0</td>\n",
       "      <td>9073.0</td>\n",
       "      <td>88.2</td>\n",
       "      <td>29.2</td>\n",
       "      <td>10.9</td>\n",
       "      <td>20.6</td>\n",
       "      <td>Cluster2</td>\n",
       "      <td>1</td>\n",
       "      <td>0</td>\n",
       "      <td>5</td>\n",
       "      <td>0</td>\n",
       "      <td>0</td>\n",
       "      <td>2</td>\n",
       "      <td>4</td>\n",
       "      <td>3</td>\n",
       "      <td>3</td>\n",
       "    </tr>\n",
       "    <tr>\n",
       "      <th>14</th>\n",
       "      <td>3.14</td>\n",
       "      <td>49.0</td>\n",
       "      <td>58.1</td>\n",
       "      <td>58.2</td>\n",
       "      <td>78.0</td>\n",
       "      <td>280.0</td>\n",
       "      <td>88.8</td>\n",
       "      <td>55.9</td>\n",
       "      <td>50.6</td>\n",
       "      <td>73.9</td>\n",
       "      <td>Cluster1</td>\n",
       "      <td>4</td>\n",
       "      <td>1</td>\n",
       "      <td>1</td>\n",
       "      <td>1</td>\n",
       "      <td>1</td>\n",
       "      <td>1</td>\n",
       "      <td>1</td>\n",
       "      <td>1</td>\n",
       "      <td>0</td>\n",
       "    </tr>\n",
       "  </tbody>\n",
       "</table>\n",
       "</div>"
      ],
      "text/plain": [
       "     tfr  contraception  lifeMale  lifeFemale  infantMortality  GDPperCapita  \\\n",
       "2   3.81           52.0      67.5        70.3             44.0        1531.0   \n",
       "8   1.70           22.0      67.2        74.0             25.0         354.0   \n",
       "12  1.95           62.0      70.5        77.1             14.0       12545.0   \n",
       "13  2.97           53.0      71.1        75.3             18.0        9073.0   \n",
       "14  3.14           49.0      58.1        58.2             78.0         280.0   \n",
       "\n",
       "    economicActivityMale  economicActivityFemale  illiteracyMale  \\\n",
       "2                   76.4                     7.8            26.1   \n",
       "8                   65.0                    52.0             0.3   \n",
       "12                  81.2                    67.0             1.5   \n",
       "13                  88.2                    29.2            10.9   \n",
       "14                  88.8                    55.9            50.6   \n",
       "\n",
       "    illiteracyFemale countrySegment  countrySegment1  countrySegment2  \\\n",
       "2               51.0       Cluster3                3                5   \n",
       "8                0.5       Cluster0                5                3   \n",
       "12               2.0       Cluster5                2                2   \n",
       "13              20.6       Cluster2                1                0   \n",
       "14              73.9       Cluster1                4                1   \n",
       "\n",
       "    countrySegment3  countrySegment4  countrySegment5  countrySegment6  \\\n",
       "2                 2                2                5                3   \n",
       "8                 4                5                2                0   \n",
       "12                0                4                3                5   \n",
       "13                5                0                0                2   \n",
       "14                1                1                1                1   \n",
       "\n",
       "    countrySegment7  countrySegment8  countrySegment9  \n",
       "2                 2                2                1  \n",
       "8                 0                4                5  \n",
       "12                3                0                2  \n",
       "13                4                3                3  \n",
       "14                1                1                0  "
      ]
     },
     "execution_count": 140,
     "metadata": {},
     "output_type": "execute_result"
    }
   ],
   "source": [
    "df.head()"
   ]
  },
  {
   "cell_type": "code",
   "execution_count": 142,
   "metadata": {},
   "outputs": [
    {
     "data": {
      "text/plain": [
       "countrySegment\n",
       "Cluster0    49.480000\n",
       "Cluster1    15.666667\n",
       "Cluster2    57.416667\n",
       "Cluster3    33.454545\n",
       "Cluster4    29.545455\n",
       "Cluster5    62.545455\n",
       "Name: contraception, dtype: float64"
      ]
     },
     "execution_count": 142,
     "metadata": {},
     "output_type": "execute_result"
    }
   ],
   "source": [
    "df.groupby('countrySegment').contraception.mean()"
   ]
  },
  {
   "cell_type": "code",
   "execution_count": 143,
   "metadata": {},
   "outputs": [
    {
     "data": {
      "text/plain": [
       "countrySegment\n",
       "Cluster0    66.404000\n",
       "Cluster1    49.193333\n",
       "Cluster2    68.670833\n",
       "Cluster3    63.163636\n",
       "Cluster4    58.136364\n",
       "Cluster5    72.600000\n",
       "Name: lifeMale, dtype: float64"
      ]
     },
     "execution_count": 143,
     "metadata": {},
     "output_type": "execute_result"
    }
   ],
   "source": [
    "df.groupby('countrySegment').lifeMale.mean()"
   ]
  },
  {
   "cell_type": "code",
   "execution_count": 144,
   "metadata": {},
   "outputs": [
    {
     "data": {
      "text/plain": [
       "countrySegment\n",
       "Cluster0     2096.360000\n",
       "Cluster1      348.466667\n",
       "Cluster2     2942.833333\n",
       "Cluster3     1898.000000\n",
       "Cluster4     1617.545455\n",
       "Cluster5    16419.090909\n",
       "Name: GDPperCapita, dtype: float64"
      ]
     },
     "execution_count": 144,
     "metadata": {},
     "output_type": "execute_result"
    }
   ],
   "source": [
    "df.groupby('countrySegment').GDPperCapita.mean()"
   ]
  },
  {
   "cell_type": "code",
   "execution_count": 147,
   "metadata": {},
   "outputs": [
    {
     "data": {
      "text/plain": [
       "countrySegment\n",
       "Cluster0    72.732000\n",
       "Cluster1    83.193333\n",
       "Cluster2    82.095833\n",
       "Cluster3    77.536364\n",
       "Cluster4    75.645455\n",
       "Cluster5    73.136364\n",
       "Name: economicActivityMale, dtype: float64"
      ]
     },
     "execution_count": 147,
     "metadata": {},
     "output_type": "execute_result"
    }
   ],
   "source": [
    "df.groupby('countrySegment').economicActivityMale.mean()"
   ]
  },
  {
   "cell_type": "code",
   "execution_count": null,
   "metadata": {
    "collapsed": true
   },
   "outputs": [],
   "source": []
  }
 ],
 "metadata": {
  "kernelspec": {
   "display_name": "Python 3",
   "language": "python",
   "name": "python3"
  },
  "language_info": {
   "codemirror_mode": {
    "name": "ipython",
    "version": 3
   },
   "file_extension": ".py",
   "mimetype": "text/x-python",
   "name": "python",
   "nbconvert_exporter": "python",
   "pygments_lexer": "ipython3",
   "version": "3.6.1"
  }
 },
 "nbformat": 4,
 "nbformat_minor": 1
}
