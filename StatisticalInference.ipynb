{
 "cells": [
  {
   "cell_type": "markdown",
   "metadata": {},
   "source": [
    "# Sesión 2. Inferencia Estadística"
   ]
  },
  {
   "cell_type": "markdown",
   "metadata": {},
   "source": [
    "# Distribuciones de probabilidad para una variable aleatoria discreta"
   ]
  },
  {
   "cell_type": "code",
   "execution_count": 147,
   "metadata": {
    "collapsed": true
   },
   "outputs": [],
   "source": [
    "# Importar la librería NumPy\n",
    "import numpy as np"
   ]
  },
  {
   "cell_type": "code",
   "execution_count": 148,
   "metadata": {
    "collapsed": true
   },
   "outputs": [],
   "source": [
    "# Importar la librería Pandas desde Python.\n",
    "import pandas as pd"
   ]
  },
  {
   "cell_type": "code",
   "execution_count": 149,
   "metadata": {},
   "outputs": [],
   "source": [
    "# Importar datos en formato xls.\n",
    "data_hipotecas = pd.read_excel('C:/Users/AMD/Documents/Python_Analytcis/hipotecas.xlsx')"
   ]
  },
  {
   "cell_type": "code",
   "execution_count": 150,
   "metadata": {},
   "outputs": [
    {
     "data": {
      "text/html": [
       "<div>\n",
       "<table border=\"1\" class=\"dataframe\">\n",
       "  <thead>\n",
       "    <tr style=\"text-align: right;\">\n",
       "      <th></th>\n",
       "      <th>Tienda</th>\n",
       "      <th>Número de Hipotecas aprobadas por semana</th>\n",
       "    </tr>\n",
       "  </thead>\n",
       "  <tbody>\n",
       "    <tr>\n",
       "      <th>0</th>\n",
       "      <td>5</td>\n",
       "      <td>2</td>\n",
       "    </tr>\n",
       "    <tr>\n",
       "      <th>1</th>\n",
       "      <td>5</td>\n",
       "      <td>6</td>\n",
       "    </tr>\n",
       "    <tr>\n",
       "      <th>2</th>\n",
       "      <td>2</td>\n",
       "      <td>4</td>\n",
       "    </tr>\n",
       "    <tr>\n",
       "      <th>3</th>\n",
       "      <td>2</td>\n",
       "      <td>6</td>\n",
       "    </tr>\n",
       "    <tr>\n",
       "      <th>4</th>\n",
       "      <td>2</td>\n",
       "      <td>2</td>\n",
       "    </tr>\n",
       "  </tbody>\n",
       "</table>\n",
       "</div>"
      ],
      "text/plain": [
       "   Tienda  Número de Hipotecas aprobadas por semana\n",
       "0       5                                         2\n",
       "1       5                                         6\n",
       "2       2                                         4\n",
       "3       2                                         6\n",
       "4       2                                         2"
      ]
     },
     "execution_count": 150,
     "metadata": {},
     "output_type": "execute_result"
    }
   ],
   "source": [
    "data_hipotecas.head()"
   ]
  },
  {
   "cell_type": "code",
   "execution_count": 151,
   "metadata": {},
   "outputs": [
    {
     "data": {
      "text/plain": [
       "Tienda  Número de Hipotecas aprobadas por semana\n",
       "1       0                                           239\n",
       "        1                                           208\n",
       "        2                                           194\n",
       "        3                                           215\n",
       "        4                                           224\n",
       "        5                                           219\n",
       "        6                                           242\n",
       "        7                                           210\n",
       "        8                                           221\n",
       "Name: Tienda, dtype: int64"
      ]
     },
     "execution_count": 151,
     "metadata": {},
     "output_type": "execute_result"
    }
   ],
   "source": [
    "data_hipotecas[data_hipotecas['Tienda']==1].groupby(['Tienda','Número de Hipotecas aprobadas por semana'])['Tienda'].count()"
   ]
  },
  {
   "cell_type": "code",
   "execution_count": 152,
   "metadata": {},
   "outputs": [
    {
     "data": {
      "text/html": [
       "<div>\n",
       "<table border=\"1\" class=\"dataframe\">\n",
       "  <thead>\n",
       "    <tr style=\"text-align: right;\">\n",
       "      <th></th>\n",
       "      <th></th>\n",
       "      <th>Tienda</th>\n",
       "    </tr>\n",
       "    <tr>\n",
       "      <th>Tienda</th>\n",
       "      <th>Número de Hipotecas aprobadas por semana</th>\n",
       "      <th></th>\n",
       "    </tr>\n",
       "  </thead>\n",
       "  <tbody>\n",
       "    <tr>\n",
       "      <th rowspan=\"9\" valign=\"top\">1</th>\n",
       "      <th>0</th>\n",
       "      <td>239</td>\n",
       "    </tr>\n",
       "    <tr>\n",
       "      <th>1</th>\n",
       "      <td>208</td>\n",
       "    </tr>\n",
       "    <tr>\n",
       "      <th>2</th>\n",
       "      <td>194</td>\n",
       "    </tr>\n",
       "    <tr>\n",
       "      <th>3</th>\n",
       "      <td>215</td>\n",
       "    </tr>\n",
       "    <tr>\n",
       "      <th>4</th>\n",
       "      <td>224</td>\n",
       "    </tr>\n",
       "    <tr>\n",
       "      <th>5</th>\n",
       "      <td>219</td>\n",
       "    </tr>\n",
       "    <tr>\n",
       "      <th>6</th>\n",
       "      <td>242</td>\n",
       "    </tr>\n",
       "    <tr>\n",
       "      <th>7</th>\n",
       "      <td>210</td>\n",
       "    </tr>\n",
       "    <tr>\n",
       "      <th>8</th>\n",
       "      <td>221</td>\n",
       "    </tr>\n",
       "  </tbody>\n",
       "</table>\n",
       "</div>"
      ],
      "text/plain": [
       "                                                 Tienda\n",
       "Tienda Número de Hipotecas aprobadas por semana        \n",
       "1      0                                            239\n",
       "       1                                            208\n",
       "       2                                            194\n",
       "       3                                            215\n",
       "       4                                            224\n",
       "       5                                            219\n",
       "       6                                            242\n",
       "       7                                            210\n",
       "       8                                            221"
      ]
     },
     "execution_count": 152,
     "metadata": {},
     "output_type": "execute_result"
    }
   ],
   "source": [
    "#data_hipotecas['Tienda'].groupby(data_hipotecas['Tienda']).count()\n",
    "data_t1=pd.DataFrame(data_hipotecas[data_hipotecas['Tienda']==1].groupby(['Tienda','Número de Hipotecas aprobadas por semana'])['Tienda'].count())\n",
    "data_t1"
   ]
  },
  {
   "cell_type": "code",
   "execution_count": 153,
   "metadata": {},
   "outputs": [
    {
     "data": {
      "text/html": [
       "<div>\n",
       "<table border=\"1\" class=\"dataframe\">\n",
       "  <thead>\n",
       "    <tr style=\"text-align: right;\">\n",
       "      <th></th>\n",
       "      <th>Tienda</th>\n",
       "    </tr>\n",
       "    <tr>\n",
       "      <th>Tienda</th>\n",
       "      <th></th>\n",
       "    </tr>\n",
       "  </thead>\n",
       "  <tbody>\n",
       "    <tr>\n",
       "      <th>1</th>\n",
       "      <td>1972</td>\n",
       "    </tr>\n",
       "  </tbody>\n",
       "</table>\n",
       "</div>"
      ],
      "text/plain": [
       "        Tienda\n",
       "Tienda        \n",
       "1         1972"
      ]
     },
     "execution_count": 153,
     "metadata": {},
     "output_type": "execute_result"
    }
   ],
   "source": [
    "data_t1_0=pd.DataFrame(data_hipotecas[data_hipotecas['Tienda']==1].groupby(['Tienda'])['Tienda'].count())\n",
    "data_t1_0"
   ]
  },
  {
   "cell_type": "code",
   "execution_count": 154,
   "metadata": {},
   "outputs": [
    {
     "data": {
      "text/plain": [
       "Tienda  Número de Hipotecas aprobadas por semana\n",
       "1       0                                           0.121197\n",
       "        1                                           0.105477\n",
       "        2                                           0.098377\n",
       "        3                                           0.109026\n",
       "        4                                           0.113590\n",
       "        5                                           0.111055\n",
       "        6                                           0.122718\n",
       "        7                                           0.106491\n",
       "        8                                           0.112069\n",
       "Name: Tienda, dtype: float64"
      ]
     },
     "execution_count": 154,
     "metadata": {},
     "output_type": "execute_result"
    }
   ],
   "source": [
    "data_hipotecas[data_hipotecas['Tienda']==1].groupby(['Tienda','Número de Hipotecas aprobadas por semana'])['Tienda'].count()/data_hipotecas[data_hipotecas['Tienda']==1].groupby(['Tienda'])['Tienda'].count()"
   ]
  },
  {
   "cell_type": "code",
   "execution_count": 155,
   "metadata": {},
   "outputs": [
    {
     "data": {
      "text/plain": [
       "[0, 1, 2, 3, 4, 5, 6, 7, 8]"
      ]
     },
     "execution_count": 155,
     "metadata": {},
     "output_type": "execute_result"
    }
   ],
   "source": [
    "def generateNumber(num):\n",
    "    mylist = []\n",
    "    for i in range(num+1):\n",
    "         mylist.append(i)\n",
    "    return mylist\n",
    "\n",
    "\n",
    "x = generateNumber(8)\n",
    "x"
   ]
  },
  {
   "cell_type": "code",
   "execution_count": 156,
   "metadata": {},
   "outputs": [],
   "source": [
    "a=data_hipotecas[data_hipotecas['Tienda']==1].groupby(['Tienda','Número de Hipotecas aprobadas por semana'])['Tienda'].count()/data_hipotecas[data_hipotecas['Tienda']==1].groupby(['Tienda'])['Tienda'].count()*x"
   ]
  },
  {
   "cell_type": "code",
   "execution_count": 157,
   "metadata": {},
   "outputs": [
    {
     "data": {
      "text/plain": [
       "Tienda  Número de Hipotecas aprobadas por semana\n",
       "1       0                                           0.000000\n",
       "        1                                           0.105477\n",
       "        2                                           0.196755\n",
       "        3                                           0.327079\n",
       "        4                                           0.454361\n",
       "        5                                           0.555274\n",
       "        6                                           0.736308\n",
       "        7                                           0.745436\n",
       "        8                                           0.896552\n",
       "Name: Tienda, dtype: float64"
      ]
     },
     "execution_count": 157,
     "metadata": {},
     "output_type": "execute_result"
    }
   ],
   "source": [
    "a"
   ]
  },
  {
   "cell_type": "code",
   "execution_count": 158,
   "metadata": {},
   "outputs": [
    {
     "data": {
      "text/plain": [
       "4.017241379310345"
      ]
     },
     "execution_count": 158,
     "metadata": {},
     "output_type": "execute_result"
    }
   ],
   "source": [
    "ex=a.sum()\n",
    "ex"
   ]
  },
  {
   "cell_type": "code",
   "execution_count": 159,
   "metadata": {},
   "outputs": [
    {
     "data": {
      "text/plain": [
       "array([ 0,  1,  4,  9, 16, 25, 36, 49, 64])"
      ]
     },
     "execution_count": 159,
     "metadata": {},
     "output_type": "execute_result"
    }
   ],
   "source": [
    "b=np.array(x)\n",
    "c=b**2\n",
    "c"
   ]
  },
  {
   "cell_type": "code",
   "execution_count": 160,
   "metadata": {
    "collapsed": true
   },
   "outputs": [],
   "source": [
    "d=data_hipotecas[data_hipotecas['Tienda']==1].groupby(['Tienda','Número de Hipotecas aprobadas por semana'])['Tienda'].count()/data_hipotecas[data_hipotecas['Tienda']==1].groupby(['Tienda'])['Tienda'].count()*c"
   ]
  },
  {
   "cell_type": "code",
   "execution_count": 161,
   "metadata": {},
   "outputs": [
    {
     "data": {
      "text/plain": [
       "Tienda  Número de Hipotecas aprobadas por semana\n",
       "1       0                                           0.000000\n",
       "        1                                           0.105477\n",
       "        2                                           0.393509\n",
       "        3                                           0.981237\n",
       "        4                                           1.817444\n",
       "        5                                           2.776369\n",
       "        6                                           4.417850\n",
       "        7                                           5.218053\n",
       "        8                                           7.172414\n",
       "Name: Tienda, dtype: float64"
      ]
     },
     "execution_count": 161,
     "metadata": {},
     "output_type": "execute_result"
    }
   ],
   "source": [
    "d"
   ]
  },
  {
   "cell_type": "code",
   "execution_count": 162,
   "metadata": {},
   "outputs": [
    {
     "data": {
      "text/plain": [
       "22.88235294117647"
      ]
     },
     "execution_count": 162,
     "metadata": {},
     "output_type": "execute_result"
    }
   ],
   "source": [
    "ex2=d.sum()\n",
    "ex2"
   ]
  },
  {
   "cell_type": "code",
   "execution_count": 163,
   "metadata": {},
   "outputs": [
    {
     "data": {
      "text/plain": [
       "6.744124641533187"
      ]
     },
     "execution_count": 163,
     "metadata": {},
     "output_type": "execute_result"
    }
   ],
   "source": [
    "vx=ex2-(ex**2)\n",
    "vx"
   ]
  },
  {
   "cell_type": "markdown",
   "metadata": {},
   "source": [
    "# Distribución Binomial"
   ]
  },
  {
   "cell_type": "code",
   "execution_count": 164,
   "metadata": {
    "collapsed": true
   },
   "outputs": [],
   "source": [
    "from scipy.stats import binom\n",
    "import matplotlib.pyplot as plt"
   ]
  },
  {
   "cell_type": "code",
   "execution_count": 165,
   "metadata": {},
   "outputs": [
    {
     "data": {
      "text/plain": [
       "0.17187499999999994"
      ]
     },
     "execution_count": 165,
     "metadata": {},
     "output_type": "execute_result"
    }
   ],
   "source": [
    "x=3\n",
    "n=10\n",
    "p=0.5\n",
    "prob = binom.cdf(x, n, p)\n",
    "prob"
   ]
  },
  {
   "cell_type": "code",
   "execution_count": 166,
   "metadata": {},
   "outputs": [
    {
     "data": {
      "text/plain": [
       "0.828125"
      ]
     },
     "execution_count": 166,
     "metadata": {},
     "output_type": "execute_result"
    }
   ],
   "source": [
    "pd=1-prob\n",
    "pd"
   ]
  },
  {
   "cell_type": "markdown",
   "metadata": {},
   "source": [
    "# Distribución Poisson"
   ]
  },
  {
   "cell_type": "code",
   "execution_count": 167,
   "metadata": {},
   "outputs": [],
   "source": [
    "# Importar datos en formato xls.\n",
    "import pandas as pd\n",
    "autos_averias = pd.read_excel('C:/Users/AMD/Documents/Python_Analytcis/averias_autos.xlsx')"
   ]
  },
  {
   "cell_type": "code",
   "execution_count": 168,
   "metadata": {},
   "outputs": [
    {
     "data": {
      "text/html": [
       "<div>\n",
       "<table border=\"1\" class=\"dataframe\">\n",
       "  <thead>\n",
       "    <tr style=\"text-align: right;\">\n",
       "      <th></th>\n",
       "      <th>Marca</th>\n",
       "      <th>nro_averias</th>\n",
       "    </tr>\n",
       "  </thead>\n",
       "  <tbody>\n",
       "    <tr>\n",
       "      <th>0</th>\n",
       "      <td>Dodge</td>\n",
       "      <td>3</td>\n",
       "    </tr>\n",
       "    <tr>\n",
       "      <th>1</th>\n",
       "      <td>Ford</td>\n",
       "      <td>3</td>\n",
       "    </tr>\n",
       "    <tr>\n",
       "      <th>2</th>\n",
       "      <td>Ford</td>\n",
       "      <td>2</td>\n",
       "    </tr>\n",
       "    <tr>\n",
       "      <th>3</th>\n",
       "      <td>Dodge</td>\n",
       "      <td>1</td>\n",
       "    </tr>\n",
       "    <tr>\n",
       "      <th>4</th>\n",
       "      <td>Dodge</td>\n",
       "      <td>2</td>\n",
       "    </tr>\n",
       "  </tbody>\n",
       "</table>\n",
       "</div>"
      ],
      "text/plain": [
       "   Marca  nro_averias\n",
       "0  Dodge            3\n",
       "1   Ford            3\n",
       "2   Ford            2\n",
       "3  Dodge            1\n",
       "4  Dodge            2"
      ]
     },
     "execution_count": 168,
     "metadata": {},
     "output_type": "execute_result"
    }
   ],
   "source": [
    "autos_averias.head()"
   ]
  },
  {
   "cell_type": "code",
   "execution_count": 169,
   "metadata": {},
   "outputs": [
    {
     "data": {
      "text/plain": [
       "Marca\n",
       "Dodge    1.967645\n",
       "Name: nro_averias, dtype: float64"
      ]
     },
     "execution_count": 169,
     "metadata": {},
     "output_type": "execute_result"
    }
   ],
   "source": [
    "lambda1=autos_averias[autos_averias['Marca']=='Dodge'].groupby(['Marca'])['nro_averias'].mean()\n",
    "lambda1"
   ]
  },
  {
   "cell_type": "code",
   "execution_count": 170,
   "metadata": {},
   "outputs": [
    {
     "data": {
      "text/plain": [
       "Marca\n",
       "Ford    2.020821\n",
       "Name: nro_averias, dtype: float64"
      ]
     },
     "execution_count": 170,
     "metadata": {},
     "output_type": "execute_result"
    }
   ],
   "source": [
    "lambda2=autos_averias[autos_averias['Marca']=='Ford'].groupby(['Marca'])['nro_averias'].mean()\n",
    "lambda2"
   ]
  },
  {
   "cell_type": "code",
   "execution_count": 171,
   "metadata": {
    "collapsed": true
   },
   "outputs": [],
   "source": [
    "from scipy.stats import poisson\n",
    "import matplotlib.pyplot as plt"
   ]
  },
  {
   "cell_type": "code",
   "execution_count": 172,
   "metadata": {},
   "outputs": [
    {
     "data": {
      "text/plain": [
       "array([ 0.13978562])"
      ]
     },
     "execution_count": 172,
     "metadata": {},
     "output_type": "execute_result"
    }
   ],
   "source": [
    "x=0\n",
    "mu=lambda1\n",
    "prob1 = poisson.cdf(x, mu)\n",
    "prob1"
   ]
  },
  {
   "cell_type": "code",
   "execution_count": 173,
   "metadata": {},
   "outputs": [
    {
     "data": {
      "text/plain": [
       "array([ 0.13254658])"
      ]
     },
     "execution_count": 173,
     "metadata": {},
     "output_type": "execute_result"
    }
   ],
   "source": [
    "x=0\n",
    "mu=lambda2\n",
    "prob2 = poisson.cdf(x, mu)\n",
    "prob2"
   ]
  },
  {
   "cell_type": "markdown",
   "metadata": {},
   "source": [
    "# Estandarización de los datos"
   ]
  },
  {
   "cell_type": "code",
   "execution_count": 174,
   "metadata": {
    "collapsed": true
   },
   "outputs": [],
   "source": [
    "# Importar datos en formato xls.\n",
    "import pandas as pd\n",
    "churners_data = pd.read_excel('C:/Users/AMD/Documents/Python_Analytcis/Churners.xlsx')"
   ]
  },
  {
   "cell_type": "code",
   "execution_count": 175,
   "metadata": {},
   "outputs": [
    {
     "data": {
      "text/html": [
       "<div>\n",
       "<table border=\"1\" class=\"dataframe\">\n",
       "  <thead>\n",
       "    <tr style=\"text-align: right;\">\n",
       "      <th></th>\n",
       "      <th>ID</th>\n",
       "      <th>EDAD</th>\n",
       "      <th>SEXO</th>\n",
       "      <th>CIVIL</th>\n",
       "      <th>HIJOS</th>\n",
       "      <th>INGRESO</th>\n",
       "      <th>AUTO</th>\n",
       "      <th>CHURN</th>\n",
       "    </tr>\n",
       "  </thead>\n",
       "  <tbody>\n",
       "    <tr>\n",
       "      <th>0</th>\n",
       "      <td>0</td>\n",
       "      <td>57</td>\n",
       "      <td>Femenino</td>\n",
       "      <td>Casado</td>\n",
       "      <td>2</td>\n",
       "      <td>27535.3</td>\n",
       "      <td>Es dueño de un auto</td>\n",
       "      <td>Voluntario</td>\n",
       "    </tr>\n",
       "    <tr>\n",
       "      <th>1</th>\n",
       "      <td>4</td>\n",
       "      <td>68</td>\n",
       "      <td>Femenino</td>\n",
       "      <td>Casado</td>\n",
       "      <td>2</td>\n",
       "      <td>81000.9</td>\n",
       "      <td>No es dueño de un auto</td>\n",
       "      <td>Voluntario</td>\n",
       "    </tr>\n",
       "    <tr>\n",
       "      <th>2</th>\n",
       "      <td>8</td>\n",
       "      <td>34</td>\n",
       "      <td>Masculino</td>\n",
       "      <td>Soltero</td>\n",
       "      <td>0</td>\n",
       "      <td>87467.1</td>\n",
       "      <td>Es dueño de un auto</td>\n",
       "      <td>Actual</td>\n",
       "    </tr>\n",
       "    <tr>\n",
       "      <th>3</th>\n",
       "      <td>10</td>\n",
       "      <td>60</td>\n",
       "      <td>Masculino</td>\n",
       "      <td>Casado</td>\n",
       "      <td>2</td>\n",
       "      <td>83220.6</td>\n",
       "      <td>No es dueño de un auto</td>\n",
       "      <td>Voluntario</td>\n",
       "    </tr>\n",
       "    <tr>\n",
       "      <th>4</th>\n",
       "      <td>13</td>\n",
       "      <td>28</td>\n",
       "      <td>Femenino</td>\n",
       "      <td>Casado</td>\n",
       "      <td>2</td>\n",
       "      <td>20850.4</td>\n",
       "      <td>No es dueño de un auto</td>\n",
       "      <td>Voluntario</td>\n",
       "    </tr>\n",
       "  </tbody>\n",
       "</table>\n",
       "</div>"
      ],
      "text/plain": [
       "   ID  EDAD       SEXO    CIVIL  HIJOS  INGRESO                    AUTO  \\\n",
       "0   0    57   Femenino   Casado      2  27535.3     Es dueño de un auto   \n",
       "1   4    68   Femenino   Casado      2  81000.9  No es dueño de un auto   \n",
       "2   8    34  Masculino  Soltero      0  87467.1     Es dueño de un auto   \n",
       "3  10    60  Masculino   Casado      2  83220.6  No es dueño de un auto   \n",
       "4  13    28   Femenino   Casado      2  20850.4  No es dueño de un auto   \n",
       "\n",
       "        CHURN  \n",
       "0  Voluntario  \n",
       "1  Voluntario  \n",
       "2      Actual  \n",
       "3  Voluntario  \n",
       "4  Voluntario  "
      ]
     },
     "execution_count": 175,
     "metadata": {},
     "output_type": "execute_result"
    }
   ],
   "source": [
    "churners_data.head()"
   ]
  },
  {
   "cell_type": "code",
   "execution_count": 176,
   "metadata": {},
   "outputs": [],
   "source": [
    "churners_data_0=churners_data[churners_data['CHURN']=='Voluntario']"
   ]
  },
  {
   "cell_type": "code",
   "execution_count": 177,
   "metadata": {},
   "outputs": [
    {
     "data": {
      "text/html": [
       "<div>\n",
       "<table border=\"1\" class=\"dataframe\">\n",
       "  <thead>\n",
       "    <tr style=\"text-align: right;\">\n",
       "      <th></th>\n",
       "      <th>ID</th>\n",
       "      <th>EDAD</th>\n",
       "      <th>SEXO</th>\n",
       "      <th>CIVIL</th>\n",
       "      <th>HIJOS</th>\n",
       "      <th>INGRESO</th>\n",
       "      <th>AUTO</th>\n",
       "      <th>CHURN</th>\n",
       "    </tr>\n",
       "  </thead>\n",
       "  <tbody>\n",
       "    <tr>\n",
       "      <th>0</th>\n",
       "      <td>0</td>\n",
       "      <td>57</td>\n",
       "      <td>Femenino</td>\n",
       "      <td>Casado</td>\n",
       "      <td>2</td>\n",
       "      <td>27535.30</td>\n",
       "      <td>Es dueño de un auto</td>\n",
       "      <td>Voluntario</td>\n",
       "    </tr>\n",
       "    <tr>\n",
       "      <th>1</th>\n",
       "      <td>4</td>\n",
       "      <td>68</td>\n",
       "      <td>Femenino</td>\n",
       "      <td>Casado</td>\n",
       "      <td>2</td>\n",
       "      <td>81000.90</td>\n",
       "      <td>No es dueño de un auto</td>\n",
       "      <td>Voluntario</td>\n",
       "    </tr>\n",
       "    <tr>\n",
       "      <th>3</th>\n",
       "      <td>10</td>\n",
       "      <td>60</td>\n",
       "      <td>Masculino</td>\n",
       "      <td>Casado</td>\n",
       "      <td>2</td>\n",
       "      <td>83220.60</td>\n",
       "      <td>No es dueño de un auto</td>\n",
       "      <td>Voluntario</td>\n",
       "    </tr>\n",
       "    <tr>\n",
       "      <th>4</th>\n",
       "      <td>13</td>\n",
       "      <td>28</td>\n",
       "      <td>Femenino</td>\n",
       "      <td>Casado</td>\n",
       "      <td>2</td>\n",
       "      <td>20850.40</td>\n",
       "      <td>No es dueño de un auto</td>\n",
       "      <td>Voluntario</td>\n",
       "    </tr>\n",
       "    <tr>\n",
       "      <th>6</th>\n",
       "      <td>19</td>\n",
       "      <td>87</td>\n",
       "      <td>Femenino</td>\n",
       "      <td>Soltero</td>\n",
       "      <td>2</td>\n",
       "      <td>3776.12</td>\n",
       "      <td>No es dueño de un auto</td>\n",
       "      <td>Voluntario</td>\n",
       "    </tr>\n",
       "  </tbody>\n",
       "</table>\n",
       "</div>"
      ],
      "text/plain": [
       "   ID  EDAD       SEXO    CIVIL  HIJOS   INGRESO                    AUTO  \\\n",
       "0   0    57   Femenino   Casado      2  27535.30     Es dueño de un auto   \n",
       "1   4    68   Femenino   Casado      2  81000.90  No es dueño de un auto   \n",
       "3  10    60  Masculino   Casado      2  83220.60  No es dueño de un auto   \n",
       "4  13    28   Femenino   Casado      2  20850.40  No es dueño de un auto   \n",
       "6  19    87   Femenino  Soltero      2   3776.12  No es dueño de un auto   \n",
       "\n",
       "        CHURN  \n",
       "0  Voluntario  \n",
       "1  Voluntario  \n",
       "3  Voluntario  \n",
       "4  Voluntario  \n",
       "6  Voluntario  "
      ]
     },
     "execution_count": 177,
     "metadata": {},
     "output_type": "execute_result"
    }
   ],
   "source": [
    "churners_data_0.head()"
   ]
  },
  {
   "cell_type": "code",
   "execution_count": 178,
   "metadata": {
    "collapsed": true
   },
   "outputs": [],
   "source": [
    "churners_ing=churners_data_0['INGRESO']"
   ]
  },
  {
   "cell_type": "code",
   "execution_count": 179,
   "metadata": {},
   "outputs": [
    {
     "data": {
      "text/plain": [
       "0    27535.30\n",
       "1    81000.90\n",
       "3    83220.60\n",
       "4    20850.40\n",
       "6     3776.12\n",
       "Name: INGRESO, dtype: float64"
      ]
     },
     "execution_count": 179,
     "metadata": {},
     "output_type": "execute_result"
    }
   ],
   "source": [
    "churners_ing.head()"
   ]
  },
  {
   "cell_type": "code",
   "execution_count": 180,
   "metadata": {
    "collapsed": true
   },
   "outputs": [],
   "source": [
    "import numpy as np"
   ]
  },
  {
   "cell_type": "code",
   "execution_count": 181,
   "metadata": {
    "collapsed": true
   },
   "outputs": [],
   "source": [
    "from scipy import stats"
   ]
  },
  {
   "cell_type": "code",
   "execution_count": 182,
   "metadata": {},
   "outputs": [],
   "source": [
    "score_churners = stats.zscore(churners_ing) # estandarizamos los datos"
   ]
  },
  {
   "cell_type": "code",
   "execution_count": 183,
   "metadata": {},
   "outputs": [
    {
     "data": {
      "text/html": [
       "<div>\n",
       "<table border=\"1\" class=\"dataframe\">\n",
       "  <thead>\n",
       "    <tr style=\"text-align: right;\">\n",
       "      <th></th>\n",
       "      <th>0</th>\n",
       "    </tr>\n",
       "  </thead>\n",
       "  <tbody>\n",
       "    <tr>\n",
       "      <th>0</th>\n",
       "      <td>-0.728985</td>\n",
       "    </tr>\n",
       "    <tr>\n",
       "      <th>1</th>\n",
       "      <td>1.142023</td>\n",
       "    </tr>\n",
       "    <tr>\n",
       "      <th>2</th>\n",
       "      <td>1.219701</td>\n",
       "    </tr>\n",
       "    <tr>\n",
       "      <th>3</th>\n",
       "      <td>-0.962921</td>\n",
       "    </tr>\n",
       "    <tr>\n",
       "      <th>4</th>\n",
       "      <td>-1.560429</td>\n",
       "    </tr>\n",
       "  </tbody>\n",
       "</table>\n",
       "</div>"
      ],
      "text/plain": [
       "          0\n",
       "0 -0.728985\n",
       "1  1.142023\n",
       "2  1.219701\n",
       "3 -0.962921\n",
       "4 -1.560429"
      ]
     },
     "execution_count": 183,
     "metadata": {},
     "output_type": "execute_result"
    }
   ],
   "source": [
    "pd.DataFrame(score_churners).head()"
   ]
  },
  {
   "cell_type": "code",
   "execution_count": 184,
   "metadata": {},
   "outputs": [
    {
     "data": {
      "text/plain": [
       "0    27535.30\n",
       "1    81000.90\n",
       "3    83220.60\n",
       "4    20850.40\n",
       "6     3776.12\n",
       "Name: INGRESO, dtype: float64"
      ]
     },
     "execution_count": 184,
     "metadata": {},
     "output_type": "execute_result"
    }
   ],
   "source": [
    "churners_ing.head()"
   ]
  },
  {
   "cell_type": "code",
   "execution_count": 185,
   "metadata": {},
   "outputs": [
    {
     "data": {
      "text/plain": [
       "INGRESO    48366.650984\n",
       "dtype: float64"
      ]
     },
     "execution_count": 185,
     "metadata": {},
     "output_type": "execute_result"
    }
   ],
   "source": [
    "pd.DataFrame(churners_ing).mean()"
   ]
  },
  {
   "cell_type": "code",
   "execution_count": 186,
   "metadata": {},
   "outputs": [
    {
     "data": {
      "text/plain": [
       "INGRESO    28603.710304\n",
       "dtype: float64"
      ]
     },
     "execution_count": 186,
     "metadata": {},
     "output_type": "execute_result"
    }
   ],
   "source": [
    "pd.DataFrame(churners_ing).std()"
   ]
  },
  {
   "cell_type": "code",
   "execution_count": 187,
   "metadata": {},
   "outputs": [
    {
     "data": {
      "text/plain": [
       "0    1.000976\n",
       "dtype: float64"
      ]
     },
     "execution_count": 187,
     "metadata": {},
     "output_type": "execute_result"
    }
   ],
   "source": [
    "pd.DataFrame(score_churners).std()"
   ]
  },
  {
   "cell_type": "code",
   "execution_count": 188,
   "metadata": {},
   "outputs": [
    {
     "data": {
      "text/plain": [
       "0    1.000976\n",
       "dtype: float64"
      ]
     },
     "execution_count": 188,
     "metadata": {},
     "output_type": "execute_result"
    }
   ],
   "source": [
    "pd.DataFrame(score_churners).std()"
   ]
  },
  {
   "cell_type": "code",
   "execution_count": 189,
   "metadata": {},
   "outputs": [
    {
     "data": {
      "text/plain": [
       "0.05710269745536449"
      ]
     },
     "execution_count": 189,
     "metadata": {},
     "output_type": "execute_result"
    }
   ],
   "source": [
    "z=(50000-churners_ing.mean())/churners_ing.std()\n",
    "z"
   ]
  },
  {
   "cell_type": "code",
   "execution_count": 190,
   "metadata": {},
   "outputs": [
    {
     "data": {
      "text/plain": [
       "0.47723169383645603"
      ]
     },
     "execution_count": 190,
     "metadata": {},
     "output_type": "execute_result"
    }
   ],
   "source": [
    "prob = 1 - stats.norm.cdf(z)\n",
    "prob"
   ]
  },
  {
   "cell_type": "code",
   "execution_count": 191,
   "metadata": {},
   "outputs": [
    {
     "data": {
      "text/html": [
       "<div>\n",
       "<table border=\"1\" class=\"dataframe\">\n",
       "  <thead>\n",
       "    <tr style=\"text-align: right;\">\n",
       "      <th></th>\n",
       "      <th>ID</th>\n",
       "      <th>EDAD</th>\n",
       "      <th>SEXO</th>\n",
       "      <th>CIVIL</th>\n",
       "      <th>HIJOS</th>\n",
       "      <th>INGRESO</th>\n",
       "      <th>AUTO</th>\n",
       "      <th>CHURN</th>\n",
       "    </tr>\n",
       "  </thead>\n",
       "  <tbody>\n",
       "    <tr>\n",
       "      <th>2</th>\n",
       "      <td>8</td>\n",
       "      <td>34</td>\n",
       "      <td>Masculino</td>\n",
       "      <td>Soltero</td>\n",
       "      <td>0</td>\n",
       "      <td>87467.1</td>\n",
       "      <td>Es dueño de un auto</td>\n",
       "      <td>Actual</td>\n",
       "    </tr>\n",
       "    <tr>\n",
       "      <th>5</th>\n",
       "      <td>17</td>\n",
       "      <td>52</td>\n",
       "      <td>Masculino</td>\n",
       "      <td>Soltero</td>\n",
       "      <td>0</td>\n",
       "      <td>84112.6</td>\n",
       "      <td>No es dueño de un auto</td>\n",
       "      <td>Actual</td>\n",
       "    </tr>\n",
       "    <tr>\n",
       "      <th>8</th>\n",
       "      <td>22</td>\n",
       "      <td>76</td>\n",
       "      <td>Masculino</td>\n",
       "      <td>Casado</td>\n",
       "      <td>2</td>\n",
       "      <td>30933.6</td>\n",
       "      <td>Es dueño de un auto</td>\n",
       "      <td>Actual</td>\n",
       "    </tr>\n",
       "    <tr>\n",
       "      <th>11</th>\n",
       "      <td>28</td>\n",
       "      <td>90</td>\n",
       "      <td>Femenino</td>\n",
       "      <td>Casado</td>\n",
       "      <td>0</td>\n",
       "      <td>91620.6</td>\n",
       "      <td>No es dueño de un auto</td>\n",
       "      <td>Actual</td>\n",
       "    </tr>\n",
       "    <tr>\n",
       "      <th>12</th>\n",
       "      <td>30</td>\n",
       "      <td>62</td>\n",
       "      <td>Masculino</td>\n",
       "      <td>Soltero</td>\n",
       "      <td>0</td>\n",
       "      <td>96501.9</td>\n",
       "      <td>Es dueño de un auto</td>\n",
       "      <td>Actual</td>\n",
       "    </tr>\n",
       "  </tbody>\n",
       "</table>\n",
       "</div>"
      ],
      "text/plain": [
       "    ID  EDAD       SEXO    CIVIL  HIJOS  INGRESO                    AUTO  \\\n",
       "2    8    34  Masculino  Soltero      0  87467.1     Es dueño de un auto   \n",
       "5   17    52  Masculino  Soltero      0  84112.6  No es dueño de un auto   \n",
       "8   22    76  Masculino   Casado      2  30933.6     Es dueño de un auto   \n",
       "11  28    90   Femenino   Casado      0  91620.6  No es dueño de un auto   \n",
       "12  30    62  Masculino  Soltero      0  96501.9     Es dueño de un auto   \n",
       "\n",
       "     CHURN  \n",
       "2   Actual  \n",
       "5   Actual  \n",
       "8   Actual  \n",
       "11  Actual  \n",
       "12  Actual  "
      ]
     },
     "execution_count": 191,
     "metadata": {},
     "output_type": "execute_result"
    }
   ],
   "source": [
    "churners_data_1=churners_data[churners_data['CHURN']=='Actual']\n",
    "churners_data_1.head()"
   ]
  },
  {
   "cell_type": "code",
   "execution_count": 192,
   "metadata": {
    "collapsed": true
   },
   "outputs": [],
   "source": [
    "nchurners_ing=churners_data_1['INGRESO']"
   ]
  },
  {
   "cell_type": "code",
   "execution_count": 193,
   "metadata": {
    "collapsed": true
   },
   "outputs": [],
   "source": [
    "score_nchurners = stats.zscore(nchurners_ing) # estandarizamos los datos"
   ]
  },
  {
   "cell_type": "code",
   "execution_count": 194,
   "metadata": {},
   "outputs": [
    {
     "data": {
      "text/plain": [
       "-0.07263464252532714"
      ]
     },
     "execution_count": 194,
     "metadata": {},
     "output_type": "execute_result"
    }
   ],
   "source": [
    "z=(50000-nchurners_ing.mean())/nchurners_ing.std()\n",
    "z"
   ]
  },
  {
   "cell_type": "code",
   "execution_count": 195,
   "metadata": {},
   "outputs": [
    {
     "data": {
      "text/plain": [
       "0.52895157061581521"
      ]
     },
     "execution_count": 195,
     "metadata": {},
     "output_type": "execute_result"
    }
   ],
   "source": [
    "prob = 1 - stats.norm.cdf(z)\n",
    "prob"
   ]
  },
  {
   "cell_type": "markdown",
   "metadata": {},
   "source": [
    "# T test"
   ]
  },
  {
   "cell_type": "code",
   "execution_count": 196,
   "metadata": {
    "collapsed": true
   },
   "outputs": [],
   "source": [
    "from __future__ import print_function\n",
    "\n",
    "import numpy as np\n",
    "from scipy.stats import ttest_ind, ttest_ind_from_stats\n",
    "from scipy.special import stdtr"
   ]
  },
  {
   "cell_type": "code",
   "execution_count": 197,
   "metadata": {},
   "outputs": [],
   "source": [
    "churners_data = pd.read_excel('C:/Users/AMD/Documents/Python_Analytcis/Churners.xlsx')"
   ]
  },
  {
   "cell_type": "code",
   "execution_count": 198,
   "metadata": {},
   "outputs": [
    {
     "data": {
      "text/html": [
       "<div>\n",
       "<table border=\"1\" class=\"dataframe\">\n",
       "  <thead>\n",
       "    <tr style=\"text-align: right;\">\n",
       "      <th></th>\n",
       "      <th>ID</th>\n",
       "      <th>EDAD</th>\n",
       "      <th>SEXO</th>\n",
       "      <th>CIVIL</th>\n",
       "      <th>HIJOS</th>\n",
       "      <th>INGRESO</th>\n",
       "      <th>AUTO</th>\n",
       "      <th>CHURN</th>\n",
       "    </tr>\n",
       "  </thead>\n",
       "  <tbody>\n",
       "    <tr>\n",
       "      <th>0</th>\n",
       "      <td>0</td>\n",
       "      <td>57</td>\n",
       "      <td>Femenino</td>\n",
       "      <td>Casado</td>\n",
       "      <td>2</td>\n",
       "      <td>27535.3</td>\n",
       "      <td>Es dueño de un auto</td>\n",
       "      <td>Voluntario</td>\n",
       "    </tr>\n",
       "    <tr>\n",
       "      <th>1</th>\n",
       "      <td>4</td>\n",
       "      <td>68</td>\n",
       "      <td>Femenino</td>\n",
       "      <td>Casado</td>\n",
       "      <td>2</td>\n",
       "      <td>81000.9</td>\n",
       "      <td>No es dueño de un auto</td>\n",
       "      <td>Voluntario</td>\n",
       "    </tr>\n",
       "    <tr>\n",
       "      <th>2</th>\n",
       "      <td>8</td>\n",
       "      <td>34</td>\n",
       "      <td>Masculino</td>\n",
       "      <td>Soltero</td>\n",
       "      <td>0</td>\n",
       "      <td>87467.1</td>\n",
       "      <td>Es dueño de un auto</td>\n",
       "      <td>Actual</td>\n",
       "    </tr>\n",
       "    <tr>\n",
       "      <th>3</th>\n",
       "      <td>10</td>\n",
       "      <td>60</td>\n",
       "      <td>Masculino</td>\n",
       "      <td>Casado</td>\n",
       "      <td>2</td>\n",
       "      <td>83220.6</td>\n",
       "      <td>No es dueño de un auto</td>\n",
       "      <td>Voluntario</td>\n",
       "    </tr>\n",
       "    <tr>\n",
       "      <th>4</th>\n",
       "      <td>13</td>\n",
       "      <td>28</td>\n",
       "      <td>Femenino</td>\n",
       "      <td>Casado</td>\n",
       "      <td>2</td>\n",
       "      <td>20850.4</td>\n",
       "      <td>No es dueño de un auto</td>\n",
       "      <td>Voluntario</td>\n",
       "    </tr>\n",
       "  </tbody>\n",
       "</table>\n",
       "</div>"
      ],
      "text/plain": [
       "   ID  EDAD       SEXO    CIVIL  HIJOS  INGRESO                    AUTO  \\\n",
       "0   0    57   Femenino   Casado      2  27535.3     Es dueño de un auto   \n",
       "1   4    68   Femenino   Casado      2  81000.9  No es dueño de un auto   \n",
       "2   8    34  Masculino  Soltero      0  87467.1     Es dueño de un auto   \n",
       "3  10    60  Masculino   Casado      2  83220.6  No es dueño de un auto   \n",
       "4  13    28   Femenino   Casado      2  20850.4  No es dueño de un auto   \n",
       "\n",
       "        CHURN  \n",
       "0  Voluntario  \n",
       "1  Voluntario  \n",
       "2      Actual  \n",
       "3  Voluntario  \n",
       "4  Voluntario  "
      ]
     },
     "execution_count": 198,
     "metadata": {},
     "output_type": "execute_result"
    }
   ],
   "source": [
    "churners_data.head()"
   ]
  },
  {
   "cell_type": "code",
   "execution_count": 199,
   "metadata": {
    "collapsed": true
   },
   "outputs": [],
   "source": [
    "churners_data_0=churners_data[churners_data['CHURN']=='Voluntario']"
   ]
  },
  {
   "cell_type": "code",
   "execution_count": 200,
   "metadata": {
    "collapsed": true
   },
   "outputs": [],
   "source": [
    "churners_edad=churners_data_0['EDAD']"
   ]
  },
  {
   "cell_type": "code",
   "execution_count": 201,
   "metadata": {
    "collapsed": true
   },
   "outputs": [],
   "source": [
    "churners_data_1=churners_data[churners_data['CHURN']=='Actual']"
   ]
  },
  {
   "cell_type": "code",
   "execution_count": 202,
   "metadata": {
    "collapsed": true
   },
   "outputs": [],
   "source": [
    "nchurners_edad=churners_data_1['EDAD']"
   ]
  },
  {
   "cell_type": "code",
   "execution_count": 203,
   "metadata": {},
   "outputs": [
    {
     "name": "stdout",
     "output_type": "stream",
     "text": [
      "ttest_ind:            t = 2.12927  p = 0.0334498\n"
     ]
    }
   ],
   "source": [
    "# Use scipy.stats.ttest_ind.\n",
    "t, p = ttest_ind(churners_edad, nchurners_edad, equal_var=False)\n",
    "print(\"ttest_ind:            t = %g  p = %g\" % (t, p))"
   ]
  },
  {
   "cell_type": "code",
   "execution_count": 204,
   "metadata": {},
   "outputs": [
    {
     "data": {
      "text/plain": [
       "0.9832750870595256"
      ]
     },
     "execution_count": 204,
     "metadata": {},
     "output_type": "execute_result"
    }
   ],
   "source": [
    "p_valor=(2-p)/2\n",
    "p_valor"
   ]
  },
  {
   "cell_type": "code",
   "execution_count": 205,
   "metadata": {},
   "outputs": [
    {
     "data": {
      "text/plain": [
       "59.113060428849906"
      ]
     },
     "execution_count": 205,
     "metadata": {},
     "output_type": "execute_result"
    }
   ],
   "source": [
    "churners_edad.mean()"
   ]
  },
  {
   "cell_type": "code",
   "execution_count": 206,
   "metadata": {},
   "outputs": [
    {
     "data": {
      "text/plain": [
       "56.42908653846154"
      ]
     },
     "execution_count": 206,
     "metadata": {},
     "output_type": "execute_result"
    }
   ],
   "source": [
    "nchurners_edad.mean()"
   ]
  },
  {
   "cell_type": "code",
   "execution_count": 207,
   "metadata": {
    "collapsed": true
   },
   "outputs": [],
   "source": [
    "import numpy as np\n",
    "import scipy as sp\n",
    "import scipy.stats\n",
    "\n",
    "def mean_confidence_interval(data, confidence=0.95):\n",
    "    a = 1.0*np.array(data)\n",
    "    n = len(a)\n",
    "    m, se = np.mean(a), scipy.stats.sem(a)\n",
    "    h = se * sp.stats.t._ppf((1+confidence)/2., n-1)\n",
    "    return m, m-h, m+h"
   ]
  },
  {
   "cell_type": "markdown",
   "metadata": {},
   "source": [
    "# Intervalos de Confianza"
   ]
  },
  {
   "cell_type": "code",
   "execution_count": 208,
   "metadata": {},
   "outputs": [
    {
     "data": {
      "text/plain": [
       "0    27535.30\n",
       "1    81000.90\n",
       "3    83220.60\n",
       "4    20850.40\n",
       "6     3776.12\n",
       "Name: INGRESO, dtype: float64"
      ]
     },
     "execution_count": 208,
     "metadata": {},
     "output_type": "execute_result"
    }
   ],
   "source": [
    "churners_ing.head()"
   ]
  },
  {
   "cell_type": "code",
   "execution_count": 209,
   "metadata": {
    "collapsed": true
   },
   "outputs": [],
   "source": [
    "import numpy as np\n",
    "import scipy as sp\n",
    "import scipy.stats\n",
    "\n",
    "def mean_confidence_interval(data, confidence=0.95):\n",
    "    a = 1.0*np.array(data)\n",
    "    n = len(a)\n",
    "    m, se = np.mean(a), scipy.stats.sem(a)\n",
    "    h = se * sp.stats.t._ppf((1+confidence)/2., n-1)\n",
    "    return m, m-h, m+h"
   ]
  },
  {
   "cell_type": "code",
   "execution_count": 210,
   "metadata": {},
   "outputs": [
    {
     "data": {
      "text/plain": [
       "(48366.650984405453, 45885.577533845033, 50847.724434965872)"
      ]
     },
     "execution_count": 210,
     "metadata": {},
     "output_type": "execute_result"
    }
   ],
   "source": [
    "mean_confidence_interval(churners_ing,0.95)"
   ]
  },
  {
   "cell_type": "markdown",
   "metadata": {},
   "source": [
    "# Coeficiente de correlación"
   ]
  },
  {
   "cell_type": "code",
   "execution_count": 211,
   "metadata": {},
   "outputs": [
    {
     "data": {
      "text/html": [
       "<div>\n",
       "<table border=\"1\" class=\"dataframe\">\n",
       "  <thead>\n",
       "    <tr style=\"text-align: right;\">\n",
       "      <th></th>\n",
       "      <th>ID</th>\n",
       "      <th>EDAD</th>\n",
       "      <th>SEXO</th>\n",
       "      <th>CIVIL</th>\n",
       "      <th>HIJOS</th>\n",
       "      <th>INGRESO</th>\n",
       "      <th>AUTO</th>\n",
       "      <th>CHURN</th>\n",
       "    </tr>\n",
       "  </thead>\n",
       "  <tbody>\n",
       "    <tr>\n",
       "      <th>0</th>\n",
       "      <td>0</td>\n",
       "      <td>57</td>\n",
       "      <td>Femenino</td>\n",
       "      <td>Casado</td>\n",
       "      <td>2</td>\n",
       "      <td>27535.30</td>\n",
       "      <td>Es dueño de un auto</td>\n",
       "      <td>Voluntario</td>\n",
       "    </tr>\n",
       "    <tr>\n",
       "      <th>1</th>\n",
       "      <td>4</td>\n",
       "      <td>68</td>\n",
       "      <td>Femenino</td>\n",
       "      <td>Casado</td>\n",
       "      <td>2</td>\n",
       "      <td>81000.90</td>\n",
       "      <td>No es dueño de un auto</td>\n",
       "      <td>Voluntario</td>\n",
       "    </tr>\n",
       "    <tr>\n",
       "      <th>3</th>\n",
       "      <td>10</td>\n",
       "      <td>60</td>\n",
       "      <td>Masculino</td>\n",
       "      <td>Casado</td>\n",
       "      <td>2</td>\n",
       "      <td>83220.60</td>\n",
       "      <td>No es dueño de un auto</td>\n",
       "      <td>Voluntario</td>\n",
       "    </tr>\n",
       "    <tr>\n",
       "      <th>4</th>\n",
       "      <td>13</td>\n",
       "      <td>28</td>\n",
       "      <td>Femenino</td>\n",
       "      <td>Casado</td>\n",
       "      <td>2</td>\n",
       "      <td>20850.40</td>\n",
       "      <td>No es dueño de un auto</td>\n",
       "      <td>Voluntario</td>\n",
       "    </tr>\n",
       "    <tr>\n",
       "      <th>6</th>\n",
       "      <td>19</td>\n",
       "      <td>87</td>\n",
       "      <td>Femenino</td>\n",
       "      <td>Soltero</td>\n",
       "      <td>2</td>\n",
       "      <td>3776.12</td>\n",
       "      <td>No es dueño de un auto</td>\n",
       "      <td>Voluntario</td>\n",
       "    </tr>\n",
       "  </tbody>\n",
       "</table>\n",
       "</div>"
      ],
      "text/plain": [
       "   ID  EDAD       SEXO    CIVIL  HIJOS   INGRESO                    AUTO  \\\n",
       "0   0    57   Femenino   Casado      2  27535.30     Es dueño de un auto   \n",
       "1   4    68   Femenino   Casado      2  81000.90  No es dueño de un auto   \n",
       "3  10    60  Masculino   Casado      2  83220.60  No es dueño de un auto   \n",
       "4  13    28   Femenino   Casado      2  20850.40  No es dueño de un auto   \n",
       "6  19    87   Femenino  Soltero      2   3776.12  No es dueño de un auto   \n",
       "\n",
       "        CHURN  \n",
       "0  Voluntario  \n",
       "1  Voluntario  \n",
       "3  Voluntario  \n",
       "4  Voluntario  \n",
       "6  Voluntario  "
      ]
     },
     "execution_count": 211,
     "metadata": {},
     "output_type": "execute_result"
    }
   ],
   "source": [
    "churners_data_0.head()"
   ]
  },
  {
   "cell_type": "code",
   "execution_count": 212,
   "metadata": {},
   "outputs": [],
   "source": [
    "churners_eval=churners_data_0[['EDAD','INGRESO']]"
   ]
  },
  {
   "cell_type": "code",
   "execution_count": 213,
   "metadata": {},
   "outputs": [
    {
     "data": {
      "text/html": [
       "<div>\n",
       "<table border=\"1\" class=\"dataframe\">\n",
       "  <thead>\n",
       "    <tr style=\"text-align: right;\">\n",
       "      <th></th>\n",
       "      <th>EDAD</th>\n",
       "      <th>INGRESO</th>\n",
       "    </tr>\n",
       "  </thead>\n",
       "  <tbody>\n",
       "    <tr>\n",
       "      <th>0</th>\n",
       "      <td>57</td>\n",
       "      <td>27535.30</td>\n",
       "    </tr>\n",
       "    <tr>\n",
       "      <th>1</th>\n",
       "      <td>68</td>\n",
       "      <td>81000.90</td>\n",
       "    </tr>\n",
       "    <tr>\n",
       "      <th>3</th>\n",
       "      <td>60</td>\n",
       "      <td>83220.60</td>\n",
       "    </tr>\n",
       "    <tr>\n",
       "      <th>4</th>\n",
       "      <td>28</td>\n",
       "      <td>20850.40</td>\n",
       "    </tr>\n",
       "    <tr>\n",
       "      <th>6</th>\n",
       "      <td>87</td>\n",
       "      <td>3776.12</td>\n",
       "    </tr>\n",
       "  </tbody>\n",
       "</table>\n",
       "</div>"
      ],
      "text/plain": [
       "   EDAD   INGRESO\n",
       "0    57  27535.30\n",
       "1    68  81000.90\n",
       "3    60  83220.60\n",
       "4    28  20850.40\n",
       "6    87   3776.12"
      ]
     },
     "execution_count": 213,
     "metadata": {},
     "output_type": "execute_result"
    }
   ],
   "source": [
    "churners_eval.head()"
   ]
  },
  {
   "cell_type": "code",
   "execution_count": 214,
   "metadata": {
    "collapsed": true
   },
   "outputs": [],
   "source": [
    "from scipy import stats"
   ]
  },
  {
   "cell_type": "code",
   "execution_count": 215,
   "metadata": {},
   "outputs": [
    {
     "data": {
      "text/plain": [
       "(0.2063985658696835, 2.4257223178798058e-06)"
      ]
     },
     "execution_count": 215,
     "metadata": {},
     "output_type": "execute_result"
    }
   ],
   "source": [
    "stats.pearsonr(churners_data_0['EDAD'], churners_data_0['INGRESO'])"
   ]
  },
  {
   "cell_type": "code",
   "execution_count": 216,
   "metadata": {},
   "outputs": [
    {
     "data": {
      "text/plain": [
       "SpearmanrResult(correlation=0.1940862273596578, pvalue=9.5374822389871346e-06)"
      ]
     },
     "execution_count": 216,
     "metadata": {},
     "output_type": "execute_result"
    }
   ],
   "source": [
    "stats.spearmanr(churners_data_0['EDAD'], churners_data_0['INGRESO'])"
   ]
  },
  {
   "cell_type": "markdown",
   "metadata": {},
   "source": [
    "# Prueba de Independencia"
   ]
  },
  {
   "cell_type": "code",
   "execution_count": 71,
   "metadata": {},
   "outputs": [
    {
     "data": {
      "text/html": [
       "<div>\n",
       "<table border=\"1\" class=\"dataframe\">\n",
       "  <thead>\n",
       "    <tr style=\"text-align: right;\">\n",
       "      <th></th>\n",
       "      <th>ID</th>\n",
       "      <th>EDAD</th>\n",
       "      <th>SEXO</th>\n",
       "      <th>CIVIL</th>\n",
       "      <th>HIJOS</th>\n",
       "      <th>INGRESO</th>\n",
       "      <th>AUTO</th>\n",
       "      <th>CHURN</th>\n",
       "    </tr>\n",
       "  </thead>\n",
       "  <tbody>\n",
       "    <tr>\n",
       "      <th>0</th>\n",
       "      <td>0</td>\n",
       "      <td>57</td>\n",
       "      <td>Femenino</td>\n",
       "      <td>Casado</td>\n",
       "      <td>2</td>\n",
       "      <td>27535.30</td>\n",
       "      <td>Es dueño de un auto</td>\n",
       "      <td>Voluntario</td>\n",
       "    </tr>\n",
       "    <tr>\n",
       "      <th>1</th>\n",
       "      <td>4</td>\n",
       "      <td>68</td>\n",
       "      <td>Femenino</td>\n",
       "      <td>Casado</td>\n",
       "      <td>2</td>\n",
       "      <td>81000.90</td>\n",
       "      <td>No es dueño de un auto</td>\n",
       "      <td>Voluntario</td>\n",
       "    </tr>\n",
       "    <tr>\n",
       "      <th>3</th>\n",
       "      <td>10</td>\n",
       "      <td>60</td>\n",
       "      <td>Masculino</td>\n",
       "      <td>Casado</td>\n",
       "      <td>2</td>\n",
       "      <td>83220.60</td>\n",
       "      <td>No es dueño de un auto</td>\n",
       "      <td>Voluntario</td>\n",
       "    </tr>\n",
       "    <tr>\n",
       "      <th>4</th>\n",
       "      <td>13</td>\n",
       "      <td>28</td>\n",
       "      <td>Femenino</td>\n",
       "      <td>Casado</td>\n",
       "      <td>2</td>\n",
       "      <td>20850.40</td>\n",
       "      <td>No es dueño de un auto</td>\n",
       "      <td>Voluntario</td>\n",
       "    </tr>\n",
       "    <tr>\n",
       "      <th>6</th>\n",
       "      <td>19</td>\n",
       "      <td>87</td>\n",
       "      <td>Femenino</td>\n",
       "      <td>Soltero</td>\n",
       "      <td>2</td>\n",
       "      <td>3776.12</td>\n",
       "      <td>No es dueño de un auto</td>\n",
       "      <td>Voluntario</td>\n",
       "    </tr>\n",
       "  </tbody>\n",
       "</table>\n",
       "</div>"
      ],
      "text/plain": [
       "   ID  EDAD       SEXO    CIVIL  HIJOS   INGRESO                    AUTO  \\\n",
       "0   0    57   Femenino   Casado      2  27535.30     Es dueño de un auto   \n",
       "1   4    68   Femenino   Casado      2  81000.90  No es dueño de un auto   \n",
       "3  10    60  Masculino   Casado      2  83220.60  No es dueño de un auto   \n",
       "4  13    28   Femenino   Casado      2  20850.40  No es dueño de un auto   \n",
       "6  19    87   Femenino  Soltero      2   3776.12  No es dueño de un auto   \n",
       "\n",
       "        CHURN  \n",
       "0  Voluntario  \n",
       "1  Voluntario  \n",
       "3  Voluntario  \n",
       "4  Voluntario  \n",
       "6  Voluntario  "
      ]
     },
     "execution_count": 71,
     "metadata": {},
     "output_type": "execute_result"
    }
   ],
   "source": [
    "churners_data_0.head()"
   ]
  },
  {
   "cell_type": "code",
   "execution_count": 89,
   "metadata": {},
   "outputs": [
    {
     "data": {
      "text/plain": [
       "'Masculino'"
      ]
     },
     "execution_count": 89,
     "metadata": {},
     "output_type": "execute_result"
    }
   ],
   "source": [
    "churners_data_0.ix[3,2] # primero buscas el nombre del índice luego la posición"
   ]
  },
  {
   "cell_type": "code",
   "execution_count": 86,
   "metadata": {},
   "outputs": [
    {
     "data": {
      "text/plain": [
       "'Masculino'"
      ]
     },
     "execution_count": 86,
     "metadata": {},
     "output_type": "execute_result"
    }
   ],
   "source": [
    "churners_data_0.loc[3,'SEXO'] # solo busca nombre y columna"
   ]
  },
  {
   "cell_type": "code",
   "execution_count": 90,
   "metadata": {},
   "outputs": [
    {
     "data": {
      "text/plain": [
       "'Casado'"
      ]
     },
     "execution_count": 90,
     "metadata": {},
     "output_type": "execute_result"
    }
   ],
   "source": [
    "churners_data_0.iloc[3,3] # busca por posición"
   ]
  },
  {
   "cell_type": "code",
   "execution_count": 217,
   "metadata": {},
   "outputs": [],
   "source": [
    "a=churners_data['CHURN']\n",
    "b=churners_data['SEXO']\n",
    "churners = pd.DataFrame({\"churn\":a, \n",
    "                       \"sexo\":b})\n",
    "\n",
    "\n",
    "voter_tab = pd.crosstab(churners.churn, churners.sexo, margins = True)"
   ]
  },
  {
   "cell_type": "code",
   "execution_count": 218,
   "metadata": {
    "scrolled": true
   },
   "outputs": [
    {
     "data": {
      "text/html": [
       "<div>\n",
       "<table border=\"1\" class=\"dataframe\">\n",
       "  <thead>\n",
       "    <tr style=\"text-align: right;\">\n",
       "      <th>sexo</th>\n",
       "      <th>Femenino</th>\n",
       "      <th>Masculino</th>\n",
       "      <th>All</th>\n",
       "    </tr>\n",
       "    <tr>\n",
       "      <th>churn</th>\n",
       "      <th></th>\n",
       "      <th></th>\n",
       "      <th></th>\n",
       "    </tr>\n",
       "  </thead>\n",
       "  <tbody>\n",
       "    <tr>\n",
       "      <th>Actual</th>\n",
       "      <td>250</td>\n",
       "      <td>582</td>\n",
       "      <td>832</td>\n",
       "    </tr>\n",
       "    <tr>\n",
       "      <th>Voluntario</th>\n",
       "      <td>423</td>\n",
       "      <td>90</td>\n",
       "      <td>513</td>\n",
       "    </tr>\n",
       "    <tr>\n",
       "      <th>All</th>\n",
       "      <td>673</td>\n",
       "      <td>672</td>\n",
       "      <td>1345</td>\n",
       "    </tr>\n",
       "  </tbody>\n",
       "</table>\n",
       "</div>"
      ],
      "text/plain": [
       "sexo        Femenino  Masculino   All\n",
       "churn                                \n",
       "Actual           250        582   832\n",
       "Voluntario       423         90   513\n",
       "All              673        672  1345"
      ]
     },
     "execution_count": 218,
     "metadata": {},
     "output_type": "execute_result"
    }
   ],
   "source": [
    "voter_tab"
   ]
  },
  {
   "cell_type": "code",
   "execution_count": 134,
   "metadata": {},
   "outputs": [
    {
     "data": {
      "text/plain": [
       "3"
      ]
     },
     "execution_count": 134,
     "metadata": {},
     "output_type": "execute_result"
    }
   ],
   "source": [
    "n = len(voter_tab)\n",
    "n"
   ]
  },
  {
   "cell_type": "code",
   "execution_count": 219,
   "metadata": {},
   "outputs": [
    {
     "data": {
      "text/plain": [
       "array([[250, 582],\n",
       "       [423,  90],\n",
       "       [673, 672]], dtype=int64)"
      ]
     },
     "execution_count": 219,
     "metadata": {},
     "output_type": "execute_result"
    }
   ],
   "source": [
    "sex_churn=voter_tab.iloc[0:(n-1)].drop('All',axis=1).values\n",
    "sex_churn"
   ]
  },
  {
   "cell_type": "code",
   "execution_count": 220,
   "metadata": {},
   "outputs": [
    {
     "data": {
      "text/plain": [
       "(348.63811319474377,\n",
       " 1.968772929345335e-76,\n",
       " 2,\n",
       " array([[ 416.30929368,  415.69070632],\n",
       "        [ 256.69070632,  256.30929368],\n",
       "        [ 673.        ,  672.        ]]))"
      ]
     },
     "execution_count": 220,
     "metadata": {},
     "output_type": "execute_result"
    }
   ],
   "source": [
    "stats.chi2_contingency(sex_churn)"
   ]
  },
  {
   "cell_type": "markdown",
   "metadata": {},
   "source": [
    "El primer valor es el valor chi cuadrado. \n",
    "\n",
    "El segundo valor es el p_valor.\n",
    "\n",
    "El tercer valor son los grados de libertad.\n",
    "\n",
    "El cuarto valor la tabla de contigencia con los valores esperados."
   ]
  },
  {
   "cell_type": "markdown",
   "metadata": {},
   "source": [
    "### Churn vs.Estado Civil"
   ]
  },
  {
   "cell_type": "code",
   "execution_count": 222,
   "metadata": {
    "collapsed": true
   },
   "outputs": [],
   "source": [
    "a=churners_data['CHURN']\n",
    "b=churners_data['CIVIL']\n",
    "churners = pd.DataFrame({\"churn\":a, \n",
    "                       \"civil\":b})\n",
    "\n",
    "\n",
    "voter_tab = pd.crosstab(churners.churn, churners.civil, margins = True)"
   ]
  },
  {
   "cell_type": "code",
   "execution_count": 223,
   "metadata": {},
   "outputs": [
    {
     "data": {
      "text/html": [
       "<div>\n",
       "<table border=\"1\" class=\"dataframe\">\n",
       "  <thead>\n",
       "    <tr style=\"text-align: right;\">\n",
       "      <th>civil</th>\n",
       "      <th>Casado</th>\n",
       "      <th>Soltero</th>\n",
       "      <th>All</th>\n",
       "    </tr>\n",
       "    <tr>\n",
       "      <th>churn</th>\n",
       "      <th></th>\n",
       "      <th></th>\n",
       "      <th></th>\n",
       "    </tr>\n",
       "  </thead>\n",
       "  <tbody>\n",
       "    <tr>\n",
       "      <th>Actual</th>\n",
       "      <td>494</td>\n",
       "      <td>338</td>\n",
       "      <td>832</td>\n",
       "    </tr>\n",
       "    <tr>\n",
       "      <th>Voluntario</th>\n",
       "      <td>306</td>\n",
       "      <td>207</td>\n",
       "      <td>513</td>\n",
       "    </tr>\n",
       "    <tr>\n",
       "      <th>All</th>\n",
       "      <td>800</td>\n",
       "      <td>545</td>\n",
       "      <td>1345</td>\n",
       "    </tr>\n",
       "  </tbody>\n",
       "</table>\n",
       "</div>"
      ],
      "text/plain": [
       "civil       Casado  Soltero   All\n",
       "churn                            \n",
       "Actual         494      338   832\n",
       "Voluntario     306      207   513\n",
       "All            800      545  1345"
      ]
     },
     "execution_count": 223,
     "metadata": {},
     "output_type": "execute_result"
    }
   ],
   "source": [
    "voter_tab"
   ]
  },
  {
   "cell_type": "code",
   "execution_count": 224,
   "metadata": {},
   "outputs": [
    {
     "data": {
      "text/plain": [
       "array([[494, 338],\n",
       "       [306, 207]], dtype=int64)"
      ]
     },
     "execution_count": 224,
     "metadata": {},
     "output_type": "execute_result"
    }
   ],
   "source": [
    "n=len(voter_tab)\n",
    "civil_churn=voter_tab.iloc[0:(n-1)].drop('All',axis=1).values\n",
    "civil_churn"
   ]
  },
  {
   "cell_type": "code",
   "execution_count": 226,
   "metadata": {},
   "outputs": [
    {
     "data": {
      "text/plain": [
       "(0.0017888802686799174,\n",
       " 0.96626340633593033,\n",
       " 1,\n",
       " array([[ 494.86988848,  337.13011152],\n",
       "        [ 305.13011152,  207.86988848]]))"
      ]
     },
     "execution_count": 226,
     "metadata": {},
     "output_type": "execute_result"
    }
   ],
   "source": [
    "stats.chi2_contingency(civil_churn)"
   ]
  },
  {
   "cell_type": "markdown",
   "metadata": {},
   "source": [
    "# ANOVA"
   ]
  },
  {
   "cell_type": "code",
   "execution_count": 139,
   "metadata": {},
   "outputs": [
    {
     "data": {
      "text/html": [
       "<div>\n",
       "<table border=\"1\" class=\"dataframe\">\n",
       "  <thead>\n",
       "    <tr style=\"text-align: right;\">\n",
       "      <th></th>\n",
       "      <th>ID</th>\n",
       "      <th>EDAD</th>\n",
       "      <th>SEXO</th>\n",
       "      <th>CIVIL</th>\n",
       "      <th>HIJOS</th>\n",
       "      <th>INGRESO</th>\n",
       "      <th>AUTO</th>\n",
       "      <th>CHURN</th>\n",
       "    </tr>\n",
       "  </thead>\n",
       "  <tbody>\n",
       "    <tr>\n",
       "      <th>0</th>\n",
       "      <td>0</td>\n",
       "      <td>57</td>\n",
       "      <td>Femenino</td>\n",
       "      <td>Casado</td>\n",
       "      <td>2</td>\n",
       "      <td>27535.30</td>\n",
       "      <td>Es dueño de un auto</td>\n",
       "      <td>Voluntario</td>\n",
       "    </tr>\n",
       "    <tr>\n",
       "      <th>1</th>\n",
       "      <td>4</td>\n",
       "      <td>68</td>\n",
       "      <td>Femenino</td>\n",
       "      <td>Casado</td>\n",
       "      <td>2</td>\n",
       "      <td>81000.90</td>\n",
       "      <td>No es dueño de un auto</td>\n",
       "      <td>Voluntario</td>\n",
       "    </tr>\n",
       "    <tr>\n",
       "      <th>3</th>\n",
       "      <td>10</td>\n",
       "      <td>60</td>\n",
       "      <td>Masculino</td>\n",
       "      <td>Casado</td>\n",
       "      <td>2</td>\n",
       "      <td>83220.60</td>\n",
       "      <td>No es dueño de un auto</td>\n",
       "      <td>Voluntario</td>\n",
       "    </tr>\n",
       "    <tr>\n",
       "      <th>4</th>\n",
       "      <td>13</td>\n",
       "      <td>28</td>\n",
       "      <td>Femenino</td>\n",
       "      <td>Casado</td>\n",
       "      <td>2</td>\n",
       "      <td>20850.40</td>\n",
       "      <td>No es dueño de un auto</td>\n",
       "      <td>Voluntario</td>\n",
       "    </tr>\n",
       "    <tr>\n",
       "      <th>6</th>\n",
       "      <td>19</td>\n",
       "      <td>87</td>\n",
       "      <td>Femenino</td>\n",
       "      <td>Soltero</td>\n",
       "      <td>2</td>\n",
       "      <td>3776.12</td>\n",
       "      <td>No es dueño de un auto</td>\n",
       "      <td>Voluntario</td>\n",
       "    </tr>\n",
       "  </tbody>\n",
       "</table>\n",
       "</div>"
      ],
      "text/plain": [
       "   ID  EDAD       SEXO    CIVIL  HIJOS   INGRESO                    AUTO  \\\n",
       "0   0    57   Femenino   Casado      2  27535.30     Es dueño de un auto   \n",
       "1   4    68   Femenino   Casado      2  81000.90  No es dueño de un auto   \n",
       "3  10    60  Masculino   Casado      2  83220.60  No es dueño de un auto   \n",
       "4  13    28   Femenino   Casado      2  20850.40  No es dueño de un auto   \n",
       "6  19    87   Femenino  Soltero      2   3776.12  No es dueño de un auto   \n",
       "\n",
       "        CHURN  \n",
       "0  Voluntario  \n",
       "1  Voluntario  \n",
       "3  Voluntario  \n",
       "4  Voluntario  \n",
       "6  Voluntario  "
      ]
     },
     "execution_count": 139,
     "metadata": {},
     "output_type": "execute_result"
    }
   ],
   "source": [
    "churners_data_0.head()"
   ]
  },
  {
   "cell_type": "code",
   "execution_count": 227,
   "metadata": {
    "collapsed": true
   },
   "outputs": [],
   "source": [
    "churners_d1=churners_data_0[['CIVIL','INGRESO']]"
   ]
  },
  {
   "cell_type": "code",
   "execution_count": 228,
   "metadata": {},
   "outputs": [
    {
     "data": {
      "text/plain": [
       "CIVIL\n",
       "Casado     306\n",
       "Soltero    207\n",
       "Name: CIVIL, dtype: int64"
      ]
     },
     "execution_count": 228,
     "metadata": {},
     "output_type": "execute_result"
    }
   ],
   "source": [
    "churners_d1.groupby(['CIVIL'])['CIVIL'].count()"
   ]
  },
  {
   "cell_type": "code",
   "execution_count": 229,
   "metadata": {},
   "outputs": [
    {
     "data": {
      "text/html": [
       "<div>\n",
       "<table border=\"1\" class=\"dataframe\">\n",
       "  <thead>\n",
       "    <tr style=\"text-align: right;\">\n",
       "      <th></th>\n",
       "      <th>CIVIL</th>\n",
       "      <th>INGRESO</th>\n",
       "    </tr>\n",
       "  </thead>\n",
       "  <tbody>\n",
       "    <tr>\n",
       "      <th>0</th>\n",
       "      <td>Casado</td>\n",
       "      <td>27535.3</td>\n",
       "    </tr>\n",
       "    <tr>\n",
       "      <th>1</th>\n",
       "      <td>Casado</td>\n",
       "      <td>81000.9</td>\n",
       "    </tr>\n",
       "    <tr>\n",
       "      <th>3</th>\n",
       "      <td>Casado</td>\n",
       "      <td>83220.6</td>\n",
       "    </tr>\n",
       "    <tr>\n",
       "      <th>4</th>\n",
       "      <td>Casado</td>\n",
       "      <td>20850.4</td>\n",
       "    </tr>\n",
       "    <tr>\n",
       "      <th>7</th>\n",
       "      <td>Casado</td>\n",
       "      <td>73865.9</td>\n",
       "    </tr>\n",
       "  </tbody>\n",
       "</table>\n",
       "</div>"
      ],
      "text/plain": [
       "    CIVIL  INGRESO\n",
       "0  Casado  27535.3\n",
       "1  Casado  81000.9\n",
       "3  Casado  83220.6\n",
       "4  Casado  20850.4\n",
       "7  Casado  73865.9"
      ]
     },
     "execution_count": 229,
     "metadata": {},
     "output_type": "execute_result"
    }
   ],
   "source": [
    "churners_casado=churners_d1[churners_d1['CIVIL']=='Casado']\n",
    "churners_casado.head()"
   ]
  },
  {
   "cell_type": "code",
   "execution_count": 230,
   "metadata": {},
   "outputs": [
    {
     "data": {
      "text/plain": [
       "array([ 27535.3  ,  81000.9  ,  83220.6  ,  20850.4  ,  73865.9  ,\n",
       "        12309.6  ,  13774.2  ,  23564.1  ,  87251.8  ,   2974.76 ,\n",
       "        27842.1  ,   9925.68 ,  37155.   ,  38950.5  ,  18913.2  ,\n",
       "        99398.1  ,  46734.5  ,  22767.   ,  77622.9  ,  41416.8  ,\n",
       "        27376.   ,  24943.   ,  79771.3  ,  18199.7  ,  56816.4  ,\n",
       "        50290.7  ,  63314.6  ,  42877.2  ,  18672.   ,  21126.7  ,\n",
       "        81576.2  ,  82051.9  ,  39516.3  ,  48334.1  ,  17964.   ,\n",
       "        15980.1  ,  21380.9  ,  85205.1  ,  50613.1  ,  65619.8  ,\n",
       "        95394.   ,  49188.9  ,  83165.7  ,  80667.4  ,  10250.1  ,\n",
       "        83039.2  ,  63306.6  ,  34317.6  ,  99248.1  ,   8749.8  ,\n",
       "        11434.6  ,  54430.2  ,   7071.46 ,  97318.6  ,  57611.4  ,\n",
       "          295.941,  27667.6  ,   7673.47 ,  99832.9  ,  54039.4  ,\n",
       "        17755.4  ,   4581.11 ,  63328.8  ,  62685.   ,  51014.   ,\n",
       "        18552.7  ,  50290.7  ,  37389.2  ,   5936.48 ,  42846.2  ,\n",
       "        38705.5  ,  58345.8  ,  25445.6  ,   1846.01 ,  95847.9  ,\n",
       "        86618.8  ,  50290.7  ,  84388.5  ,  57237.9  ,  25796.5  ,\n",
       "        48471.1  ,  34437.2  ,  36090.7  ,  58148.7  ,  69730.9  ,\n",
       "        38788.3  ,  35697.5  ,  94576.2  ,   4875.25 ,  50290.7  ,\n",
       "        16915.2  ,  62484.8  ,  73098.7  ,  25863.8  ,  22781.6  ,\n",
       "        69458.8  ,  96821.1  ,  16875.9  ,   5237.63 ,  79721.1  ,\n",
       "         8090.4  ,  69444.5  ,  59613.1  ,  78851.3  ,   3624.7  ,\n",
       "        36016.9  ,  39229.1  ,  67085.4  ,  35976.5  ,  77129.1  ,\n",
       "         8204.72 ,  97180.4  ,  50290.7  ,    869.57 ,  70002.4  ,\n",
       "        51812.2  ,  17700.4  ,  40027.6  ,  10878.5  ,  22198.1  ,\n",
       "        53298.7  ,  28770.9  ,  30763.8  ,   3193.6  ,  33520.9  ,\n",
       "        11268.3  ,  62229.6  ,   2056.06 ,  37121.7  ,  77374.6  ,\n",
       "        86770.4  ,  87404.6  ,  98129.   ,  85394.   ,  25738.4  ,\n",
       "        26449.8  ,  56722.8  ,  98056.3  ,  87297.9  ,  57255.4  ,\n",
       "        92103.8  ,  22137.   ,  70908.7  ,  67239.4  ,  69406.7  ,\n",
       "        83259.3  ,  20818.5  ,  11895.7  ,  51261.9  ,  76511.3  ,\n",
       "        33607.   ,  84601.4  ,  24457.6  ,  25080.6  ,  63670.8  ,\n",
       "        50290.7  ,  91051.   ,  89915.   ,  74381.5  ,  99309.   ,\n",
       "        50530.8  ,   8502.99 ,  20159.5  ,  17021.6  ,   4592.8  ,\n",
       "        47750.4  ,  83850.5  ,  50968.9  ,  87302.6  ,  83876.4  ,\n",
       "        23816.6  ,  95429.7  ,  50290.7  ,  80844.5  ,  88177.1  ,\n",
       "        87182.7  ,  74628.1  ,  98433.8  ,  95971.9  ,  50290.7  ,\n",
       "        19778.9  ,   7790.55 ,  20478.6  ,  69341.7  ,  78231.   ,\n",
       "        62260.2  ,  60170.1  ,   6528.38 ,  26074.5  ,   7700.73 ,\n",
       "         2902.34 ,  61438.2  ,  53357.9  ,  86549.5  ,  31242.1  ,\n",
       "        81711.9  ,  87844.8  ,  45488.3  ,  56545.8  ,   8469.02 ,\n",
       "        19621.6  ,  50290.7  ,  99100.1  ,  85433.1  ,  48874.7  ,\n",
       "        53755.7  ,  74263.8  ,  31561.5  ,  55187.6  ,    585.733,\n",
       "        18831.1  ,   1461.98 ,  29902.9  ,  28384.5  ,  53676.8  ,\n",
       "        57877.5  ,  47468.6  ,  44596.4  ,  67026.6  ,  24935.2  ,\n",
       "        70052.   ,  66906.6  ,  75750.1  ,  50290.7  ,  75265.3  ,\n",
       "        21890.   ,  70004.1  ,  35170.8  ,   6921.4  ,  38281.1  ,\n",
       "        25672.6  ,  38687.2  ,  95184.9  ,  57307.1  ,   8875.47 ,\n",
       "        22925.1  ,  15862.7  ,  90912.8  ,  32806.3  ,  71668.2  ,\n",
       "        26619.8  ,   8118.75 ,  27469.5  ,  62503.9  ,  75738.8  ,\n",
       "         4684.74 ,  28197.3  ,  67720.2  ,  79734.6  ,  69865.2  ,\n",
       "        50860.7  ,  15041.2  ,  87797.5  ,  26609.9  ,    887.5  ,\n",
       "         2759.49 ,  72092.3  ,  70459.5  ,  85180.1  ,  67812.8  ,\n",
       "        25921.4  ,  52989.2  ,  10286.4  ,  11253.   ,  85022.1  ,\n",
       "         9665.54 ,  12935.2  ,  47211.6  ,  97841.7  ,  33790.9  ,\n",
       "        10384.5  ,    349.091,   4324.22 ,  10385.3  ,  36638.2  ,\n",
       "        67108.3  ,  21288.3  ,  87840.6  ,  33065.   ,  50290.7  ,\n",
       "        77265.5  ,  64236.8  ,  23947.8  ,  60933.9  ,  49561.   ,\n",
       "        73728.3  ,  63778.3  ,  10107.7  ,  32118.4  ,  85246.6  ,\n",
       "        29953.1  ,  66755.6  ,  68828.4  ,  62751.3  ,  43563.4  ,\n",
       "        79685.   ,  56412.5  ,  47916.3  ,  10391.1  ,  81360.6  ,\n",
       "        94159.9  ,  62126.4  ,  91427.2  ,  44773.7  ,  18345.3  ,  85192.9  ])"
      ]
     },
     "execution_count": 230,
     "metadata": {},
     "output_type": "execute_result"
    }
   ],
   "source": [
    "ch_casados=churners_casado.iloc[:,1].values\n",
    "ch_casados"
   ]
  },
  {
   "cell_type": "code",
   "execution_count": 231,
   "metadata": {},
   "outputs": [
    {
     "data": {
      "text/html": [
       "<div>\n",
       "<table border=\"1\" class=\"dataframe\">\n",
       "  <thead>\n",
       "    <tr style=\"text-align: right;\">\n",
       "      <th></th>\n",
       "      <th>CIVIL</th>\n",
       "      <th>INGRESO</th>\n",
       "    </tr>\n",
       "  </thead>\n",
       "  <tbody>\n",
       "    <tr>\n",
       "      <th>6</th>\n",
       "      <td>Soltero</td>\n",
       "      <td>3776.12</td>\n",
       "    </tr>\n",
       "    <tr>\n",
       "      <th>10</th>\n",
       "      <td>Soltero</td>\n",
       "      <td>69864.00</td>\n",
       "    </tr>\n",
       "    <tr>\n",
       "      <th>17</th>\n",
       "      <td>Soltero</td>\n",
       "      <td>85753.80</td>\n",
       "    </tr>\n",
       "    <tr>\n",
       "      <th>29</th>\n",
       "      <td>Soltero</td>\n",
       "      <td>8383.47</td>\n",
       "    </tr>\n",
       "    <tr>\n",
       "      <th>31</th>\n",
       "      <td>Soltero</td>\n",
       "      <td>88413.40</td>\n",
       "    </tr>\n",
       "  </tbody>\n",
       "</table>\n",
       "</div>"
      ],
      "text/plain": [
       "      CIVIL   INGRESO\n",
       "6   Soltero   3776.12\n",
       "10  Soltero  69864.00\n",
       "17  Soltero  85753.80\n",
       "29  Soltero   8383.47\n",
       "31  Soltero  88413.40"
      ]
     },
     "execution_count": 231,
     "metadata": {},
     "output_type": "execute_result"
    }
   ],
   "source": [
    "churners_solteros=churners_d1[churners_d1['CIVIL']=='Soltero']\n",
    "churners_solteros.head()"
   ]
  },
  {
   "cell_type": "code",
   "execution_count": 232,
   "metadata": {},
   "outputs": [
    {
     "data": {
      "text/plain": [
       "array([  3776.12,  69864.  ,  85753.8 ,   8383.47,  88413.4 ,  81420.  ,\n",
       "        44143.1 ,  69454.6 ,  63769.7 ,  96112.1 ,  49776.2 ,   4335.86,\n",
       "        74912.1 ,   9431.04,  50290.7 ,  88990.6 ,  14740.1 ,  77293.  ,\n",
       "        48262.4 ,  79727.  ,  24896.1 ,  50050.5 ,  78854.9 ,  83977.6 ,\n",
       "        95489.4 ,  35235.9 ,  50290.7 ,  61231.7 ,  80066.3 ,  61205.6 ,\n",
       "        37809.7 ,  15434.3 ,  79133.  ,  91646.6 ,  42002.  ,  21395.2 ,\n",
       "        72800.9 ,  98860.1 ,  47396.2 ,  41624.7 ,  23892.2 ,  34160.5 ,\n",
       "        31639.2 ,  46771.2 ,  17689.2 ,  45310.4 ,  31809.7 ,  14082.  ,\n",
       "        39700.3 ,  60310.6 ,  62275.3 ,  95056.9 ,  55050.5 ,  48506.7 ,\n",
       "        54486.5 ,  57952.6 ,  19998.4 ,  43151.7 ,  17491.4 ,  10764.6 ,\n",
       "        21529.1 ,  48271.8 ,  77021.7 ,  48841.4 ,  14905.  ,  11503.8 ,\n",
       "        13094.8 ,  17540.7 ,  71906.8 ,  50290.7 ,  12686.9 ,  76845.3 ,\n",
       "        58384.3 ,  57322.1 ,   7737.94,  57904.4 ,   4972.89,  92187.1 ,\n",
       "        85774.3 ,   2638.11,  30234.8 ,  13965.4 ,  45495.  ,  77462.  ,\n",
       "        38872.3 ,  60362.1 ,  31166.6 ,  12686.  ,  86252.8 ,  27778.2 ,\n",
       "        59232.8 ,  49553.9 ,  71941.5 ,  15688.5 ,  68767.  ,   8392.14,\n",
       "        96025.5 ,   5282.6 ,  85184.6 ,  96854.3 ,  63291.1 ,  45667.1 ,\n",
       "        21709.7 ,  15906.  ,   5930.86,  16175.6 ,  97445.2 ,  59478.8 ,\n",
       "        32533.9 ,  48755.1 ,  19854.2 ,   7379.6 ,  57122.2 ,  70460.3 ,\n",
       "        32005.6 ,  55035.5 ,  66502.3 ,  40519.3 ,  36939.7 ,  42795.9 ,\n",
       "        27336.6 ,  95930.6 ,  36824.5 ,  39223.2 ,  53357.2 ,  65209.6 ,\n",
       "        86021.7 ,  26107.5 ,  54622.3 ,  68386.8 ,  92353.3 ,  62903.3 ,\n",
       "        28891.2 ,  97524.5 ,  38458.6 ,  50451.6 ,  41146.2 ,  43082.6 ,\n",
       "         7659.09,  44497.3 ,  69710.9 ,  46480.7 ,  35219.6 ,  37135.5 ,\n",
       "        47893.1 ,  90364.4 ,   4581.9 ,  15981.7 ,  21038.9 ,  49724.1 ,\n",
       "        29534.4 ,  92788.1 ,  18861.6 ,  96519.1 ,  69977.3 ,  73918.3 ,\n",
       "        11890.1 ,  94582.3 ,  61453.1 ,  63092.2 ,  39782.  ,  56562.9 ,\n",
       "        74342.9 ,  51269.9 ,   8854.31,  70492.4 ,  78796.  ,  53989.3 ,\n",
       "        96863.6 ,  26756.6 ,   4089.59,  95261.8 ,  40200.7 ,  24703.8 ,\n",
       "        52307.  ,  18172.8 ,  50290.7 ,  18151.6 ,  21893.6 ,  94665.2 ,\n",
       "        16712.9 ,  69984.1 ,  44183.9 ,  34129.2 ,  52963.3 ,  90335.6 ,\n",
       "        16463.  ,   7320.73,  60774.6 ,  20409.  ,  27492.2 ,  11659.5 ,\n",
       "        87788.7 ,  14785.7 ,  21396.2 ,  79129.2 ,  91347.1 ,  23671.6 ,\n",
       "        61639.7 ,  14258.4 ,  23657.4 ,  99514.6 ,  54844.2 ,  75826.6 ,\n",
       "         8604.64,  87872.9 ,  52997.5 ])"
      ]
     },
     "execution_count": 232,
     "metadata": {},
     "output_type": "execute_result"
    }
   ],
   "source": [
    "ch_solteros=churners_solteros.iloc[:,1].values\n",
    "ch_solteros"
   ]
  },
  {
   "cell_type": "code",
   "execution_count": 233,
   "metadata": {},
   "outputs": [
    {
     "data": {
      "text/plain": [
       "F_onewayResult(statistic=0.017814394459747213, pvalue=0.89387377927474354)"
      ]
     },
     "execution_count": 233,
     "metadata": {},
     "output_type": "execute_result"
    }
   ],
   "source": [
    "stats.f_oneway(ch_casados,ch_solteros)"
   ]
  },
  {
   "cell_type": "markdown",
   "metadata": {},
   "source": [
    "El primer valor nos da el estadístico de prueba (F) y el segundo valor es el pvalor de la prueba"
   ]
  },
  {
   "cell_type": "code",
   "execution_count": null,
   "metadata": {
    "collapsed": true
   },
   "outputs": [],
   "source": []
  }
 ],
 "metadata": {
  "anaconda-cloud": {},
  "kernelspec": {
   "display_name": "Python 3",
   "language": "python",
   "name": "python3"
  },
  "language_info": {
   "codemirror_mode": {
    "name": "ipython",
    "version": 3
   },
   "file_extension": ".py",
   "mimetype": "text/x-python",
   "name": "python",
   "nbconvert_exporter": "python",
   "pygments_lexer": "ipython3",
   "version": "3.6.1"
  }
 },
 "nbformat": 4,
 "nbformat_minor": 1
}
